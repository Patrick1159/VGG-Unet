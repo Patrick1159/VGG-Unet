{
 "cells": [
  {
   "cell_type": "code",
   "execution_count": 9,
   "metadata": {},
   "outputs": [
    {
     "name": "stdout",
     "output_type": "stream",
     "text": [
      "torch.Size([1, 11, 720, 960])\n"
     ]
    }
   ],
   "source": [
    "import torch\n",
    "import torch.nn as nn\n",
    "import torchvision.models as models\n",
    "\n",
    "class VGG16UNet(nn.Module):\n",
    "    def __init__(self, num_classes=1):\n",
    "        super(VGG16UNet, self).__init__()\n",
    "        vgg16 = models.vgg16(pretrained=True)\n",
    "        \n",
    "        # 提取 VGG16 编码器的不同层作为跳跃连接\n",
    "        self.enc1 = nn.Sequential(*vgg16.features[:4])   # block1_conv2 (64)\n",
    "        self.enc2 = nn.Sequential(*vgg16.features[4:9])  # block2_conv2 (128)\n",
    "        self.enc3 = nn.Sequential(*vgg16.features[9:16]) # block3_conv3 (256)\n",
    "        self.enc4 = nn.Sequential(*vgg16.features[16:23])# block4_conv3 (512)\n",
    "        self.enc5 = nn.Sequential(*vgg16.features[23:30])# block5_conv3 (512)\n",
    "        \n",
    "        # 解码器部分\n",
    "        self.dec5 = self.decoder_block(512, 512)\n",
    "        self.dec4 = self.decoder_block(512, 256)\n",
    "        self.dec3 = self.decoder_block(256, 128)\n",
    "        self.dec2 = self.decoder_block(128, 64)\n",
    "        # self.dec1 = self.decoder_block(64, 32)\n",
    "        self.dec1 = nn.Conv2d(64, 32, kernel_size=1) # 使用1*1的卷积核保持尺寸\n",
    "        \n",
    "        # 最终输出层 \n",
    "        self.final_conv = nn.Conv2d(32, num_classes, kernel_size=1)\n",
    "\n",
    "    def decoder_block(self, in_channels, out_channels):\n",
    "        return nn.Sequential(\n",
    "            nn.ConvTranspose2d(in_channels, out_channels, kernel_size=3, stride=2, padding=1, output_padding=1),\n",
    "            nn.Conv2d(out_channels, out_channels, kernel_size=3, padding=1),\n",
    "            nn.ReLU(inplace=True),\n",
    "            nn.Conv2d(out_channels, out_channels, kernel_size=3, padding=1),\n",
    "            nn.ReLU(inplace=True)\n",
    "        )\n",
    "    \n",
    "    def forward(self, x):\n",
    "        # 编码器部分\n",
    "        s1 = self.enc1(x)  # (224,224,64)\n",
    "        s2 = self.enc2(s1) # (112,112,128)\n",
    "        s3 = self.enc3(s2) # (56,56,256)\n",
    "        s4 = self.enc4(s3) # (28,28,512)\n",
    "        s5 = self.enc5(s4) # (14,14,512)\n",
    "        \n",
    "        # 解码器部分\n",
    "        d5 = self.dec5(s5) + s4  # (28,28,512)\n",
    "        d4 = self.dec4(d5) + s3  # (56,56,256)\n",
    "        d3 = self.dec3(d4) + s2  # (112,112,128)\n",
    "        d2 = self.dec2(d3) + s1  # (224,224,64)\n",
    "        d1 = self.dec1(d2)       # (448,448,32)\n",
    "        \n",
    "        # 最终输出\n",
    "        # output = torch.sigmoid(self.final_conv(d1))\n",
    "        output = self.final_conv(d1)\n",
    "\n",
    "        # print(\"s1:\", s1.shape)\n",
    "        # print(\"s2:\", s2.shape)\n",
    "        # print(\"s3:\", s3.shape)\n",
    "        # print(\"s4:\", s4.shape)\n",
    "        # print(\"s5:\", s5.shape)\n",
    "        # print(\"d5:\", d5.shape)\n",
    "        # print(\"d4:\", d4.shape)\n",
    "        # print(\"d3:\", d3.shape)\n",
    "        # print(\"d2:\", d2.shape)\n",
    "        # print(\"d1:\", d1.shape)\n",
    "        # print(\"output:\", output.shape)\n",
    "        return output\n",
    "\n",
    "# 测试网络\n",
    "if __name__ == \"__main__\":\n",
    "    model = VGG16UNet(num_classes=11)\n",
    "    x = torch.randn(1, 3, 720, 960)  # 测试输入\n",
    "    output = model(x)\n",
    "    print(output.shape)  # 应该输出 (1, 11, 224, 224)\n"
   ]
  },
  {
   "cell_type": "code",
   "execution_count": 11,
   "metadata": {},
   "outputs": [
    {
     "name": "stdout",
     "output_type": "stream",
     "text": [
      "torch.Size([2, 3, 720, 960])\n",
      "torch.Size([2, 720, 960])\n"
     ]
    }
   ],
   "source": [
    "# 创建数据集\n",
    "import os\n",
    "import numpy as np\n",
    "from torch.utils.data import Dataset, DataLoader\n",
    "import torchvision.transforms as transforms\n",
    "from PIL import Image\n",
    "class Camvid(Dataset):\n",
    "    def __init__(self, root_dir, label_dir, data_dir, transforms4img=transforms.ToTensor()):\n",
    "        \"\"\"在此声明class中的全局变量\"\"\"\n",
    "        self.root_dir = root_dir\n",
    "        self.label_dir = label_dir\n",
    "        self.data_dir = data_dir\n",
    "        # image\n",
    "        self.img_dir = os.path.join(self.root_dir, self.data_dir)\n",
    "        self.img_path = sorted(os.listdir(self.img_dir)) # sorted()保留顺序\n",
    "        # label\n",
    "        self.label_dir = os.path.join(self.root_dir, self.label_dir)\n",
    "        self.label_path = sorted(os.listdir(self.label_dir))\n",
    "        self.transforms4data = transforms4img\n",
    "        # self.transform4label = transforms4label\n",
    "\n",
    "    def __getitem__(self, idx):\n",
    "        \"\"\"\n",
    "        return: image: Image类型 -> tensor\n",
    "                label: np.array类型 -> tensor\n",
    "                transforms.ToTensor()的过程将label/255以得到[0,1]间的scalar\n",
    "        \"\"\"\n",
    "        # image\n",
    "        image_name = self.img_path[idx]\n",
    "        # print(self.img_path)\n",
    "        image_item_path = os.path.join(self.root_dir, self.img_dir, image_name)\n",
    "        image = Image.open(image_item_path)\n",
    "        # label\n",
    "        label_name = self.label_path[idx]\n",
    "        # print(self.label_path)\n",
    "        label_item_path = os.path.join(self.root_dir, self.label_dir, label_name)\n",
    "        label = np.load(label_item_path)\n",
    "\n",
    "        image = self.transforms4data(image)\n",
    "        # label = self.transforms4data(label)\n",
    "        # label = label.numpy()\n",
    "        label = torch.from_numpy(label).long()  # 转换为 LongTensor（0-31）\n",
    "        # label = label.unsqueeze(dim=0)\n",
    "        return image, label\n",
    "    \n",
    "    def __len__(self):\n",
    "        return(len(self.img_path))\n",
    "    \n",
    "rootdir = \"/home/sugon/zpy/U-NET/U-net/unet_data\"\n",
    "datadir = \"train\"\n",
    "labeldir = \"train_numpy\"\n",
    "transforms_img = transforms.Compose([\n",
    "    transforms.ToTensor(),\n",
    "    # transforms.Resize((128,128))\n",
    "\n",
    "])\n",
    "camvid_dataset = Camvid(root_dir=rootdir, label_dir=labeldir, data_dir=datadir, transforms4img=transforms_img)\n",
    "\n",
    "# test\n",
    "\n",
    "train_loader = DataLoader(dataset=camvid_dataset, shuffle=True, batch_size=2, drop_last=True, num_workers=0)\n",
    "\n",
    "for data, label in train_loader:\n",
    "    # x, label = data\n",
    "    print(data.shape)\n",
    "    print(label.shape)\n",
    "    break\n"
   ]
  },
  {
   "cell_type": "code",
   "execution_count": null,
   "metadata": {},
   "outputs": [],
   "source": [
    "import torch.optim as optim\n",
    "from tqdm import tqdm\n",
    "import os\n",
    "\n",
    "os.environ[\"PYTORCH_CUDA_ALLOC_CONF\"] = \"expandable_segments:True\"\n",
    "\n",
    "\n",
    "device = torch.device(\"cuda\" if torch.cuda.is_available() else \"cpu\")\n",
    "device_ids = [0,1,2,3]\n",
    "model = VGG16UNet(num_classes=1).cuda(device_ids[0])\n",
    "# model = nn.DataParallel(model, device_ids=device_ids)\n",
    "criterion = nn.CrossEntropyLoss()  # 使用交叉熵损失函数\n",
    "optimizer = optim.Adam(model.parameters(), lr=1e-5)\n",
    "# optimizer = optim.SGD(model.parameters(), lr=1e-3, momentum=0.9)\n",
    "epochs = 100\n",
    "\n",
    "for epoch in tqdm(range(epochs)):\n",
    "    model.train()\n",
    "    running_loss = 0.0\n",
    "    for batch_idx, (data, target) in enumerate(train_loader):\n",
    "        data = data.cuda(device_ids[0])\n",
    "        target = target.cuda(device_ids[0])\n",
    "        # print(data.shape, target.shape)\n",
    "        optimizer.zero_grad()  # 清空梯度\n",
    "        output = model(data)  # 前向传播\n",
    "        loss = criterion(output, target)  # 计算损失\n",
    "        loss.backward()  # 反向传播\n",
    "        optimizer.step()  # 更新参数\n",
    "\n",
    "        running_loss += loss.item()\n",
    "        if batch_idx % 100 == 0:\n",
    "            print(f\"Epoch {epoch + 1}/{epochs}, Batch {batch_idx}/{len(train_loader)}, Loss: {loss.item():.4f}\")\n",
    "    print(f\"Epoch {epoch + 1} finished. Average Loss: {running_loss / len(train_loader):.4f}\")\n",
    "\n",
    "# 模型评估\n",
    "# model.eval()  # 设置模型为评估模式\n",
    "# correct = 0\n",
    "# total = 0\n",
    "# with torch.no_grad():  # 关闭梯度计算\n",
    "#     for data, target in test_loader:\n",
    "#         output = model(data)\n",
    "#         _, predicted = torch.max(output.data, 1)  # 获取预测结果\n",
    "#         total += target.size(0)\n",
    "#         correct += (predicted == target).sum().item()\n",
    "\n",
    "# accuracy = 100 * correct / total\n",
    "# print(f\"Test Accuracy: {accuracy:.2f}%\")"
   ]
  },
  {
   "cell_type": "code",
   "execution_count": 25,
   "metadata": {},
   "outputs": [
    {
     "name": "stdout",
     "output_type": "stream",
     "text": [
      "tensor([ 0,  1,  2,  3,  4,  5,  6,  7,  8,  9, 10])\n",
      "torch.Size([2, 11, 720, 960])\n",
      "2.424468994140625\n"
     ]
    }
   ],
   "source": [
    "print(label.unique())\n",
    "model = VGG16UNet(num_classes=11)\n",
    "print(model(data).shape)\n",
    "criterion = nn.CrossEntropyLoss()\n",
    "\n",
    "# 计算损失\n",
    "loss = criterion(model(data), label)\n",
    "\n",
    "print(loss.item())  # 输出损失值"
   ]
  },
  {
   "cell_type": "code",
   "execution_count": null,
   "metadata": {},
   "outputs": [],
   "source": [
    "import torch\n",
    "torch.cuda.empty_cache()"
   ]
  },
  {
   "cell_type": "code",
   "execution_count": 26,
   "metadata": {},
   "outputs": [
    {
     "name": "stdout",
     "output_type": "stream",
     "text": [
      "Total parameters: 24894475\n"
     ]
    }
   ],
   "source": [
    "total_params = sum(p.numel() for p in model.parameters())\n",
    "print(f\"Total parameters: {total_params}\")\n"
   ]
  },
  {
   "cell_type": "code",
   "execution_count": 13,
   "metadata": {},
   "outputs": [
    {
     "name": "stderr",
     "output_type": "stream",
     "text": [
      "/tmp/ipykernel_3031745/925570820.py:44: FutureWarning: You are using `torch.load` with `weights_only=False` (the current default value), which uses the default pickle module implicitly. It is possible to construct malicious pickle data which will execute arbitrary code during unpickling (See https://github.com/pytorch/pytorch/blob/main/SECURITY.md#untrusted-models for more details). In a future release, the default value for `weights_only` will be flipped to `True`. This limits the functions that could be executed during unpickling. Arbitrary objects will no longer be allowed to be loaded via this mode unless they are explicitly allowlisted by the user via `torch.serialization.add_safe_globals`. We recommend you start setting `weights_only=True` for any use case where you don't have full control of the loaded file. Please open an issue on GitHub for any issues related to this experimental feature.\n",
      "  model.load_state_dict(torch.load(\"/home/sugon/zpy/U-NET/U-net/train_results/vgg16_unet_epoch_99.pth\", map_location=device)) # 从60代开始训\n",
      "Epoch 1/1000: 100%|██████████| 216/216 [02:11<00:00,  1.65it/s, loss=0.0755]\n"
     ]
    },
    {
     "name": "stdout",
     "output_type": "stream",
     "text": [
      "Epoch [1/1000], Loss: 0.0755\n",
      "Epoch [1/1000], Loss: 0.0755, Train Accuracy: 0.9823, Validation Accuracy: 0.9801, IoU: 0.8566\n"
     ]
    },
    {
     "name": "stderr",
     "output_type": "stream",
     "text": [
      "Epoch 2/1000: 100%|██████████| 216/216 [02:17<00:00,  1.57it/s, loss=0.0512]\n"
     ]
    },
    {
     "name": "stdout",
     "output_type": "stream",
     "text": [
      "Epoch [2/1000], Loss: 0.0512\n"
     ]
    },
    {
     "name": "stderr",
     "output_type": "stream",
     "text": [
      "Epoch 3/1000: 100%|██████████| 216/216 [02:17<00:00,  1.58it/s, loss=0.0434]\n"
     ]
    },
    {
     "name": "stdout",
     "output_type": "stream",
     "text": [
      "Epoch [3/1000], Loss: 0.0434\n"
     ]
    },
    {
     "name": "stderr",
     "output_type": "stream",
     "text": [
      "Epoch 4/1000: 100%|██████████| 216/216 [02:16<00:00,  1.58it/s, loss=0.0373]\n"
     ]
    },
    {
     "name": "stdout",
     "output_type": "stream",
     "text": [
      "Epoch [4/1000], Loss: 0.0373\n"
     ]
    },
    {
     "name": "stderr",
     "output_type": "stream",
     "text": [
      "Epoch 5/1000: 100%|██████████| 216/216 [02:17<00:00,  1.57it/s, loss=0.0348]\n"
     ]
    },
    {
     "name": "stdout",
     "output_type": "stream",
     "text": [
      "Epoch [5/1000], Loss: 0.0348\n"
     ]
    },
    {
     "name": "stderr",
     "output_type": "stream",
     "text": [
      "Epoch 6/1000: 100%|██████████| 216/216 [02:17<00:00,  1.57it/s, loss=0.0646]\n"
     ]
    },
    {
     "name": "stdout",
     "output_type": "stream",
     "text": [
      "Epoch [6/1000], Loss: 0.0646\n"
     ]
    },
    {
     "name": "stderr",
     "output_type": "stream",
     "text": [
      "Epoch 7/1000: 100%|██████████| 216/216 [02:17<00:00,  1.57it/s, loss=0.0535]\n"
     ]
    },
    {
     "name": "stdout",
     "output_type": "stream",
     "text": [
      "Epoch [7/1000], Loss: 0.0535\n"
     ]
    },
    {
     "name": "stderr",
     "output_type": "stream",
     "text": [
      "Epoch 8/1000: 100%|██████████| 216/216 [02:17<00:00,  1.57it/s, loss=0.0348]\n"
     ]
    },
    {
     "name": "stdout",
     "output_type": "stream",
     "text": [
      "Epoch [8/1000], Loss: 0.0348\n"
     ]
    },
    {
     "name": "stderr",
     "output_type": "stream",
     "text": [
      "Epoch 9/1000: 100%|██████████| 216/216 [02:16<00:00,  1.58it/s, loss=0.0307]\n"
     ]
    },
    {
     "name": "stdout",
     "output_type": "stream",
     "text": [
      "Epoch [9/1000], Loss: 0.0307\n"
     ]
    },
    {
     "name": "stderr",
     "output_type": "stream",
     "text": [
      "Epoch 10/1000: 100%|██████████| 216/216 [02:16<00:00,  1.58it/s, loss=0.0289]\n"
     ]
    },
    {
     "name": "stdout",
     "output_type": "stream",
     "text": [
      "Epoch [10/1000], Loss: 0.0289\n"
     ]
    },
    {
     "name": "stderr",
     "output_type": "stream",
     "text": [
      "Epoch 11/1000: 100%|██████████| 216/216 [02:17<00:00,  1.57it/s, loss=0.028] \n"
     ]
    },
    {
     "name": "stdout",
     "output_type": "stream",
     "text": [
      "Epoch [11/1000], Loss: 0.0280\n"
     ]
    },
    {
     "name": "stderr",
     "output_type": "stream",
     "text": [
      "Epoch 12/1000: 100%|██████████| 216/216 [02:17<00:00,  1.57it/s, loss=0.0276]\n"
     ]
    },
    {
     "name": "stdout",
     "output_type": "stream",
     "text": [
      "Epoch [12/1000], Loss: 0.0276\n"
     ]
    },
    {
     "name": "stderr",
     "output_type": "stream",
     "text": [
      "Epoch 13/1000: 100%|██████████| 216/216 [02:17<00:00,  1.57it/s, loss=0.0277]\n"
     ]
    },
    {
     "name": "stdout",
     "output_type": "stream",
     "text": [
      "Epoch [13/1000], Loss: 0.0277\n"
     ]
    },
    {
     "name": "stderr",
     "output_type": "stream",
     "text": [
      "Epoch 14/1000: 100%|██████████| 216/216 [02:17<00:00,  1.57it/s, loss=0.0284]\n"
     ]
    },
    {
     "name": "stdout",
     "output_type": "stream",
     "text": [
      "Epoch [14/1000], Loss: 0.0284\n"
     ]
    },
    {
     "name": "stderr",
     "output_type": "stream",
     "text": [
      "Epoch 15/1000: 100%|██████████| 216/216 [02:17<00:00,  1.57it/s, loss=0.0285]\n"
     ]
    },
    {
     "name": "stdout",
     "output_type": "stream",
     "text": [
      "Epoch [15/1000], Loss: 0.0285\n"
     ]
    },
    {
     "name": "stderr",
     "output_type": "stream",
     "text": [
      "Epoch 16/1000: 100%|██████████| 216/216 [02:16<00:00,  1.58it/s, loss=0.0287]\n"
     ]
    },
    {
     "name": "stdout",
     "output_type": "stream",
     "text": [
      "Epoch [16/1000], Loss: 0.0287\n"
     ]
    },
    {
     "name": "stderr",
     "output_type": "stream",
     "text": [
      "Epoch 17/1000: 100%|██████████| 216/216 [02:16<00:00,  1.58it/s, loss=0.0285]\n"
     ]
    },
    {
     "name": "stdout",
     "output_type": "stream",
     "text": [
      "Epoch [17/1000], Loss: 0.0285\n"
     ]
    },
    {
     "name": "stderr",
     "output_type": "stream",
     "text": [
      "Epoch 18/1000: 100%|██████████| 216/216 [02:17<00:00,  1.57it/s, loss=0.028] \n"
     ]
    },
    {
     "name": "stdout",
     "output_type": "stream",
     "text": [
      "Epoch [18/1000], Loss: 0.0280\n"
     ]
    },
    {
     "name": "stderr",
     "output_type": "stream",
     "text": [
      "Epoch 19/1000: 100%|██████████| 216/216 [02:17<00:00,  1.57it/s, loss=0.0283]\n"
     ]
    },
    {
     "name": "stdout",
     "output_type": "stream",
     "text": [
      "Epoch [19/1000], Loss: 0.0283\n"
     ]
    },
    {
     "name": "stderr",
     "output_type": "stream",
     "text": [
      "Epoch 20/1000: 100%|██████████| 216/216 [02:18<00:00,  1.56it/s, loss=0.028] \n"
     ]
    },
    {
     "name": "stdout",
     "output_type": "stream",
     "text": [
      "Epoch [20/1000], Loss: 0.0280\n"
     ]
    },
    {
     "name": "stderr",
     "output_type": "stream",
     "text": [
      "Epoch 21/1000: 100%|██████████| 216/216 [02:17<00:00,  1.57it/s, loss=0.0281]\n"
     ]
    },
    {
     "name": "stdout",
     "output_type": "stream",
     "text": [
      "Epoch [21/1000], Loss: 0.0281\n"
     ]
    },
    {
     "name": "stderr",
     "output_type": "stream",
     "text": [
      "Epoch 22/1000: 100%|██████████| 216/216 [02:17<00:00,  1.57it/s, loss=0.0273]\n"
     ]
    },
    {
     "name": "stdout",
     "output_type": "stream",
     "text": [
      "Epoch [22/1000], Loss: 0.0273\n"
     ]
    },
    {
     "name": "stderr",
     "output_type": "stream",
     "text": [
      "Epoch 23/1000: 100%|██████████| 216/216 [02:16<00:00,  1.58it/s, loss=0.0265]\n"
     ]
    },
    {
     "name": "stdout",
     "output_type": "stream",
     "text": [
      "Epoch [23/1000], Loss: 0.0265\n"
     ]
    },
    {
     "name": "stderr",
     "output_type": "stream",
     "text": [
      "Epoch 24/1000: 100%|██████████| 216/216 [02:17<00:00,  1.58it/s, loss=0.0262]\n"
     ]
    },
    {
     "name": "stdout",
     "output_type": "stream",
     "text": [
      "Epoch [24/1000], Loss: 0.0262\n"
     ]
    },
    {
     "name": "stderr",
     "output_type": "stream",
     "text": [
      "Epoch 25/1000: 100%|██████████| 216/216 [02:17<00:00,  1.58it/s, loss=0.028] \n"
     ]
    },
    {
     "name": "stdout",
     "output_type": "stream",
     "text": [
      "Epoch [25/1000], Loss: 0.0280\n"
     ]
    },
    {
     "name": "stderr",
     "output_type": "stream",
     "text": [
      "Epoch 26/1000: 100%|██████████| 216/216 [02:17<00:00,  1.58it/s, loss=0.0325]\n"
     ]
    },
    {
     "name": "stdout",
     "output_type": "stream",
     "text": [
      "Epoch [26/1000], Loss: 0.0325\n"
     ]
    },
    {
     "name": "stderr",
     "output_type": "stream",
     "text": [
      "Epoch 27/1000: 100%|██████████| 216/216 [02:16<00:00,  1.58it/s, loss=0.0284]\n"
     ]
    },
    {
     "name": "stdout",
     "output_type": "stream",
     "text": [
      "Epoch [27/1000], Loss: 0.0284\n"
     ]
    },
    {
     "name": "stderr",
     "output_type": "stream",
     "text": [
      "Epoch 28/1000: 100%|██████████| 216/216 [02:15<00:00,  1.59it/s, loss=0.0255]\n"
     ]
    },
    {
     "name": "stdout",
     "output_type": "stream",
     "text": [
      "Epoch [28/1000], Loss: 0.0255\n"
     ]
    },
    {
     "name": "stderr",
     "output_type": "stream",
     "text": [
      "Epoch 29/1000: 100%|██████████| 216/216 [02:15<00:00,  1.59it/s, loss=0.0246]\n"
     ]
    },
    {
     "name": "stdout",
     "output_type": "stream",
     "text": [
      "Epoch [29/1000], Loss: 0.0246\n"
     ]
    },
    {
     "name": "stderr",
     "output_type": "stream",
     "text": [
      "Epoch 30/1000: 100%|██████████| 216/216 [02:15<00:00,  1.59it/s, loss=0.0249]\n"
     ]
    },
    {
     "name": "stdout",
     "output_type": "stream",
     "text": [
      "Epoch [30/1000], Loss: 0.0249\n"
     ]
    },
    {
     "name": "stderr",
     "output_type": "stream",
     "text": [
      "Epoch 31/1000: 100%|██████████| 216/216 [02:15<00:00,  1.60it/s, loss=0.0253]\n"
     ]
    },
    {
     "name": "stdout",
     "output_type": "stream",
     "text": [
      "Epoch [31/1000], Loss: 0.0253\n"
     ]
    },
    {
     "name": "stderr",
     "output_type": "stream",
     "text": [
      "Epoch 32/1000: 100%|██████████| 216/216 [02:15<00:00,  1.59it/s, loss=0.026] \n"
     ]
    },
    {
     "name": "stdout",
     "output_type": "stream",
     "text": [
      "Epoch [32/1000], Loss: 0.0260\n"
     ]
    },
    {
     "name": "stderr",
     "output_type": "stream",
     "text": [
      "Epoch 33/1000: 100%|██████████| 216/216 [02:15<00:00,  1.59it/s, loss=0.0265]\n"
     ]
    },
    {
     "name": "stdout",
     "output_type": "stream",
     "text": [
      "Epoch [33/1000], Loss: 0.0265\n"
     ]
    },
    {
     "name": "stderr",
     "output_type": "stream",
     "text": [
      "Epoch 34/1000: 100%|██████████| 216/216 [02:16<00:00,  1.58it/s, loss=0.0286]\n"
     ]
    },
    {
     "name": "stdout",
     "output_type": "stream",
     "text": [
      "Epoch [34/1000], Loss: 0.0286\n"
     ]
    },
    {
     "name": "stderr",
     "output_type": "stream",
     "text": [
      "Epoch 35/1000: 100%|██████████| 216/216 [02:16<00:00,  1.58it/s, loss=0.133]\n"
     ]
    },
    {
     "name": "stdout",
     "output_type": "stream",
     "text": [
      "Epoch [35/1000], Loss: 0.1331\n"
     ]
    },
    {
     "name": "stderr",
     "output_type": "stream",
     "text": [
      "Epoch 36/1000: 100%|██████████| 216/216 [02:16<00:00,  1.59it/s, loss=0.0361]\n"
     ]
    },
    {
     "name": "stdout",
     "output_type": "stream",
     "text": [
      "Epoch [36/1000], Loss: 0.0361\n"
     ]
    },
    {
     "name": "stderr",
     "output_type": "stream",
     "text": [
      "Epoch 37/1000: 100%|██████████| 216/216 [02:16<00:00,  1.58it/s, loss=0.0266]\n"
     ]
    },
    {
     "name": "stdout",
     "output_type": "stream",
     "text": [
      "Epoch [37/1000], Loss: 0.0266\n"
     ]
    },
    {
     "name": "stderr",
     "output_type": "stream",
     "text": [
      "Epoch 38/1000: 100%|██████████| 216/216 [02:16<00:00,  1.58it/s, loss=0.0234]\n"
     ]
    },
    {
     "name": "stdout",
     "output_type": "stream",
     "text": [
      "Epoch [38/1000], Loss: 0.0234\n"
     ]
    },
    {
     "name": "stderr",
     "output_type": "stream",
     "text": [
      "Epoch 39/1000: 100%|██████████| 216/216 [02:16<00:00,  1.59it/s, loss=0.0218]\n"
     ]
    },
    {
     "name": "stdout",
     "output_type": "stream",
     "text": [
      "Epoch [39/1000], Loss: 0.0218\n"
     ]
    },
    {
     "name": "stderr",
     "output_type": "stream",
     "text": [
      "Epoch 40/1000: 100%|██████████| 216/216 [02:16<00:00,  1.59it/s, loss=0.0208]\n"
     ]
    },
    {
     "name": "stdout",
     "output_type": "stream",
     "text": [
      "Epoch [40/1000], Loss: 0.0208\n"
     ]
    },
    {
     "name": "stderr",
     "output_type": "stream",
     "text": [
      "Epoch 41/1000: 100%|██████████| 216/216 [02:15<00:00,  1.59it/s, loss=0.0204]\n"
     ]
    },
    {
     "name": "stdout",
     "output_type": "stream",
     "text": [
      "Epoch [41/1000], Loss: 0.0204\n"
     ]
    },
    {
     "name": "stderr",
     "output_type": "stream",
     "text": [
      "Epoch 42/1000: 100%|██████████| 216/216 [02:16<00:00,  1.59it/s, loss=0.0203]\n"
     ]
    },
    {
     "name": "stdout",
     "output_type": "stream",
     "text": [
      "Epoch [42/1000], Loss: 0.0203\n"
     ]
    },
    {
     "name": "stderr",
     "output_type": "stream",
     "text": [
      "Epoch 43/1000: 100%|██████████| 216/216 [02:16<00:00,  1.59it/s, loss=0.0203]\n"
     ]
    },
    {
     "name": "stdout",
     "output_type": "stream",
     "text": [
      "Epoch [43/1000], Loss: 0.0203\n"
     ]
    },
    {
     "name": "stderr",
     "output_type": "stream",
     "text": [
      "Epoch 44/1000: 100%|██████████| 216/216 [02:16<00:00,  1.58it/s, loss=0.0208]\n"
     ]
    },
    {
     "name": "stdout",
     "output_type": "stream",
     "text": [
      "Epoch [44/1000], Loss: 0.0208\n"
     ]
    },
    {
     "name": "stderr",
     "output_type": "stream",
     "text": [
      "Epoch 45/1000: 100%|██████████| 216/216 [02:15<00:00,  1.59it/s, loss=0.0211]\n"
     ]
    },
    {
     "name": "stdout",
     "output_type": "stream",
     "text": [
      "Epoch [45/1000], Loss: 0.0211\n"
     ]
    },
    {
     "name": "stderr",
     "output_type": "stream",
     "text": [
      "Epoch 46/1000: 100%|██████████| 216/216 [02:16<00:00,  1.59it/s, loss=0.0212]\n"
     ]
    },
    {
     "name": "stdout",
     "output_type": "stream",
     "text": [
      "Epoch [46/1000], Loss: 0.0212\n"
     ]
    },
    {
     "name": "stderr",
     "output_type": "stream",
     "text": [
      "Epoch 47/1000: 100%|██████████| 216/216 [02:16<00:00,  1.58it/s, loss=0.0214]\n"
     ]
    },
    {
     "name": "stdout",
     "output_type": "stream",
     "text": [
      "Epoch [47/1000], Loss: 0.0214\n"
     ]
    },
    {
     "name": "stderr",
     "output_type": "stream",
     "text": [
      "Epoch 48/1000: 100%|██████████| 216/216 [02:15<00:00,  1.59it/s, loss=0.0214]\n"
     ]
    },
    {
     "name": "stdout",
     "output_type": "stream",
     "text": [
      "Epoch [48/1000], Loss: 0.0214\n"
     ]
    },
    {
     "name": "stderr",
     "output_type": "stream",
     "text": [
      "Epoch 49/1000: 100%|██████████| 216/216 [02:15<00:00,  1.59it/s, loss=0.0216]\n"
     ]
    },
    {
     "name": "stdout",
     "output_type": "stream",
     "text": [
      "Epoch [49/1000], Loss: 0.0216\n"
     ]
    },
    {
     "name": "stderr",
     "output_type": "stream",
     "text": [
      "Epoch 50/1000: 100%|██████████| 216/216 [02:15<00:00,  1.59it/s, loss=0.0217]\n"
     ]
    },
    {
     "name": "stdout",
     "output_type": "stream",
     "text": [
      "Epoch [50/1000], Loss: 0.0217\n"
     ]
    },
    {
     "name": "stderr",
     "output_type": "stream",
     "text": [
      "Epoch 51/1000: 100%|██████████| 216/216 [02:16<00:00,  1.58it/s, loss=0.022] \n"
     ]
    },
    {
     "name": "stdout",
     "output_type": "stream",
     "text": [
      "Epoch [51/1000], Loss: 0.0220\n",
      "Epoch [51/1000], Loss: 0.0220, Train Accuracy: 0.9904, Validation Accuracy: 0.9762, IoU: 0.8422\n"
     ]
    },
    {
     "name": "stderr",
     "output_type": "stream",
     "text": [
      "Epoch 52/1000: 100%|██████████| 216/216 [02:16<00:00,  1.58it/s, loss=0.0227]\n"
     ]
    },
    {
     "name": "stdout",
     "output_type": "stream",
     "text": [
      "Epoch [52/1000], Loss: 0.0227\n"
     ]
    },
    {
     "name": "stderr",
     "output_type": "stream",
     "text": [
      "Epoch 53/1000: 100%|██████████| 216/216 [02:16<00:00,  1.58it/s, loss=0.0221]\n"
     ]
    },
    {
     "name": "stdout",
     "output_type": "stream",
     "text": [
      "Epoch [53/1000], Loss: 0.0221\n"
     ]
    },
    {
     "name": "stderr",
     "output_type": "stream",
     "text": [
      "Epoch 54/1000: 100%|██████████| 216/216 [02:16<00:00,  1.58it/s, loss=0.0219]\n"
     ]
    },
    {
     "name": "stdout",
     "output_type": "stream",
     "text": [
      "Epoch [54/1000], Loss: 0.0219\n"
     ]
    },
    {
     "name": "stderr",
     "output_type": "stream",
     "text": [
      "Epoch 55/1000: 100%|██████████| 216/216 [02:16<00:00,  1.58it/s, loss=0.0219]\n"
     ]
    },
    {
     "name": "stdout",
     "output_type": "stream",
     "text": [
      "Epoch [55/1000], Loss: 0.0219\n"
     ]
    },
    {
     "name": "stderr",
     "output_type": "stream",
     "text": [
      "Epoch 56/1000: 100%|██████████| 216/216 [02:16<00:00,  1.58it/s, loss=0.022] \n"
     ]
    },
    {
     "name": "stdout",
     "output_type": "stream",
     "text": [
      "Epoch [56/1000], Loss: 0.0220\n"
     ]
    },
    {
     "name": "stderr",
     "output_type": "stream",
     "text": [
      "Epoch 57/1000: 100%|██████████| 216/216 [02:16<00:00,  1.58it/s, loss=0.0224]\n"
     ]
    },
    {
     "name": "stdout",
     "output_type": "stream",
     "text": [
      "Epoch [57/1000], Loss: 0.0224\n"
     ]
    },
    {
     "name": "stderr",
     "output_type": "stream",
     "text": [
      "Epoch 58/1000: 100%|██████████| 216/216 [02:15<00:00,  1.59it/s, loss=0.0217]\n"
     ]
    },
    {
     "name": "stdout",
     "output_type": "stream",
     "text": [
      "Epoch [58/1000], Loss: 0.0217\n"
     ]
    },
    {
     "name": "stderr",
     "output_type": "stream",
     "text": [
      "Epoch 59/1000: 100%|██████████| 216/216 [02:16<00:00,  1.58it/s, loss=0.021] \n"
     ]
    },
    {
     "name": "stdout",
     "output_type": "stream",
     "text": [
      "Epoch [59/1000], Loss: 0.0210\n"
     ]
    },
    {
     "name": "stderr",
     "output_type": "stream",
     "text": [
      "Epoch 60/1000: 100%|██████████| 216/216 [02:16<00:00,  1.58it/s, loss=0.0207]\n"
     ]
    },
    {
     "name": "stdout",
     "output_type": "stream",
     "text": [
      "Epoch [60/1000], Loss: 0.0207\n"
     ]
    },
    {
     "name": "stderr",
     "output_type": "stream",
     "text": [
      "Epoch 61/1000: 100%|██████████| 216/216 [02:16<00:00,  1.58it/s, loss=0.0209]\n"
     ]
    },
    {
     "name": "stdout",
     "output_type": "stream",
     "text": [
      "Epoch [61/1000], Loss: 0.0209\n"
     ]
    },
    {
     "name": "stderr",
     "output_type": "stream",
     "text": [
      "Epoch 62/1000: 100%|██████████| 216/216 [02:17<00:00,  1.57it/s, loss=0.0208]\n"
     ]
    },
    {
     "name": "stdout",
     "output_type": "stream",
     "text": [
      "Epoch [62/1000], Loss: 0.0208\n"
     ]
    },
    {
     "name": "stderr",
     "output_type": "stream",
     "text": [
      "Epoch 63/1000: 100%|██████████| 216/216 [02:16<00:00,  1.58it/s, loss=0.0209]\n"
     ]
    },
    {
     "name": "stdout",
     "output_type": "stream",
     "text": [
      "Epoch [63/1000], Loss: 0.0209\n"
     ]
    },
    {
     "name": "stderr",
     "output_type": "stream",
     "text": [
      "Epoch 64/1000: 100%|██████████| 216/216 [02:16<00:00,  1.59it/s, loss=0.0204]\n"
     ]
    },
    {
     "name": "stdout",
     "output_type": "stream",
     "text": [
      "Epoch [64/1000], Loss: 0.0204\n"
     ]
    },
    {
     "name": "stderr",
     "output_type": "stream",
     "text": [
      "Epoch 65/1000: 100%|██████████| 216/216 [02:16<00:00,  1.59it/s, loss=0.027] \n"
     ]
    },
    {
     "name": "stdout",
     "output_type": "stream",
     "text": [
      "Epoch [65/1000], Loss: 0.0270\n"
     ]
    },
    {
     "name": "stderr",
     "output_type": "stream",
     "text": [
      "Epoch 66/1000: 100%|██████████| 216/216 [02:15<00:00,  1.59it/s, loss=0.0258]\n"
     ]
    },
    {
     "name": "stdout",
     "output_type": "stream",
     "text": [
      "Epoch [66/1000], Loss: 0.0258\n"
     ]
    },
    {
     "name": "stderr",
     "output_type": "stream",
     "text": [
      "Epoch 67/1000: 100%|██████████| 216/216 [02:15<00:00,  1.59it/s, loss=0.0208]\n"
     ]
    },
    {
     "name": "stdout",
     "output_type": "stream",
     "text": [
      "Epoch [67/1000], Loss: 0.0208\n"
     ]
    },
    {
     "name": "stderr",
     "output_type": "stream",
     "text": [
      "Epoch 68/1000: 100%|██████████| 216/216 [02:16<00:00,  1.59it/s, loss=0.0191]\n"
     ]
    },
    {
     "name": "stdout",
     "output_type": "stream",
     "text": [
      "Epoch [68/1000], Loss: 0.0191\n"
     ]
    },
    {
     "name": "stderr",
     "output_type": "stream",
     "text": [
      "Epoch 69/1000: 100%|██████████| 216/216 [02:16<00:00,  1.58it/s, loss=0.0187]\n"
     ]
    },
    {
     "name": "stdout",
     "output_type": "stream",
     "text": [
      "Epoch [69/1000], Loss: 0.0187\n"
     ]
    },
    {
     "name": "stderr",
     "output_type": "stream",
     "text": [
      "Epoch 70/1000: 100%|██████████| 216/216 [02:16<00:00,  1.58it/s, loss=0.0188]\n"
     ]
    },
    {
     "name": "stdout",
     "output_type": "stream",
     "text": [
      "Epoch [70/1000], Loss: 0.0188\n"
     ]
    },
    {
     "name": "stderr",
     "output_type": "stream",
     "text": [
      "Epoch 71/1000: 100%|██████████| 216/216 [02:16<00:00,  1.59it/s, loss=0.0189]\n"
     ]
    },
    {
     "name": "stdout",
     "output_type": "stream",
     "text": [
      "Epoch [71/1000], Loss: 0.0189\n"
     ]
    },
    {
     "name": "stderr",
     "output_type": "stream",
     "text": [
      "Epoch 72/1000: 100%|██████████| 216/216 [02:16<00:00,  1.58it/s, loss=0.0194]\n"
     ]
    },
    {
     "name": "stdout",
     "output_type": "stream",
     "text": [
      "Epoch [72/1000], Loss: 0.0194\n"
     ]
    },
    {
     "name": "stderr",
     "output_type": "stream",
     "text": [
      "Epoch 73/1000: 100%|██████████| 216/216 [02:16<00:00,  1.58it/s, loss=0.0195]\n"
     ]
    },
    {
     "name": "stdout",
     "output_type": "stream",
     "text": [
      "Epoch [73/1000], Loss: 0.0195\n"
     ]
    },
    {
     "name": "stderr",
     "output_type": "stream",
     "text": [
      "Epoch 74/1000: 100%|██████████| 216/216 [02:16<00:00,  1.58it/s, loss=0.0196]\n"
     ]
    },
    {
     "name": "stdout",
     "output_type": "stream",
     "text": [
      "Epoch [74/1000], Loss: 0.0196\n"
     ]
    },
    {
     "name": "stderr",
     "output_type": "stream",
     "text": [
      "Epoch 75/1000: 100%|██████████| 216/216 [02:16<00:00,  1.59it/s, loss=0.0191]\n"
     ]
    },
    {
     "name": "stdout",
     "output_type": "stream",
     "text": [
      "Epoch [75/1000], Loss: 0.0191\n"
     ]
    },
    {
     "name": "stderr",
     "output_type": "stream",
     "text": [
      "Epoch 76/1000: 100%|██████████| 216/216 [02:16<00:00,  1.58it/s, loss=0.0189]\n"
     ]
    },
    {
     "name": "stdout",
     "output_type": "stream",
     "text": [
      "Epoch [76/1000], Loss: 0.0189\n"
     ]
    },
    {
     "name": "stderr",
     "output_type": "stream",
     "text": [
      "Epoch 77/1000: 100%|██████████| 216/216 [02:16<00:00,  1.58it/s, loss=0.0192]\n"
     ]
    },
    {
     "name": "stdout",
     "output_type": "stream",
     "text": [
      "Epoch [77/1000], Loss: 0.0192\n"
     ]
    },
    {
     "name": "stderr",
     "output_type": "stream",
     "text": [
      "Epoch 78/1000: 100%|██████████| 216/216 [02:16<00:00,  1.58it/s, loss=0.0191]\n"
     ]
    },
    {
     "name": "stdout",
     "output_type": "stream",
     "text": [
      "Epoch [78/1000], Loss: 0.0191\n"
     ]
    },
    {
     "name": "stderr",
     "output_type": "stream",
     "text": [
      "Epoch 79/1000: 100%|██████████| 216/216 [02:15<00:00,  1.59it/s, loss=0.0189]\n"
     ]
    },
    {
     "name": "stdout",
     "output_type": "stream",
     "text": [
      "Epoch [79/1000], Loss: 0.0189\n"
     ]
    },
    {
     "name": "stderr",
     "output_type": "stream",
     "text": [
      "Epoch 80/1000: 100%|██████████| 216/216 [02:16<00:00,  1.59it/s, loss=0.0184]\n"
     ]
    },
    {
     "name": "stdout",
     "output_type": "stream",
     "text": [
      "Epoch [80/1000], Loss: 0.0184\n"
     ]
    },
    {
     "name": "stderr",
     "output_type": "stream",
     "text": [
      "Epoch 81/1000: 100%|██████████| 216/216 [02:15<00:00,  1.59it/s, loss=0.0183]\n"
     ]
    },
    {
     "name": "stdout",
     "output_type": "stream",
     "text": [
      "Epoch [81/1000], Loss: 0.0183\n"
     ]
    },
    {
     "name": "stderr",
     "output_type": "stream",
     "text": [
      "Epoch 82/1000: 100%|██████████| 216/216 [02:16<00:00,  1.59it/s, loss=0.0186]\n"
     ]
    },
    {
     "name": "stdout",
     "output_type": "stream",
     "text": [
      "Epoch [82/1000], Loss: 0.0186\n"
     ]
    },
    {
     "name": "stderr",
     "output_type": "stream",
     "text": [
      "Epoch 83/1000: 100%|██████████| 216/216 [02:16<00:00,  1.58it/s, loss=0.0185]\n"
     ]
    },
    {
     "name": "stdout",
     "output_type": "stream",
     "text": [
      "Epoch [83/1000], Loss: 0.0185\n"
     ]
    },
    {
     "name": "stderr",
     "output_type": "stream",
     "text": [
      "Epoch 84/1000: 100%|██████████| 216/216 [02:15<00:00,  1.59it/s, loss=0.0187]\n"
     ]
    },
    {
     "name": "stdout",
     "output_type": "stream",
     "text": [
      "Epoch [84/1000], Loss: 0.0187\n"
     ]
    },
    {
     "name": "stderr",
     "output_type": "stream",
     "text": [
      "Epoch 85/1000: 100%|██████████| 216/216 [02:16<00:00,  1.59it/s, loss=0.0208]\n"
     ]
    },
    {
     "name": "stdout",
     "output_type": "stream",
     "text": [
      "Epoch [85/1000], Loss: 0.0208\n"
     ]
    },
    {
     "name": "stderr",
     "output_type": "stream",
     "text": [
      "Epoch 86/1000: 100%|██████████| 216/216 [02:16<00:00,  1.58it/s, loss=0.0193]\n"
     ]
    },
    {
     "name": "stdout",
     "output_type": "stream",
     "text": [
      "Epoch [86/1000], Loss: 0.0193\n"
     ]
    },
    {
     "name": "stderr",
     "output_type": "stream",
     "text": [
      "Epoch 87/1000: 100%|██████████| 216/216 [02:16<00:00,  1.58it/s, loss=0.0175]\n"
     ]
    },
    {
     "name": "stdout",
     "output_type": "stream",
     "text": [
      "Epoch [87/1000], Loss: 0.0175\n"
     ]
    },
    {
     "name": "stderr",
     "output_type": "stream",
     "text": [
      "Epoch 88/1000: 100%|██████████| 216/216 [02:16<00:00,  1.59it/s, loss=0.017] \n"
     ]
    },
    {
     "name": "stdout",
     "output_type": "stream",
     "text": [
      "Epoch [88/1000], Loss: 0.0170\n"
     ]
    },
    {
     "name": "stderr",
     "output_type": "stream",
     "text": [
      "Epoch 89/1000: 100%|██████████| 216/216 [02:16<00:00,  1.58it/s, loss=0.0169]\n"
     ]
    },
    {
     "name": "stdout",
     "output_type": "stream",
     "text": [
      "Epoch [89/1000], Loss: 0.0169\n"
     ]
    },
    {
     "name": "stderr",
     "output_type": "stream",
     "text": [
      "Epoch 90/1000: 100%|██████████| 216/216 [02:15<00:00,  1.59it/s, loss=0.0172]\n"
     ]
    },
    {
     "name": "stdout",
     "output_type": "stream",
     "text": [
      "Epoch [90/1000], Loss: 0.0172\n"
     ]
    },
    {
     "name": "stderr",
     "output_type": "stream",
     "text": [
      "Epoch 91/1000: 100%|██████████| 216/216 [02:15<00:00,  1.59it/s, loss=0.0175]\n"
     ]
    },
    {
     "name": "stdout",
     "output_type": "stream",
     "text": [
      "Epoch [91/1000], Loss: 0.0175\n"
     ]
    },
    {
     "name": "stderr",
     "output_type": "stream",
     "text": [
      "Epoch 92/1000: 100%|██████████| 216/216 [02:15<00:00,  1.59it/s, loss=0.0177]\n"
     ]
    },
    {
     "name": "stdout",
     "output_type": "stream",
     "text": [
      "Epoch [92/1000], Loss: 0.0177\n"
     ]
    },
    {
     "name": "stderr",
     "output_type": "stream",
     "text": [
      "Epoch 93/1000: 100%|██████████| 216/216 [02:16<00:00,  1.58it/s, loss=0.0174]\n"
     ]
    },
    {
     "name": "stdout",
     "output_type": "stream",
     "text": [
      "Epoch [93/1000], Loss: 0.0174\n"
     ]
    },
    {
     "name": "stderr",
     "output_type": "stream",
     "text": [
      "Epoch 94/1000: 100%|██████████| 216/216 [02:16<00:00,  1.59it/s, loss=0.0169]\n"
     ]
    },
    {
     "name": "stdout",
     "output_type": "stream",
     "text": [
      "Epoch [94/1000], Loss: 0.0169\n"
     ]
    },
    {
     "name": "stderr",
     "output_type": "stream",
     "text": [
      "Epoch 95/1000: 100%|██████████| 216/216 [02:16<00:00,  1.59it/s, loss=0.0929]\n"
     ]
    },
    {
     "name": "stdout",
     "output_type": "stream",
     "text": [
      "Epoch [95/1000], Loss: 0.0929\n"
     ]
    },
    {
     "name": "stderr",
     "output_type": "stream",
     "text": [
      "Epoch 96/1000: 100%|██████████| 216/216 [02:16<00:00,  1.59it/s, loss=0.0412]\n"
     ]
    },
    {
     "name": "stdout",
     "output_type": "stream",
     "text": [
      "Epoch [96/1000], Loss: 0.0412\n"
     ]
    },
    {
     "name": "stderr",
     "output_type": "stream",
     "text": [
      "Epoch 97/1000: 100%|██████████| 216/216 [02:16<00:00,  1.58it/s, loss=0.0225]\n"
     ]
    },
    {
     "name": "stdout",
     "output_type": "stream",
     "text": [
      "Epoch [97/1000], Loss: 0.0225\n"
     ]
    },
    {
     "name": "stderr",
     "output_type": "stream",
     "text": [
      "Epoch 98/1000: 100%|██████████| 216/216 [02:17<00:00,  1.58it/s, loss=0.0185]\n"
     ]
    },
    {
     "name": "stdout",
     "output_type": "stream",
     "text": [
      "Epoch [98/1000], Loss: 0.0185\n"
     ]
    },
    {
     "name": "stderr",
     "output_type": "stream",
     "text": [
      "Epoch 99/1000: 100%|██████████| 216/216 [02:16<00:00,  1.58it/s, loss=0.0166]\n"
     ]
    },
    {
     "name": "stdout",
     "output_type": "stream",
     "text": [
      "Epoch [99/1000], Loss: 0.0166\n"
     ]
    },
    {
     "name": "stderr",
     "output_type": "stream",
     "text": [
      "Epoch 100/1000: 100%|██████████| 216/216 [02:17<00:00,  1.58it/s, loss=0.0156]\n"
     ]
    },
    {
     "name": "stdout",
     "output_type": "stream",
     "text": [
      "Epoch [100/1000], Loss: 0.0156\n"
     ]
    },
    {
     "name": "stderr",
     "output_type": "stream",
     "text": [
      "Epoch 101/1000: 100%|██████████| 216/216 [02:16<00:00,  1.58it/s, loss=0.0148]\n"
     ]
    },
    {
     "name": "stdout",
     "output_type": "stream",
     "text": [
      "Epoch [101/1000], Loss: 0.0148\n",
      "Epoch [101/1000], Loss: 0.0148, Train Accuracy: 0.9940, Validation Accuracy: 0.9735, IoU: 0.8158\n"
     ]
    },
    {
     "name": "stderr",
     "output_type": "stream",
     "text": [
      "Epoch 102/1000: 100%|██████████| 216/216 [02:15<00:00,  1.59it/s, loss=0.0143]\n"
     ]
    },
    {
     "name": "stdout",
     "output_type": "stream",
     "text": [
      "Epoch [102/1000], Loss: 0.0143\n"
     ]
    },
    {
     "name": "stderr",
     "output_type": "stream",
     "text": [
      "Epoch 103/1000: 100%|██████████| 216/216 [02:16<00:00,  1.59it/s, loss=0.014] \n"
     ]
    },
    {
     "name": "stdout",
     "output_type": "stream",
     "text": [
      "Epoch [103/1000], Loss: 0.0140\n"
     ]
    },
    {
     "name": "stderr",
     "output_type": "stream",
     "text": [
      "Epoch 104/1000: 100%|██████████| 216/216 [02:15<00:00,  1.59it/s, loss=0.0138]\n"
     ]
    },
    {
     "name": "stdout",
     "output_type": "stream",
     "text": [
      "Epoch [104/1000], Loss: 0.0138\n"
     ]
    },
    {
     "name": "stderr",
     "output_type": "stream",
     "text": [
      "Epoch 105/1000: 100%|██████████| 216/216 [02:16<00:00,  1.59it/s, loss=0.0141]\n"
     ]
    },
    {
     "name": "stdout",
     "output_type": "stream",
     "text": [
      "Epoch [105/1000], Loss: 0.0141\n"
     ]
    },
    {
     "name": "stderr",
     "output_type": "stream",
     "text": [
      "Epoch 106/1000: 100%|██████████| 216/216 [02:16<00:00,  1.59it/s, loss=0.0144]\n"
     ]
    },
    {
     "name": "stdout",
     "output_type": "stream",
     "text": [
      "Epoch [106/1000], Loss: 0.0144\n"
     ]
    },
    {
     "name": "stderr",
     "output_type": "stream",
     "text": [
      "Epoch 107/1000: 100%|██████████| 216/216 [02:16<00:00,  1.58it/s, loss=0.0149]\n"
     ]
    },
    {
     "name": "stdout",
     "output_type": "stream",
     "text": [
      "Epoch [107/1000], Loss: 0.0149\n"
     ]
    },
    {
     "name": "stderr",
     "output_type": "stream",
     "text": [
      "Epoch 108/1000: 100%|██████████| 216/216 [02:16<00:00,  1.58it/s, loss=0.0151]\n"
     ]
    },
    {
     "name": "stdout",
     "output_type": "stream",
     "text": [
      "Epoch [108/1000], Loss: 0.0151\n"
     ]
    },
    {
     "name": "stderr",
     "output_type": "stream",
     "text": [
      "Epoch 109/1000: 100%|██████████| 216/216 [02:16<00:00,  1.59it/s, loss=0.0153]\n"
     ]
    },
    {
     "name": "stdout",
     "output_type": "stream",
     "text": [
      "Epoch [109/1000], Loss: 0.0153\n"
     ]
    },
    {
     "name": "stderr",
     "output_type": "stream",
     "text": [
      "Epoch 110/1000: 100%|██████████| 216/216 [02:16<00:00,  1.58it/s, loss=0.0151]\n"
     ]
    },
    {
     "name": "stdout",
     "output_type": "stream",
     "text": [
      "Epoch [110/1000], Loss: 0.0151\n"
     ]
    },
    {
     "name": "stderr",
     "output_type": "stream",
     "text": [
      "Epoch 111/1000: 100%|██████████| 216/216 [02:16<00:00,  1.58it/s, loss=0.0148]\n"
     ]
    },
    {
     "name": "stdout",
     "output_type": "stream",
     "text": [
      "Epoch [111/1000], Loss: 0.0148\n"
     ]
    },
    {
     "name": "stderr",
     "output_type": "stream",
     "text": [
      "Epoch 112/1000: 100%|██████████| 216/216 [02:16<00:00,  1.58it/s, loss=0.015] \n"
     ]
    },
    {
     "name": "stdout",
     "output_type": "stream",
     "text": [
      "Epoch [112/1000], Loss: 0.0150\n"
     ]
    },
    {
     "name": "stderr",
     "output_type": "stream",
     "text": [
      "Epoch 113/1000: 100%|██████████| 216/216 [02:15<00:00,  1.59it/s, loss=0.0159]\n"
     ]
    },
    {
     "name": "stdout",
     "output_type": "stream",
     "text": [
      "Epoch [113/1000], Loss: 0.0159\n"
     ]
    },
    {
     "name": "stderr",
     "output_type": "stream",
     "text": [
      "Epoch 114/1000: 100%|██████████| 216/216 [02:16<00:00,  1.58it/s, loss=0.0165]\n"
     ]
    },
    {
     "name": "stdout",
     "output_type": "stream",
     "text": [
      "Epoch [114/1000], Loss: 0.0165\n"
     ]
    },
    {
     "name": "stderr",
     "output_type": "stream",
     "text": [
      "Epoch 115/1000: 100%|██████████| 216/216 [02:16<00:00,  1.58it/s, loss=0.016] \n"
     ]
    },
    {
     "name": "stdout",
     "output_type": "stream",
     "text": [
      "Epoch [115/1000], Loss: 0.0160\n"
     ]
    },
    {
     "name": "stderr",
     "output_type": "stream",
     "text": [
      "Epoch 116/1000: 100%|██████████| 216/216 [02:16<00:00,  1.58it/s, loss=0.0155]\n"
     ]
    },
    {
     "name": "stdout",
     "output_type": "stream",
     "text": [
      "Epoch [116/1000], Loss: 0.0155\n"
     ]
    },
    {
     "name": "stderr",
     "output_type": "stream",
     "text": [
      "Epoch 117/1000: 100%|██████████| 216/216 [02:16<00:00,  1.59it/s, loss=0.0153]\n"
     ]
    },
    {
     "name": "stdout",
     "output_type": "stream",
     "text": [
      "Epoch [117/1000], Loss: 0.0153\n"
     ]
    },
    {
     "name": "stderr",
     "output_type": "stream",
     "text": [
      "Epoch 118/1000: 100%|██████████| 216/216 [02:16<00:00,  1.58it/s, loss=0.0151]\n"
     ]
    },
    {
     "name": "stdout",
     "output_type": "stream",
     "text": [
      "Epoch [118/1000], Loss: 0.0151\n"
     ]
    },
    {
     "name": "stderr",
     "output_type": "stream",
     "text": [
      "Epoch 119/1000: 100%|██████████| 216/216 [02:16<00:00,  1.58it/s, loss=0.0152]\n"
     ]
    },
    {
     "name": "stdout",
     "output_type": "stream",
     "text": [
      "Epoch [119/1000], Loss: 0.0152\n"
     ]
    },
    {
     "name": "stderr",
     "output_type": "stream",
     "text": [
      "Epoch 120/1000: 100%|██████████| 216/216 [02:16<00:00,  1.59it/s, loss=0.0155]\n"
     ]
    },
    {
     "name": "stdout",
     "output_type": "stream",
     "text": [
      "Epoch [120/1000], Loss: 0.0155\n"
     ]
    },
    {
     "name": "stderr",
     "output_type": "stream",
     "text": [
      "Epoch 121/1000: 100%|██████████| 216/216 [02:16<00:00,  1.59it/s, loss=0.0153]\n"
     ]
    },
    {
     "name": "stdout",
     "output_type": "stream",
     "text": [
      "Epoch [121/1000], Loss: 0.0153\n"
     ]
    },
    {
     "name": "stderr",
     "output_type": "stream",
     "text": [
      "Epoch 122/1000: 100%|██████████| 216/216 [02:16<00:00,  1.59it/s, loss=0.0156]\n"
     ]
    },
    {
     "name": "stdout",
     "output_type": "stream",
     "text": [
      "Epoch [122/1000], Loss: 0.0156\n"
     ]
    },
    {
     "name": "stderr",
     "output_type": "stream",
     "text": [
      "Epoch 123/1000: 100%|██████████| 216/216 [02:15<00:00,  1.59it/s, loss=0.0157]\n"
     ]
    },
    {
     "name": "stdout",
     "output_type": "stream",
     "text": [
      "Epoch [123/1000], Loss: 0.0157\n"
     ]
    },
    {
     "name": "stderr",
     "output_type": "stream",
     "text": [
      "Epoch 124/1000: 100%|██████████| 216/216 [02:15<00:00,  1.59it/s, loss=0.0156]\n"
     ]
    },
    {
     "name": "stdout",
     "output_type": "stream",
     "text": [
      "Epoch [124/1000], Loss: 0.0156\n"
     ]
    },
    {
     "name": "stderr",
     "output_type": "stream",
     "text": [
      "Epoch 125/1000: 100%|██████████| 216/216 [02:16<00:00,  1.58it/s, loss=0.0154]\n"
     ]
    },
    {
     "name": "stdout",
     "output_type": "stream",
     "text": [
      "Epoch [125/1000], Loss: 0.0154\n"
     ]
    },
    {
     "name": "stderr",
     "output_type": "stream",
     "text": [
      "Epoch 126/1000: 100%|██████████| 216/216 [02:16<00:00,  1.59it/s, loss=0.0154]\n"
     ]
    },
    {
     "name": "stdout",
     "output_type": "stream",
     "text": [
      "Epoch [126/1000], Loss: 0.0154\n"
     ]
    },
    {
     "name": "stderr",
     "output_type": "stream",
     "text": [
      "Epoch 127/1000: 100%|██████████| 216/216 [02:16<00:00,  1.58it/s, loss=0.0156]\n"
     ]
    },
    {
     "name": "stdout",
     "output_type": "stream",
     "text": [
      "Epoch [127/1000], Loss: 0.0156\n"
     ]
    },
    {
     "name": "stderr",
     "output_type": "stream",
     "text": [
      "Epoch 128/1000: 100%|██████████| 216/216 [02:15<00:00,  1.59it/s, loss=0.0157]\n"
     ]
    },
    {
     "name": "stdout",
     "output_type": "stream",
     "text": [
      "Epoch [128/1000], Loss: 0.0157\n"
     ]
    },
    {
     "name": "stderr",
     "output_type": "stream",
     "text": [
      "Epoch 129/1000: 100%|██████████| 216/216 [02:15<00:00,  1.59it/s, loss=0.0152]\n"
     ]
    },
    {
     "name": "stdout",
     "output_type": "stream",
     "text": [
      "Epoch [129/1000], Loss: 0.0152\n"
     ]
    },
    {
     "name": "stderr",
     "output_type": "stream",
     "text": [
      "Epoch 130/1000: 100%|██████████| 216/216 [02:15<00:00,  1.59it/s, loss=0.0146]\n"
     ]
    },
    {
     "name": "stdout",
     "output_type": "stream",
     "text": [
      "Epoch [130/1000], Loss: 0.0146\n"
     ]
    },
    {
     "name": "stderr",
     "output_type": "stream",
     "text": [
      "Epoch 131/1000: 100%|██████████| 216/216 [02:15<00:00,  1.59it/s, loss=0.0147]\n"
     ]
    },
    {
     "name": "stdout",
     "output_type": "stream",
     "text": [
      "Epoch [131/1000], Loss: 0.0147\n"
     ]
    },
    {
     "name": "stderr",
     "output_type": "stream",
     "text": [
      "Epoch 132/1000: 100%|██████████| 216/216 [02:15<00:00,  1.59it/s, loss=0.0145]\n"
     ]
    },
    {
     "name": "stdout",
     "output_type": "stream",
     "text": [
      "Epoch [132/1000], Loss: 0.0145\n"
     ]
    },
    {
     "name": "stderr",
     "output_type": "stream",
     "text": [
      "Epoch 133/1000: 100%|██████████| 216/216 [02:16<00:00,  1.59it/s, loss=0.0146]\n"
     ]
    },
    {
     "name": "stdout",
     "output_type": "stream",
     "text": [
      "Epoch [133/1000], Loss: 0.0146\n"
     ]
    },
    {
     "name": "stderr",
     "output_type": "stream",
     "text": [
      "Epoch 134/1000: 100%|██████████| 216/216 [02:15<00:00,  1.59it/s, loss=0.0147]\n"
     ]
    },
    {
     "name": "stdout",
     "output_type": "stream",
     "text": [
      "Epoch [134/1000], Loss: 0.0147\n"
     ]
    },
    {
     "name": "stderr",
     "output_type": "stream",
     "text": [
      "Epoch 135/1000: 100%|██████████| 216/216 [02:15<00:00,  1.59it/s, loss=0.0145]\n"
     ]
    },
    {
     "name": "stdout",
     "output_type": "stream",
     "text": [
      "Epoch [135/1000], Loss: 0.0145\n"
     ]
    },
    {
     "name": "stderr",
     "output_type": "stream",
     "text": [
      "Epoch 136/1000: 100%|██████████| 216/216 [02:15<00:00,  1.59it/s, loss=0.0145]\n"
     ]
    },
    {
     "name": "stdout",
     "output_type": "stream",
     "text": [
      "Epoch [136/1000], Loss: 0.0145\n"
     ]
    },
    {
     "name": "stderr",
     "output_type": "stream",
     "text": [
      "Epoch 137/1000: 100%|██████████| 216/216 [02:15<00:00,  1.59it/s, loss=0.0148]\n"
     ]
    },
    {
     "name": "stdout",
     "output_type": "stream",
     "text": [
      "Epoch [137/1000], Loss: 0.0148\n"
     ]
    },
    {
     "name": "stderr",
     "output_type": "stream",
     "text": [
      "Epoch 138/1000: 100%|██████████| 216/216 [02:16<00:00,  1.58it/s, loss=0.0146]\n"
     ]
    },
    {
     "name": "stdout",
     "output_type": "stream",
     "text": [
      "Epoch [138/1000], Loss: 0.0146\n"
     ]
    },
    {
     "name": "stderr",
     "output_type": "stream",
     "text": [
      "Epoch 139/1000: 100%|██████████| 216/216 [02:16<00:00,  1.58it/s, loss=0.0148]\n"
     ]
    },
    {
     "name": "stdout",
     "output_type": "stream",
     "text": [
      "Epoch [139/1000], Loss: 0.0148\n"
     ]
    },
    {
     "name": "stderr",
     "output_type": "stream",
     "text": [
      "Epoch 140/1000: 100%|██████████| 216/216 [02:15<00:00,  1.59it/s, loss=0.0144]\n"
     ]
    },
    {
     "name": "stdout",
     "output_type": "stream",
     "text": [
      "Epoch [140/1000], Loss: 0.0144\n"
     ]
    },
    {
     "name": "stderr",
     "output_type": "stream",
     "text": [
      "Epoch 141/1000: 100%|██████████| 216/216 [02:15<00:00,  1.59it/s, loss=0.0141]\n"
     ]
    },
    {
     "name": "stdout",
     "output_type": "stream",
     "text": [
      "Epoch [141/1000], Loss: 0.0141\n"
     ]
    },
    {
     "name": "stderr",
     "output_type": "stream",
     "text": [
      "Epoch 142/1000: 100%|██████████| 216/216 [02:15<00:00,  1.59it/s, loss=0.0138]\n"
     ]
    },
    {
     "name": "stdout",
     "output_type": "stream",
     "text": [
      "Epoch [142/1000], Loss: 0.0138\n"
     ]
    },
    {
     "name": "stderr",
     "output_type": "stream",
     "text": [
      "Epoch 143/1000: 100%|██████████| 216/216 [02:15<00:00,  1.59it/s, loss=0.0139]\n"
     ]
    },
    {
     "name": "stdout",
     "output_type": "stream",
     "text": [
      "Epoch [143/1000], Loss: 0.0139\n"
     ]
    },
    {
     "name": "stderr",
     "output_type": "stream",
     "text": [
      "Epoch 144/1000: 100%|██████████| 216/216 [02:15<00:00,  1.59it/s, loss=0.0139]\n"
     ]
    },
    {
     "name": "stdout",
     "output_type": "stream",
     "text": [
      "Epoch [144/1000], Loss: 0.0139\n"
     ]
    },
    {
     "name": "stderr",
     "output_type": "stream",
     "text": [
      "Epoch 145/1000: 100%|██████████| 216/216 [02:15<00:00,  1.59it/s, loss=0.0141]\n"
     ]
    },
    {
     "name": "stdout",
     "output_type": "stream",
     "text": [
      "Epoch [145/1000], Loss: 0.0141\n"
     ]
    },
    {
     "name": "stderr",
     "output_type": "stream",
     "text": [
      "Epoch 146/1000: 100%|██████████| 216/216 [02:16<00:00,  1.59it/s, loss=0.0137]\n"
     ]
    },
    {
     "name": "stdout",
     "output_type": "stream",
     "text": [
      "Epoch [146/1000], Loss: 0.0137\n"
     ]
    },
    {
     "name": "stderr",
     "output_type": "stream",
     "text": [
      "Epoch 147/1000: 100%|██████████| 216/216 [02:15<00:00,  1.59it/s, loss=0.0138]\n"
     ]
    },
    {
     "name": "stdout",
     "output_type": "stream",
     "text": [
      "Epoch [147/1000], Loss: 0.0138\n"
     ]
    },
    {
     "name": "stderr",
     "output_type": "stream",
     "text": [
      "Epoch 148/1000: 100%|██████████| 216/216 [02:15<00:00,  1.59it/s, loss=0.0138]\n"
     ]
    },
    {
     "name": "stdout",
     "output_type": "stream",
     "text": [
      "Epoch [148/1000], Loss: 0.0138\n"
     ]
    },
    {
     "name": "stderr",
     "output_type": "stream",
     "text": [
      "Epoch 149/1000: 100%|██████████| 216/216 [02:15<00:00,  1.59it/s, loss=0.0135]\n"
     ]
    },
    {
     "name": "stdout",
     "output_type": "stream",
     "text": [
      "Epoch [149/1000], Loss: 0.0135\n"
     ]
    },
    {
     "name": "stderr",
     "output_type": "stream",
     "text": [
      "Epoch 150/1000: 100%|██████████| 216/216 [02:15<00:00,  1.59it/s, loss=0.0136]\n"
     ]
    },
    {
     "name": "stdout",
     "output_type": "stream",
     "text": [
      "Epoch [150/1000], Loss: 0.0136\n"
     ]
    },
    {
     "name": "stderr",
     "output_type": "stream",
     "text": [
      "Epoch 151/1000: 100%|██████████| 216/216 [02:16<00:00,  1.59it/s, loss=0.0137]\n"
     ]
    },
    {
     "name": "stdout",
     "output_type": "stream",
     "text": [
      "Epoch [151/1000], Loss: 0.0137\n",
      "Epoch [151/1000], Loss: 0.0137, Train Accuracy: 0.9942, Validation Accuracy: 0.9715, IoU: 0.8039\n"
     ]
    },
    {
     "name": "stderr",
     "output_type": "stream",
     "text": [
      "Epoch 152/1000: 100%|██████████| 216/216 [02:16<00:00,  1.58it/s, loss=0.014] \n"
     ]
    },
    {
     "name": "stdout",
     "output_type": "stream",
     "text": [
      "Epoch [152/1000], Loss: 0.0140\n"
     ]
    },
    {
     "name": "stderr",
     "output_type": "stream",
     "text": [
      "Epoch 153/1000: 100%|██████████| 216/216 [02:16<00:00,  1.59it/s, loss=0.0137]\n"
     ]
    },
    {
     "name": "stdout",
     "output_type": "stream",
     "text": [
      "Epoch [153/1000], Loss: 0.0137\n"
     ]
    },
    {
     "name": "stderr",
     "output_type": "stream",
     "text": [
      "Epoch 154/1000: 100%|██████████| 216/216 [02:15<00:00,  1.59it/s, loss=0.0134]\n"
     ]
    },
    {
     "name": "stdout",
     "output_type": "stream",
     "text": [
      "Epoch [154/1000], Loss: 0.0134\n"
     ]
    },
    {
     "name": "stderr",
     "output_type": "stream",
     "text": [
      "Epoch 155/1000: 100%|██████████| 216/216 [02:15<00:00,  1.59it/s, loss=0.0131]\n"
     ]
    },
    {
     "name": "stdout",
     "output_type": "stream",
     "text": [
      "Epoch [155/1000], Loss: 0.0131\n"
     ]
    },
    {
     "name": "stderr",
     "output_type": "stream",
     "text": [
      "Epoch 156/1000: 100%|██████████| 216/216 [02:15<00:00,  1.59it/s, loss=0.013] \n"
     ]
    },
    {
     "name": "stdout",
     "output_type": "stream",
     "text": [
      "Epoch [156/1000], Loss: 0.0130\n"
     ]
    },
    {
     "name": "stderr",
     "output_type": "stream",
     "text": [
      "Epoch 157/1000: 100%|██████████| 216/216 [02:16<00:00,  1.59it/s, loss=0.013] \n"
     ]
    },
    {
     "name": "stdout",
     "output_type": "stream",
     "text": [
      "Epoch [157/1000], Loss: 0.0130\n"
     ]
    },
    {
     "name": "stderr",
     "output_type": "stream",
     "text": [
      "Epoch 158/1000: 100%|██████████| 216/216 [02:16<00:00,  1.58it/s, loss=0.013] \n"
     ]
    },
    {
     "name": "stdout",
     "output_type": "stream",
     "text": [
      "Epoch [158/1000], Loss: 0.0130\n"
     ]
    },
    {
     "name": "stderr",
     "output_type": "stream",
     "text": [
      "Epoch 159/1000: 100%|██████████| 216/216 [02:16<00:00,  1.59it/s, loss=0.0132]\n"
     ]
    },
    {
     "name": "stdout",
     "output_type": "stream",
     "text": [
      "Epoch [159/1000], Loss: 0.0132\n"
     ]
    },
    {
     "name": "stderr",
     "output_type": "stream",
     "text": [
      "Epoch 160/1000: 100%|██████████| 216/216 [02:16<00:00,  1.59it/s, loss=0.0137]\n"
     ]
    },
    {
     "name": "stdout",
     "output_type": "stream",
     "text": [
      "Epoch [160/1000], Loss: 0.0137\n"
     ]
    },
    {
     "name": "stderr",
     "output_type": "stream",
     "text": [
      "Epoch 161/1000: 100%|██████████| 216/216 [02:15<00:00,  1.59it/s, loss=0.0134]\n"
     ]
    },
    {
     "name": "stdout",
     "output_type": "stream",
     "text": [
      "Epoch [161/1000], Loss: 0.0134\n"
     ]
    },
    {
     "name": "stderr",
     "output_type": "stream",
     "text": [
      "Epoch 162/1000: 100%|██████████| 216/216 [02:15<00:00,  1.59it/s, loss=0.0605]\n"
     ]
    },
    {
     "name": "stdout",
     "output_type": "stream",
     "text": [
      "Epoch [162/1000], Loss: 0.0605\n"
     ]
    },
    {
     "name": "stderr",
     "output_type": "stream",
     "text": [
      "Epoch 163/1000: 100%|██████████| 216/216 [02:15<00:00,  1.59it/s, loss=0.0767]\n"
     ]
    },
    {
     "name": "stdout",
     "output_type": "stream",
     "text": [
      "Epoch [163/1000], Loss: 0.0767\n"
     ]
    },
    {
     "name": "stderr",
     "output_type": "stream",
     "text": [
      "Epoch 164/1000: 100%|██████████| 216/216 [02:16<00:00,  1.59it/s, loss=0.0226]\n"
     ]
    },
    {
     "name": "stdout",
     "output_type": "stream",
     "text": [
      "Epoch [164/1000], Loss: 0.0226\n"
     ]
    },
    {
     "name": "stderr",
     "output_type": "stream",
     "text": [
      "Epoch 165/1000: 100%|██████████| 216/216 [02:16<00:00,  1.58it/s, loss=0.0168]\n"
     ]
    },
    {
     "name": "stdout",
     "output_type": "stream",
     "text": [
      "Epoch [165/1000], Loss: 0.0168\n"
     ]
    },
    {
     "name": "stderr",
     "output_type": "stream",
     "text": [
      "Epoch 166/1000: 100%|██████████| 216/216 [02:16<00:00,  1.59it/s, loss=0.0146]\n"
     ]
    },
    {
     "name": "stdout",
     "output_type": "stream",
     "text": [
      "Epoch [166/1000], Loss: 0.0146\n"
     ]
    },
    {
     "name": "stderr",
     "output_type": "stream",
     "text": [
      "Epoch 167/1000: 100%|██████████| 216/216 [02:16<00:00,  1.59it/s, loss=0.0133]\n"
     ]
    },
    {
     "name": "stdout",
     "output_type": "stream",
     "text": [
      "Epoch [167/1000], Loss: 0.0133\n"
     ]
    },
    {
     "name": "stderr",
     "output_type": "stream",
     "text": [
      "Epoch 168/1000: 100%|██████████| 216/216 [02:15<00:00,  1.59it/s, loss=0.0124]\n"
     ]
    },
    {
     "name": "stdout",
     "output_type": "stream",
     "text": [
      "Epoch [168/1000], Loss: 0.0124\n"
     ]
    },
    {
     "name": "stderr",
     "output_type": "stream",
     "text": [
      "Epoch 169/1000: 100%|██████████| 216/216 [02:15<00:00,  1.59it/s, loss=0.0118]\n"
     ]
    },
    {
     "name": "stdout",
     "output_type": "stream",
     "text": [
      "Epoch [169/1000], Loss: 0.0118\n"
     ]
    },
    {
     "name": "stderr",
     "output_type": "stream",
     "text": [
      "Epoch 170/1000: 100%|██████████| 216/216 [02:15<00:00,  1.59it/s, loss=0.0114]\n"
     ]
    },
    {
     "name": "stdout",
     "output_type": "stream",
     "text": [
      "Epoch [170/1000], Loss: 0.0114\n"
     ]
    },
    {
     "name": "stderr",
     "output_type": "stream",
     "text": [
      "Epoch 171/1000: 100%|██████████| 216/216 [02:15<00:00,  1.59it/s, loss=0.011] \n"
     ]
    },
    {
     "name": "stdout",
     "output_type": "stream",
     "text": [
      "Epoch [171/1000], Loss: 0.0110\n"
     ]
    },
    {
     "name": "stderr",
     "output_type": "stream",
     "text": [
      "Epoch 172/1000: 100%|██████████| 216/216 [02:16<00:00,  1.59it/s, loss=0.0108]\n"
     ]
    },
    {
     "name": "stdout",
     "output_type": "stream",
     "text": [
      "Epoch [172/1000], Loss: 0.0108\n"
     ]
    },
    {
     "name": "stderr",
     "output_type": "stream",
     "text": [
      "Epoch 173/1000: 100%|██████████| 216/216 [02:16<00:00,  1.58it/s, loss=0.0106]\n"
     ]
    },
    {
     "name": "stdout",
     "output_type": "stream",
     "text": [
      "Epoch [173/1000], Loss: 0.0106\n"
     ]
    },
    {
     "name": "stderr",
     "output_type": "stream",
     "text": [
      "Epoch 174/1000: 100%|██████████| 216/216 [02:16<00:00,  1.59it/s, loss=0.0105]\n"
     ]
    },
    {
     "name": "stdout",
     "output_type": "stream",
     "text": [
      "Epoch [174/1000], Loss: 0.0105\n"
     ]
    },
    {
     "name": "stderr",
     "output_type": "stream",
     "text": [
      "Epoch 175/1000: 100%|██████████| 216/216 [02:16<00:00,  1.58it/s, loss=0.0105]\n"
     ]
    },
    {
     "name": "stdout",
     "output_type": "stream",
     "text": [
      "Epoch [175/1000], Loss: 0.0105\n"
     ]
    },
    {
     "name": "stderr",
     "output_type": "stream",
     "text": [
      "Epoch 176/1000: 100%|██████████| 216/216 [02:15<00:00,  1.59it/s, loss=0.0109]\n"
     ]
    },
    {
     "name": "stdout",
     "output_type": "stream",
     "text": [
      "Epoch [176/1000], Loss: 0.0109\n"
     ]
    },
    {
     "name": "stderr",
     "output_type": "stream",
     "text": [
      "Epoch 177/1000: 100%|██████████| 216/216 [02:16<00:00,  1.58it/s, loss=0.0113]\n"
     ]
    },
    {
     "name": "stdout",
     "output_type": "stream",
     "text": [
      "Epoch [177/1000], Loss: 0.0113\n"
     ]
    },
    {
     "name": "stderr",
     "output_type": "stream",
     "text": [
      "Epoch 178/1000: 100%|██████████| 216/216 [02:16<00:00,  1.58it/s, loss=0.0113]\n"
     ]
    },
    {
     "name": "stdout",
     "output_type": "stream",
     "text": [
      "Epoch [178/1000], Loss: 0.0113\n"
     ]
    },
    {
     "name": "stderr",
     "output_type": "stream",
     "text": [
      "Epoch 179/1000: 100%|██████████| 216/216 [02:16<00:00,  1.58it/s, loss=0.0112]\n"
     ]
    },
    {
     "name": "stdout",
     "output_type": "stream",
     "text": [
      "Epoch [179/1000], Loss: 0.0112\n"
     ]
    },
    {
     "name": "stderr",
     "output_type": "stream",
     "text": [
      "Epoch 180/1000: 100%|██████████| 216/216 [02:16<00:00,  1.59it/s, loss=0.0113]\n"
     ]
    },
    {
     "name": "stdout",
     "output_type": "stream",
     "text": [
      "Epoch [180/1000], Loss: 0.0113\n"
     ]
    },
    {
     "name": "stderr",
     "output_type": "stream",
     "text": [
      "Epoch 181/1000: 100%|██████████| 216/216 [02:16<00:00,  1.59it/s, loss=0.0114]\n"
     ]
    },
    {
     "name": "stdout",
     "output_type": "stream",
     "text": [
      "Epoch [181/1000], Loss: 0.0114\n"
     ]
    },
    {
     "name": "stderr",
     "output_type": "stream",
     "text": [
      "Epoch 182/1000: 100%|██████████| 216/216 [02:16<00:00,  1.59it/s, loss=0.0116]\n"
     ]
    },
    {
     "name": "stdout",
     "output_type": "stream",
     "text": [
      "Epoch [182/1000], Loss: 0.0116\n"
     ]
    },
    {
     "name": "stderr",
     "output_type": "stream",
     "text": [
      "Epoch 183/1000: 100%|██████████| 216/216 [02:16<00:00,  1.58it/s, loss=0.0116]\n"
     ]
    },
    {
     "name": "stdout",
     "output_type": "stream",
     "text": [
      "Epoch [183/1000], Loss: 0.0116\n"
     ]
    },
    {
     "name": "stderr",
     "output_type": "stream",
     "text": [
      "Epoch 184/1000: 100%|██████████| 216/216 [02:16<00:00,  1.58it/s, loss=0.0116]\n"
     ]
    },
    {
     "name": "stdout",
     "output_type": "stream",
     "text": [
      "Epoch [184/1000], Loss: 0.0116\n"
     ]
    },
    {
     "name": "stderr",
     "output_type": "stream",
     "text": [
      "Epoch 185/1000: 100%|██████████| 216/216 [02:16<00:00,  1.58it/s, loss=0.0119]\n"
     ]
    },
    {
     "name": "stdout",
     "output_type": "stream",
     "text": [
      "Epoch [185/1000], Loss: 0.0119\n"
     ]
    },
    {
     "name": "stderr",
     "output_type": "stream",
     "text": [
      "Epoch 186/1000: 100%|██████████| 216/216 [02:16<00:00,  1.58it/s, loss=0.0119]\n"
     ]
    },
    {
     "name": "stdout",
     "output_type": "stream",
     "text": [
      "Epoch [186/1000], Loss: 0.0119\n"
     ]
    },
    {
     "name": "stderr",
     "output_type": "stream",
     "text": [
      "Epoch 187/1000: 100%|██████████| 216/216 [02:17<00:00,  1.58it/s, loss=0.0118]\n"
     ]
    },
    {
     "name": "stdout",
     "output_type": "stream",
     "text": [
      "Epoch [187/1000], Loss: 0.0118\n"
     ]
    },
    {
     "name": "stderr",
     "output_type": "stream",
     "text": [
      "Epoch 188/1000: 100%|██████████| 216/216 [02:16<00:00,  1.58it/s, loss=0.0118]\n"
     ]
    },
    {
     "name": "stdout",
     "output_type": "stream",
     "text": [
      "Epoch [188/1000], Loss: 0.0118\n"
     ]
    },
    {
     "name": "stderr",
     "output_type": "stream",
     "text": [
      "Epoch 189/1000: 100%|██████████| 216/216 [02:16<00:00,  1.58it/s, loss=0.0121]\n"
     ]
    },
    {
     "name": "stdout",
     "output_type": "stream",
     "text": [
      "Epoch [189/1000], Loss: 0.0121\n"
     ]
    },
    {
     "name": "stderr",
     "output_type": "stream",
     "text": [
      "Epoch 190/1000: 100%|██████████| 216/216 [02:17<00:00,  1.58it/s, loss=0.0122]\n"
     ]
    },
    {
     "name": "stdout",
     "output_type": "stream",
     "text": [
      "Epoch [190/1000], Loss: 0.0122\n"
     ]
    },
    {
     "name": "stderr",
     "output_type": "stream",
     "text": [
      "Epoch 191/1000: 100%|██████████| 216/216 [02:16<00:00,  1.58it/s, loss=0.0121]\n"
     ]
    },
    {
     "name": "stdout",
     "output_type": "stream",
     "text": [
      "Epoch [191/1000], Loss: 0.0121\n"
     ]
    },
    {
     "name": "stderr",
     "output_type": "stream",
     "text": [
      "Epoch 192/1000: 100%|██████████| 216/216 [02:16<00:00,  1.58it/s, loss=0.0148]\n"
     ]
    },
    {
     "name": "stdout",
     "output_type": "stream",
     "text": [
      "Epoch [192/1000], Loss: 0.0148\n"
     ]
    },
    {
     "name": "stderr",
     "output_type": "stream",
     "text": [
      "Epoch 193/1000: 100%|██████████| 216/216 [02:16<00:00,  1.58it/s, loss=0.0142]\n"
     ]
    },
    {
     "name": "stdout",
     "output_type": "stream",
     "text": [
      "Epoch [193/1000], Loss: 0.0142\n"
     ]
    },
    {
     "name": "stderr",
     "output_type": "stream",
     "text": [
      "Epoch 194/1000: 100%|██████████| 216/216 [02:16<00:00,  1.58it/s, loss=0.0125]\n"
     ]
    },
    {
     "name": "stdout",
     "output_type": "stream",
     "text": [
      "Epoch [194/1000], Loss: 0.0125\n"
     ]
    },
    {
     "name": "stderr",
     "output_type": "stream",
     "text": [
      "Epoch 195/1000: 100%|██████████| 216/216 [02:17<00:00,  1.58it/s, loss=0.0115]\n"
     ]
    },
    {
     "name": "stdout",
     "output_type": "stream",
     "text": [
      "Epoch [195/1000], Loss: 0.0115\n"
     ]
    },
    {
     "name": "stderr",
     "output_type": "stream",
     "text": [
      "Epoch 196/1000: 100%|██████████| 216/216 [02:17<00:00,  1.58it/s, loss=0.011] \n"
     ]
    },
    {
     "name": "stdout",
     "output_type": "stream",
     "text": [
      "Epoch [196/1000], Loss: 0.0110\n"
     ]
    },
    {
     "name": "stderr",
     "output_type": "stream",
     "text": [
      "Epoch 197/1000: 100%|██████████| 216/216 [02:17<00:00,  1.57it/s, loss=0.011] \n"
     ]
    },
    {
     "name": "stdout",
     "output_type": "stream",
     "text": [
      "Epoch [197/1000], Loss: 0.0110\n"
     ]
    },
    {
     "name": "stderr",
     "output_type": "stream",
     "text": [
      "Epoch 198/1000: 100%|██████████| 216/216 [02:16<00:00,  1.58it/s, loss=0.0113]\n"
     ]
    },
    {
     "name": "stdout",
     "output_type": "stream",
     "text": [
      "Epoch [198/1000], Loss: 0.0113\n"
     ]
    },
    {
     "name": "stderr",
     "output_type": "stream",
     "text": [
      "Epoch 199/1000: 100%|██████████| 216/216 [02:17<00:00,  1.57it/s, loss=0.0116]\n"
     ]
    },
    {
     "name": "stdout",
     "output_type": "stream",
     "text": [
      "Epoch [199/1000], Loss: 0.0116\n"
     ]
    },
    {
     "name": "stderr",
     "output_type": "stream",
     "text": [
      "Epoch 200/1000: 100%|██████████| 216/216 [02:17<00:00,  1.58it/s, loss=0.0116]\n"
     ]
    },
    {
     "name": "stdout",
     "output_type": "stream",
     "text": [
      "Epoch [200/1000], Loss: 0.0116\n"
     ]
    },
    {
     "name": "stderr",
     "output_type": "stream",
     "text": [
      "Epoch 201/1000: 100%|██████████| 216/216 [02:16<00:00,  1.58it/s, loss=0.0118]\n"
     ]
    },
    {
     "name": "stdout",
     "output_type": "stream",
     "text": [
      "Epoch [201/1000], Loss: 0.0118\n",
      "Epoch [201/1000], Loss: 0.0118, Train Accuracy: 0.9950, Validation Accuracy: 0.9705, IoU: 0.8026\n"
     ]
    },
    {
     "name": "stderr",
     "output_type": "stream",
     "text": [
      "Epoch 202/1000: 100%|██████████| 216/216 [02:16<00:00,  1.58it/s, loss=0.0118]\n"
     ]
    },
    {
     "name": "stdout",
     "output_type": "stream",
     "text": [
      "Epoch [202/1000], Loss: 0.0118\n"
     ]
    },
    {
     "name": "stderr",
     "output_type": "stream",
     "text": [
      "Epoch 203/1000: 100%|██████████| 216/216 [02:17<00:00,  1.58it/s, loss=0.0126]\n"
     ]
    },
    {
     "name": "stdout",
     "output_type": "stream",
     "text": [
      "Epoch [203/1000], Loss: 0.0126\n"
     ]
    },
    {
     "name": "stderr",
     "output_type": "stream",
     "text": [
      "Epoch 204/1000: 100%|██████████| 216/216 [02:17<00:00,  1.57it/s, loss=0.0122]\n"
     ]
    },
    {
     "name": "stdout",
     "output_type": "stream",
     "text": [
      "Epoch [204/1000], Loss: 0.0122\n"
     ]
    },
    {
     "name": "stderr",
     "output_type": "stream",
     "text": [
      "Epoch 205/1000: 100%|██████████| 216/216 [02:17<00:00,  1.57it/s, loss=0.0115]\n"
     ]
    },
    {
     "name": "stdout",
     "output_type": "stream",
     "text": [
      "Epoch [205/1000], Loss: 0.0115\n"
     ]
    },
    {
     "name": "stderr",
     "output_type": "stream",
     "text": [
      "Epoch 206/1000: 100%|██████████| 216/216 [02:17<00:00,  1.57it/s, loss=0.0112]\n"
     ]
    },
    {
     "name": "stdout",
     "output_type": "stream",
     "text": [
      "Epoch [206/1000], Loss: 0.0112\n"
     ]
    },
    {
     "name": "stderr",
     "output_type": "stream",
     "text": [
      "Epoch 207/1000: 100%|██████████| 216/216 [02:17<00:00,  1.57it/s, loss=0.0111]\n"
     ]
    },
    {
     "name": "stdout",
     "output_type": "stream",
     "text": [
      "Epoch [207/1000], Loss: 0.0111\n"
     ]
    },
    {
     "name": "stderr",
     "output_type": "stream",
     "text": [
      "Epoch 208/1000: 100%|██████████| 216/216 [02:17<00:00,  1.57it/s, loss=0.0111]\n"
     ]
    },
    {
     "name": "stdout",
     "output_type": "stream",
     "text": [
      "Epoch [208/1000], Loss: 0.0111\n"
     ]
    },
    {
     "name": "stderr",
     "output_type": "stream",
     "text": [
      "Epoch 209/1000: 100%|██████████| 216/216 [02:17<00:00,  1.57it/s, loss=0.0114]\n"
     ]
    },
    {
     "name": "stdout",
     "output_type": "stream",
     "text": [
      "Epoch [209/1000], Loss: 0.0114\n"
     ]
    },
    {
     "name": "stderr",
     "output_type": "stream",
     "text": [
      "Epoch 210/1000: 100%|██████████| 216/216 [02:17<00:00,  1.57it/s, loss=0.0116]\n"
     ]
    },
    {
     "name": "stdout",
     "output_type": "stream",
     "text": [
      "Epoch [210/1000], Loss: 0.0116\n"
     ]
    },
    {
     "name": "stderr",
     "output_type": "stream",
     "text": [
      "Epoch 211/1000: 100%|██████████| 216/216 [02:17<00:00,  1.57it/s, loss=0.0116]\n"
     ]
    },
    {
     "name": "stdout",
     "output_type": "stream",
     "text": [
      "Epoch [211/1000], Loss: 0.0116\n"
     ]
    },
    {
     "name": "stderr",
     "output_type": "stream",
     "text": [
      "Epoch 212/1000: 100%|██████████| 216/216 [02:17<00:00,  1.57it/s, loss=0.0117]\n"
     ]
    },
    {
     "name": "stdout",
     "output_type": "stream",
     "text": [
      "Epoch [212/1000], Loss: 0.0117\n"
     ]
    },
    {
     "name": "stderr",
     "output_type": "stream",
     "text": [
      "Epoch 213/1000: 100%|██████████| 216/216 [02:17<00:00,  1.57it/s, loss=0.0114]\n"
     ]
    },
    {
     "name": "stdout",
     "output_type": "stream",
     "text": [
      "Epoch [213/1000], Loss: 0.0114\n"
     ]
    },
    {
     "name": "stderr",
     "output_type": "stream",
     "text": [
      "Epoch 214/1000: 100%|██████████| 216/216 [02:17<00:00,  1.57it/s, loss=0.0113]\n"
     ]
    },
    {
     "name": "stdout",
     "output_type": "stream",
     "text": [
      "Epoch [214/1000], Loss: 0.0113\n"
     ]
    },
    {
     "name": "stderr",
     "output_type": "stream",
     "text": [
      "Epoch 215/1000: 100%|██████████| 216/216 [02:17<00:00,  1.57it/s, loss=0.0113]\n"
     ]
    },
    {
     "name": "stdout",
     "output_type": "stream",
     "text": [
      "Epoch [215/1000], Loss: 0.0113\n"
     ]
    },
    {
     "name": "stderr",
     "output_type": "stream",
     "text": [
      "Epoch 216/1000: 100%|██████████| 216/216 [02:17<00:00,  1.57it/s, loss=0.0112]\n"
     ]
    },
    {
     "name": "stdout",
     "output_type": "stream",
     "text": [
      "Epoch [216/1000], Loss: 0.0112\n"
     ]
    },
    {
     "name": "stderr",
     "output_type": "stream",
     "text": [
      "Epoch 217/1000: 100%|██████████| 216/216 [02:17<00:00,  1.57it/s, loss=0.0113]\n"
     ]
    },
    {
     "name": "stdout",
     "output_type": "stream",
     "text": [
      "Epoch [217/1000], Loss: 0.0113\n"
     ]
    },
    {
     "name": "stderr",
     "output_type": "stream",
     "text": [
      "Epoch 218/1000: 100%|██████████| 216/216 [02:17<00:00,  1.57it/s, loss=0.0111]\n"
     ]
    },
    {
     "name": "stdout",
     "output_type": "stream",
     "text": [
      "Epoch [218/1000], Loss: 0.0111\n"
     ]
    },
    {
     "name": "stderr",
     "output_type": "stream",
     "text": [
      "Epoch 219/1000: 100%|██████████| 216/216 [02:17<00:00,  1.57it/s, loss=0.0109]\n"
     ]
    },
    {
     "name": "stdout",
     "output_type": "stream",
     "text": [
      "Epoch [219/1000], Loss: 0.0109\n"
     ]
    },
    {
     "name": "stderr",
     "output_type": "stream",
     "text": [
      "Epoch 220/1000: 100%|██████████| 216/216 [02:17<00:00,  1.57it/s, loss=0.0859]\n"
     ]
    },
    {
     "name": "stdout",
     "output_type": "stream",
     "text": [
      "Epoch [220/1000], Loss: 0.0859\n"
     ]
    },
    {
     "name": "stderr",
     "output_type": "stream",
     "text": [
      "Epoch 221/1000: 100%|██████████| 216/216 [02:17<00:00,  1.57it/s, loss=0.024] \n"
     ]
    },
    {
     "name": "stdout",
     "output_type": "stream",
     "text": [
      "Epoch [221/1000], Loss: 0.0240\n"
     ]
    },
    {
     "name": "stderr",
     "output_type": "stream",
     "text": [
      "Epoch 222/1000: 100%|██████████| 216/216 [02:17<00:00,  1.57it/s, loss=0.0157]\n"
     ]
    },
    {
     "name": "stdout",
     "output_type": "stream",
     "text": [
      "Epoch [222/1000], Loss: 0.0157\n"
     ]
    },
    {
     "name": "stderr",
     "output_type": "stream",
     "text": [
      "Epoch 223/1000: 100%|██████████| 216/216 [02:17<00:00,  1.57it/s, loss=0.0131]\n"
     ]
    },
    {
     "name": "stdout",
     "output_type": "stream",
     "text": [
      "Epoch [223/1000], Loss: 0.0131\n"
     ]
    },
    {
     "name": "stderr",
     "output_type": "stream",
     "text": [
      "Epoch 224/1000: 100%|██████████| 216/216 [02:17<00:00,  1.57it/s, loss=0.0117]\n"
     ]
    },
    {
     "name": "stdout",
     "output_type": "stream",
     "text": [
      "Epoch [224/1000], Loss: 0.0117\n"
     ]
    },
    {
     "name": "stderr",
     "output_type": "stream",
     "text": [
      "Epoch 225/1000: 100%|██████████| 216/216 [02:17<00:00,  1.57it/s, loss=0.0109]\n"
     ]
    },
    {
     "name": "stdout",
     "output_type": "stream",
     "text": [
      "Epoch [225/1000], Loss: 0.0109\n"
     ]
    },
    {
     "name": "stderr",
     "output_type": "stream",
     "text": [
      "Epoch 226/1000: 100%|██████████| 216/216 [02:17<00:00,  1.57it/s, loss=0.0103]\n"
     ]
    },
    {
     "name": "stdout",
     "output_type": "stream",
     "text": [
      "Epoch [226/1000], Loss: 0.0103\n"
     ]
    },
    {
     "name": "stderr",
     "output_type": "stream",
     "text": [
      "Epoch 227/1000: 100%|██████████| 216/216 [02:17<00:00,  1.57it/s, loss=0.00983]\n"
     ]
    },
    {
     "name": "stdout",
     "output_type": "stream",
     "text": [
      "Epoch [227/1000], Loss: 0.0098\n"
     ]
    },
    {
     "name": "stderr",
     "output_type": "stream",
     "text": [
      "Epoch 228/1000: 100%|██████████| 216/216 [02:17<00:00,  1.57it/s, loss=0.0095] \n"
     ]
    },
    {
     "name": "stdout",
     "output_type": "stream",
     "text": [
      "Epoch [228/1000], Loss: 0.0095\n"
     ]
    },
    {
     "name": "stderr",
     "output_type": "stream",
     "text": [
      "Epoch 229/1000: 100%|██████████| 216/216 [02:17<00:00,  1.57it/s, loss=0.00925]\n"
     ]
    },
    {
     "name": "stdout",
     "output_type": "stream",
     "text": [
      "Epoch [229/1000], Loss: 0.0093\n"
     ]
    },
    {
     "name": "stderr",
     "output_type": "stream",
     "text": [
      "Epoch 230/1000: 100%|██████████| 216/216 [02:18<00:00,  1.57it/s, loss=0.00909]\n"
     ]
    },
    {
     "name": "stdout",
     "output_type": "stream",
     "text": [
      "Epoch [230/1000], Loss: 0.0091\n"
     ]
    },
    {
     "name": "stderr",
     "output_type": "stream",
     "text": [
      "Epoch 231/1000: 100%|██████████| 216/216 [02:18<00:00,  1.57it/s, loss=0.00902]\n"
     ]
    },
    {
     "name": "stdout",
     "output_type": "stream",
     "text": [
      "Epoch [231/1000], Loss: 0.0090\n"
     ]
    },
    {
     "name": "stderr",
     "output_type": "stream",
     "text": [
      "Epoch 232/1000: 100%|██████████| 216/216 [02:17<00:00,  1.57it/s, loss=0.00922]\n"
     ]
    },
    {
     "name": "stdout",
     "output_type": "stream",
     "text": [
      "Epoch [232/1000], Loss: 0.0092\n"
     ]
    },
    {
     "name": "stderr",
     "output_type": "stream",
     "text": [
      "Epoch 233/1000: 100%|██████████| 216/216 [02:17<00:00,  1.57it/s, loss=0.00945]\n"
     ]
    },
    {
     "name": "stdout",
     "output_type": "stream",
     "text": [
      "Epoch [233/1000], Loss: 0.0095\n"
     ]
    },
    {
     "name": "stderr",
     "output_type": "stream",
     "text": [
      "Epoch 234/1000: 100%|██████████| 216/216 [02:17<00:00,  1.57it/s, loss=0.00962]\n"
     ]
    },
    {
     "name": "stdout",
     "output_type": "stream",
     "text": [
      "Epoch [234/1000], Loss: 0.0096\n"
     ]
    },
    {
     "name": "stderr",
     "output_type": "stream",
     "text": [
      "Epoch 235/1000: 100%|██████████| 216/216 [02:18<00:00,  1.56it/s, loss=0.00979]\n"
     ]
    },
    {
     "name": "stdout",
     "output_type": "stream",
     "text": [
      "Epoch [235/1000], Loss: 0.0098\n"
     ]
    },
    {
     "name": "stderr",
     "output_type": "stream",
     "text": [
      "Epoch 236/1000: 100%|██████████| 216/216 [02:17<00:00,  1.57it/s, loss=0.00983]\n"
     ]
    },
    {
     "name": "stdout",
     "output_type": "stream",
     "text": [
      "Epoch [236/1000], Loss: 0.0098\n"
     ]
    },
    {
     "name": "stderr",
     "output_type": "stream",
     "text": [
      "Epoch 237/1000: 100%|██████████| 216/216 [02:17<00:00,  1.57it/s, loss=0.00993]\n"
     ]
    },
    {
     "name": "stdout",
     "output_type": "stream",
     "text": [
      "Epoch [237/1000], Loss: 0.0099\n"
     ]
    },
    {
     "name": "stderr",
     "output_type": "stream",
     "text": [
      "Epoch 238/1000: 100%|██████████| 216/216 [02:17<00:00,  1.57it/s, loss=0.00995]\n"
     ]
    },
    {
     "name": "stdout",
     "output_type": "stream",
     "text": [
      "Epoch [238/1000], Loss: 0.0100\n"
     ]
    },
    {
     "name": "stderr",
     "output_type": "stream",
     "text": [
      "Epoch 239/1000: 100%|██████████| 216/216 [02:17<00:00,  1.57it/s, loss=0.00997]\n"
     ]
    },
    {
     "name": "stdout",
     "output_type": "stream",
     "text": [
      "Epoch [239/1000], Loss: 0.0100\n"
     ]
    },
    {
     "name": "stderr",
     "output_type": "stream",
     "text": [
      "Epoch 240/1000: 100%|██████████| 216/216 [02:17<00:00,  1.57it/s, loss=0.0101]\n"
     ]
    },
    {
     "name": "stdout",
     "output_type": "stream",
     "text": [
      "Epoch [240/1000], Loss: 0.0101\n"
     ]
    },
    {
     "name": "stderr",
     "output_type": "stream",
     "text": [
      "Epoch 241/1000: 100%|██████████| 216/216 [02:17<00:00,  1.57it/s, loss=0.0101]\n"
     ]
    },
    {
     "name": "stdout",
     "output_type": "stream",
     "text": [
      "Epoch [241/1000], Loss: 0.0101\n"
     ]
    },
    {
     "name": "stderr",
     "output_type": "stream",
     "text": [
      "Epoch 242/1000: 100%|██████████| 216/216 [02:17<00:00,  1.57it/s, loss=0.0102]\n"
     ]
    },
    {
     "name": "stdout",
     "output_type": "stream",
     "text": [
      "Epoch [242/1000], Loss: 0.0102\n"
     ]
    },
    {
     "name": "stderr",
     "output_type": "stream",
     "text": [
      "Epoch 243/1000: 100%|██████████| 216/216 [02:17<00:00,  1.57it/s, loss=0.0102]\n"
     ]
    },
    {
     "name": "stdout",
     "output_type": "stream",
     "text": [
      "Epoch [243/1000], Loss: 0.0102\n"
     ]
    },
    {
     "name": "stderr",
     "output_type": "stream",
     "text": [
      "Epoch 244/1000: 100%|██████████| 216/216 [02:17<00:00,  1.57it/s, loss=0.0102]\n"
     ]
    },
    {
     "name": "stdout",
     "output_type": "stream",
     "text": [
      "Epoch [244/1000], Loss: 0.0102\n"
     ]
    },
    {
     "name": "stderr",
     "output_type": "stream",
     "text": [
      "Epoch 245/1000: 100%|██████████| 216/216 [02:18<00:00,  1.56it/s, loss=0.0103]\n"
     ]
    },
    {
     "name": "stdout",
     "output_type": "stream",
     "text": [
      "Epoch [245/1000], Loss: 0.0103\n"
     ]
    },
    {
     "name": "stderr",
     "output_type": "stream",
     "text": [
      "Epoch 246/1000: 100%|██████████| 216/216 [02:18<00:00,  1.56it/s, loss=0.0105]\n"
     ]
    },
    {
     "name": "stdout",
     "output_type": "stream",
     "text": [
      "Epoch [246/1000], Loss: 0.0105\n"
     ]
    },
    {
     "name": "stderr",
     "output_type": "stream",
     "text": [
      "Epoch 247/1000: 100%|██████████| 216/216 [02:17<00:00,  1.57it/s, loss=0.0104]\n"
     ]
    },
    {
     "name": "stdout",
     "output_type": "stream",
     "text": [
      "Epoch [247/1000], Loss: 0.0104\n"
     ]
    },
    {
     "name": "stderr",
     "output_type": "stream",
     "text": [
      "Epoch 248/1000: 100%|██████████| 216/216 [02:17<00:00,  1.57it/s, loss=0.0104]\n"
     ]
    },
    {
     "name": "stdout",
     "output_type": "stream",
     "text": [
      "Epoch [248/1000], Loss: 0.0104\n"
     ]
    },
    {
     "name": "stderr",
     "output_type": "stream",
     "text": [
      "Epoch 249/1000: 100%|██████████| 216/216 [02:18<00:00,  1.56it/s, loss=0.0102]\n"
     ]
    },
    {
     "name": "stdout",
     "output_type": "stream",
     "text": [
      "Epoch [249/1000], Loss: 0.0102\n"
     ]
    },
    {
     "name": "stderr",
     "output_type": "stream",
     "text": [
      "Epoch 250/1000: 100%|██████████| 216/216 [02:18<00:00,  1.56it/s, loss=0.0102]\n"
     ]
    },
    {
     "name": "stdout",
     "output_type": "stream",
     "text": [
      "Epoch [250/1000], Loss: 0.0102\n"
     ]
    },
    {
     "name": "stderr",
     "output_type": "stream",
     "text": [
      "Epoch 251/1000: 100%|██████████| 216/216 [02:18<00:00,  1.56it/s, loss=0.0106]\n"
     ]
    },
    {
     "name": "stdout",
     "output_type": "stream",
     "text": [
      "Epoch [251/1000], Loss: 0.0106\n",
      "Epoch [251/1000], Loss: 0.0106, Train Accuracy: 0.9953, Validation Accuracy: 0.9695, IoU: 0.7953\n"
     ]
    },
    {
     "name": "stderr",
     "output_type": "stream",
     "text": [
      "Epoch 252/1000: 100%|██████████| 216/216 [02:18<00:00,  1.56it/s, loss=0.0109]\n"
     ]
    },
    {
     "name": "stdout",
     "output_type": "stream",
     "text": [
      "Epoch [252/1000], Loss: 0.0109\n"
     ]
    },
    {
     "name": "stderr",
     "output_type": "stream",
     "text": [
      "Epoch 253/1000: 100%|██████████| 216/216 [02:17<00:00,  1.57it/s, loss=0.0106]\n"
     ]
    },
    {
     "name": "stdout",
     "output_type": "stream",
     "text": [
      "Epoch [253/1000], Loss: 0.0106\n"
     ]
    },
    {
     "name": "stderr",
     "output_type": "stream",
     "text": [
      "Epoch 254/1000: 100%|██████████| 216/216 [02:17<00:00,  1.57it/s, loss=0.0108]\n"
     ]
    },
    {
     "name": "stdout",
     "output_type": "stream",
     "text": [
      "Epoch [254/1000], Loss: 0.0108\n"
     ]
    },
    {
     "name": "stderr",
     "output_type": "stream",
     "text": [
      "Epoch 255/1000: 100%|██████████| 216/216 [02:18<00:00,  1.56it/s, loss=0.0103]\n"
     ]
    },
    {
     "name": "stdout",
     "output_type": "stream",
     "text": [
      "Epoch [255/1000], Loss: 0.0103\n"
     ]
    },
    {
     "name": "stderr",
     "output_type": "stream",
     "text": [
      "Epoch 256/1000: 100%|██████████| 216/216 [02:18<00:00,  1.56it/s, loss=0.0101] \n"
     ]
    },
    {
     "name": "stdout",
     "output_type": "stream",
     "text": [
      "Epoch [256/1000], Loss: 0.0101\n"
     ]
    },
    {
     "name": "stderr",
     "output_type": "stream",
     "text": [
      "Epoch 257/1000: 100%|██████████| 216/216 [02:18<00:00,  1.56it/s, loss=0.00988]\n"
     ]
    },
    {
     "name": "stdout",
     "output_type": "stream",
     "text": [
      "Epoch [257/1000], Loss: 0.0099\n"
     ]
    },
    {
     "name": "stderr",
     "output_type": "stream",
     "text": [
      "Epoch 258/1000: 100%|██████████| 216/216 [02:19<00:00,  1.55it/s, loss=0.01]   \n"
     ]
    },
    {
     "name": "stdout",
     "output_type": "stream",
     "text": [
      "Epoch [258/1000], Loss: 0.0100\n"
     ]
    },
    {
     "name": "stderr",
     "output_type": "stream",
     "text": [
      "Epoch 259/1000: 100%|██████████| 216/216 [02:18<00:00,  1.56it/s, loss=0.0109]\n"
     ]
    },
    {
     "name": "stdout",
     "output_type": "stream",
     "text": [
      "Epoch [259/1000], Loss: 0.0109\n"
     ]
    },
    {
     "name": "stderr",
     "output_type": "stream",
     "text": [
      "Epoch 260/1000: 100%|██████████| 216/216 [02:18<00:00,  1.56it/s, loss=0.0108]\n"
     ]
    },
    {
     "name": "stdout",
     "output_type": "stream",
     "text": [
      "Epoch [260/1000], Loss: 0.0108\n"
     ]
    },
    {
     "name": "stderr",
     "output_type": "stream",
     "text": [
      "Epoch 261/1000: 100%|██████████| 216/216 [02:17<00:00,  1.57it/s, loss=0.0107]\n"
     ]
    },
    {
     "name": "stdout",
     "output_type": "stream",
     "text": [
      "Epoch [261/1000], Loss: 0.0107\n"
     ]
    },
    {
     "name": "stderr",
     "output_type": "stream",
     "text": [
      "Epoch 262/1000: 100%|██████████| 216/216 [02:18<00:00,  1.56it/s, loss=0.0104]\n"
     ]
    },
    {
     "name": "stdout",
     "output_type": "stream",
     "text": [
      "Epoch [262/1000], Loss: 0.0104\n"
     ]
    },
    {
     "name": "stderr",
     "output_type": "stream",
     "text": [
      "Epoch 263/1000: 100%|██████████| 216/216 [02:17<00:00,  1.57it/s, loss=0.0108]\n"
     ]
    },
    {
     "name": "stdout",
     "output_type": "stream",
     "text": [
      "Epoch [263/1000], Loss: 0.0108\n"
     ]
    },
    {
     "name": "stderr",
     "output_type": "stream",
     "text": [
      "Epoch 264/1000: 100%|██████████| 216/216 [02:17<00:00,  1.57it/s, loss=0.0104]\n"
     ]
    },
    {
     "name": "stdout",
     "output_type": "stream",
     "text": [
      "Epoch [264/1000], Loss: 0.0104\n"
     ]
    },
    {
     "name": "stderr",
     "output_type": "stream",
     "text": [
      "Epoch 265/1000: 100%|██████████| 216/216 [02:17<00:00,  1.57it/s, loss=0.0099] \n"
     ]
    },
    {
     "name": "stdout",
     "output_type": "stream",
     "text": [
      "Epoch [265/1000], Loss: 0.0099\n"
     ]
    },
    {
     "name": "stderr",
     "output_type": "stream",
     "text": [
      "Epoch 266/1000: 100%|██████████| 216/216 [02:18<00:00,  1.56it/s, loss=0.00962]\n"
     ]
    },
    {
     "name": "stdout",
     "output_type": "stream",
     "text": [
      "Epoch [266/1000], Loss: 0.0096\n"
     ]
    },
    {
     "name": "stderr",
     "output_type": "stream",
     "text": [
      "Epoch 267/1000: 100%|██████████| 216/216 [02:17<00:00,  1.57it/s, loss=0.00952]\n"
     ]
    },
    {
     "name": "stdout",
     "output_type": "stream",
     "text": [
      "Epoch [267/1000], Loss: 0.0095\n"
     ]
    },
    {
     "name": "stderr",
     "output_type": "stream",
     "text": [
      "Epoch 268/1000: 100%|██████████| 216/216 [02:18<00:00,  1.56it/s, loss=0.00955]\n"
     ]
    },
    {
     "name": "stdout",
     "output_type": "stream",
     "text": [
      "Epoch [268/1000], Loss: 0.0096\n"
     ]
    },
    {
     "name": "stderr",
     "output_type": "stream",
     "text": [
      "Epoch 269/1000: 100%|██████████| 216/216 [02:17<00:00,  1.57it/s, loss=0.00976]\n"
     ]
    },
    {
     "name": "stdout",
     "output_type": "stream",
     "text": [
      "Epoch [269/1000], Loss: 0.0098\n"
     ]
    },
    {
     "name": "stderr",
     "output_type": "stream",
     "text": [
      "Epoch 270/1000: 100%|██████████| 216/216 [02:17<00:00,  1.57it/s, loss=0.00979]\n"
     ]
    },
    {
     "name": "stdout",
     "output_type": "stream",
     "text": [
      "Epoch [270/1000], Loss: 0.0098\n"
     ]
    },
    {
     "name": "stderr",
     "output_type": "stream",
     "text": [
      "Epoch 271/1000: 100%|██████████| 216/216 [02:17<00:00,  1.57it/s, loss=0.00998]\n"
     ]
    },
    {
     "name": "stdout",
     "output_type": "stream",
     "text": [
      "Epoch [271/1000], Loss: 0.0100\n"
     ]
    },
    {
     "name": "stderr",
     "output_type": "stream",
     "text": [
      "Epoch 272/1000: 100%|██████████| 216/216 [02:18<00:00,  1.56it/s, loss=0.00996]\n"
     ]
    },
    {
     "name": "stdout",
     "output_type": "stream",
     "text": [
      "Epoch [272/1000], Loss: 0.0100\n"
     ]
    },
    {
     "name": "stderr",
     "output_type": "stream",
     "text": [
      "Epoch 273/1000: 100%|██████████| 216/216 [02:18<00:00,  1.56it/s, loss=0.00977]\n"
     ]
    },
    {
     "name": "stdout",
     "output_type": "stream",
     "text": [
      "Epoch [273/1000], Loss: 0.0098\n"
     ]
    },
    {
     "name": "stderr",
     "output_type": "stream",
     "text": [
      "Epoch 274/1000: 100%|██████████| 216/216 [02:18<00:00,  1.56it/s, loss=0.0097] \n"
     ]
    },
    {
     "name": "stdout",
     "output_type": "stream",
     "text": [
      "Epoch [274/1000], Loss: 0.0097\n"
     ]
    },
    {
     "name": "stderr",
     "output_type": "stream",
     "text": [
      "Epoch 275/1000: 100%|██████████| 216/216 [02:18<00:00,  1.56it/s, loss=0.00949]\n"
     ]
    },
    {
     "name": "stdout",
     "output_type": "stream",
     "text": [
      "Epoch [275/1000], Loss: 0.0095\n"
     ]
    },
    {
     "name": "stderr",
     "output_type": "stream",
     "text": [
      "Epoch 276/1000: 100%|██████████| 216/216 [02:18<00:00,  1.56it/s, loss=0.00947]\n"
     ]
    },
    {
     "name": "stdout",
     "output_type": "stream",
     "text": [
      "Epoch [276/1000], Loss: 0.0095\n"
     ]
    },
    {
     "name": "stderr",
     "output_type": "stream",
     "text": [
      "Epoch 277/1000: 100%|██████████| 216/216 [02:18<00:00,  1.56it/s, loss=0.0096] \n"
     ]
    },
    {
     "name": "stdout",
     "output_type": "stream",
     "text": [
      "Epoch [277/1000], Loss: 0.0096\n"
     ]
    },
    {
     "name": "stderr",
     "output_type": "stream",
     "text": [
      "Epoch 278/1000: 100%|██████████| 216/216 [02:18<00:00,  1.56it/s, loss=0.00956]\n"
     ]
    },
    {
     "name": "stdout",
     "output_type": "stream",
     "text": [
      "Epoch [278/1000], Loss: 0.0096\n"
     ]
    },
    {
     "name": "stderr",
     "output_type": "stream",
     "text": [
      "Epoch 279/1000: 100%|██████████| 216/216 [02:19<00:00,  1.55it/s, loss=0.00952]\n"
     ]
    },
    {
     "name": "stdout",
     "output_type": "stream",
     "text": [
      "Epoch [279/1000], Loss: 0.0095\n"
     ]
    },
    {
     "name": "stderr",
     "output_type": "stream",
     "text": [
      "Epoch 280/1000: 100%|██████████| 216/216 [02:18<00:00,  1.56it/s, loss=0.00966]\n"
     ]
    },
    {
     "name": "stdout",
     "output_type": "stream",
     "text": [
      "Epoch [280/1000], Loss: 0.0097\n"
     ]
    },
    {
     "name": "stderr",
     "output_type": "stream",
     "text": [
      "Epoch 281/1000: 100%|██████████| 216/216 [02:17<00:00,  1.57it/s, loss=0.00972]\n"
     ]
    },
    {
     "name": "stdout",
     "output_type": "stream",
     "text": [
      "Epoch [281/1000], Loss: 0.0097\n"
     ]
    },
    {
     "name": "stderr",
     "output_type": "stream",
     "text": [
      "Epoch 282/1000: 100%|██████████| 216/216 [02:18<00:00,  1.56it/s, loss=0.00978]\n"
     ]
    },
    {
     "name": "stdout",
     "output_type": "stream",
     "text": [
      "Epoch [282/1000], Loss: 0.0098\n"
     ]
    },
    {
     "name": "stderr",
     "output_type": "stream",
     "text": [
      "Epoch 283/1000: 100%|██████████| 216/216 [02:18<00:00,  1.56it/s, loss=0.00954]\n"
     ]
    },
    {
     "name": "stdout",
     "output_type": "stream",
     "text": [
      "Epoch [283/1000], Loss: 0.0095\n"
     ]
    },
    {
     "name": "stderr",
     "output_type": "stream",
     "text": [
      "Epoch 284/1000: 100%|██████████| 216/216 [02:18<00:00,  1.56it/s, loss=0.0095] \n"
     ]
    },
    {
     "name": "stdout",
     "output_type": "stream",
     "text": [
      "Epoch [284/1000], Loss: 0.0095\n"
     ]
    },
    {
     "name": "stderr",
     "output_type": "stream",
     "text": [
      "Epoch 285/1000: 100%|██████████| 216/216 [02:18<00:00,  1.56it/s, loss=0.00979]\n"
     ]
    },
    {
     "name": "stdout",
     "output_type": "stream",
     "text": [
      "Epoch [285/1000], Loss: 0.0098\n"
     ]
    },
    {
     "name": "stderr",
     "output_type": "stream",
     "text": [
      "Epoch 286/1000: 100%|██████████| 216/216 [02:18<00:00,  1.56it/s, loss=0.00975]\n"
     ]
    },
    {
     "name": "stdout",
     "output_type": "stream",
     "text": [
      "Epoch [286/1000], Loss: 0.0098\n"
     ]
    },
    {
     "name": "stderr",
     "output_type": "stream",
     "text": [
      "Epoch 287/1000: 100%|██████████| 216/216 [02:18<00:00,  1.56it/s, loss=0.00942]\n"
     ]
    },
    {
     "name": "stdout",
     "output_type": "stream",
     "text": [
      "Epoch [287/1000], Loss: 0.0094\n"
     ]
    },
    {
     "name": "stderr",
     "output_type": "stream",
     "text": [
      "Epoch 288/1000: 100%|██████████| 216/216 [02:18<00:00,  1.56it/s, loss=0.00904]\n"
     ]
    },
    {
     "name": "stdout",
     "output_type": "stream",
     "text": [
      "Epoch [288/1000], Loss: 0.0090\n"
     ]
    },
    {
     "name": "stderr",
     "output_type": "stream",
     "text": [
      "Epoch 289/1000: 100%|██████████| 216/216 [02:17<00:00,  1.57it/s, loss=0.00917]\n"
     ]
    },
    {
     "name": "stdout",
     "output_type": "stream",
     "text": [
      "Epoch [289/1000], Loss: 0.0092\n"
     ]
    },
    {
     "name": "stderr",
     "output_type": "stream",
     "text": [
      "Epoch 290/1000: 100%|██████████| 216/216 [02:18<00:00,  1.56it/s, loss=0.00937]\n"
     ]
    },
    {
     "name": "stdout",
     "output_type": "stream",
     "text": [
      "Epoch [290/1000], Loss: 0.0094\n"
     ]
    },
    {
     "name": "stderr",
     "output_type": "stream",
     "text": [
      "Epoch 291/1000: 100%|██████████| 216/216 [02:18<00:00,  1.56it/s, loss=0.00942]\n"
     ]
    },
    {
     "name": "stdout",
     "output_type": "stream",
     "text": [
      "Epoch [291/1000], Loss: 0.0094\n"
     ]
    },
    {
     "name": "stderr",
     "output_type": "stream",
     "text": [
      "Epoch 292/1000: 100%|██████████| 216/216 [02:18<00:00,  1.56it/s, loss=0.00936]\n"
     ]
    },
    {
     "name": "stdout",
     "output_type": "stream",
     "text": [
      "Epoch [292/1000], Loss: 0.0094\n"
     ]
    },
    {
     "name": "stderr",
     "output_type": "stream",
     "text": [
      "Epoch 293/1000: 100%|██████████| 216/216 [02:18<00:00,  1.56it/s, loss=0.00917]\n"
     ]
    },
    {
     "name": "stdout",
     "output_type": "stream",
     "text": [
      "Epoch [293/1000], Loss: 0.0092\n"
     ]
    },
    {
     "name": "stderr",
     "output_type": "stream",
     "text": [
      "Epoch 294/1000: 100%|██████████| 216/216 [02:18<00:00,  1.56it/s, loss=0.0089] \n"
     ]
    },
    {
     "name": "stdout",
     "output_type": "stream",
     "text": [
      "Epoch [294/1000], Loss: 0.0089\n"
     ]
    },
    {
     "name": "stderr",
     "output_type": "stream",
     "text": [
      "Epoch 295/1000: 100%|██████████| 216/216 [02:18<00:00,  1.56it/s, loss=0.009]  \n"
     ]
    },
    {
     "name": "stdout",
     "output_type": "stream",
     "text": [
      "Epoch [295/1000], Loss: 0.0090\n"
     ]
    },
    {
     "name": "stderr",
     "output_type": "stream",
     "text": [
      "Epoch 296/1000: 100%|██████████| 216/216 [02:18<00:00,  1.56it/s, loss=0.00909]\n"
     ]
    },
    {
     "name": "stdout",
     "output_type": "stream",
     "text": [
      "Epoch [296/1000], Loss: 0.0091\n"
     ]
    },
    {
     "name": "stderr",
     "output_type": "stream",
     "text": [
      "Epoch 297/1000: 100%|██████████| 216/216 [02:18<00:00,  1.56it/s, loss=0.00901]\n"
     ]
    },
    {
     "name": "stdout",
     "output_type": "stream",
     "text": [
      "Epoch [297/1000], Loss: 0.0090\n"
     ]
    },
    {
     "name": "stderr",
     "output_type": "stream",
     "text": [
      "Epoch 298/1000: 100%|██████████| 216/216 [02:18<00:00,  1.56it/s, loss=0.00891]\n"
     ]
    },
    {
     "name": "stdout",
     "output_type": "stream",
     "text": [
      "Epoch [298/1000], Loss: 0.0089\n"
     ]
    },
    {
     "name": "stderr",
     "output_type": "stream",
     "text": [
      "Epoch 299/1000: 100%|██████████| 216/216 [02:17<00:00,  1.57it/s, loss=0.00879]\n"
     ]
    },
    {
     "name": "stdout",
     "output_type": "stream",
     "text": [
      "Epoch [299/1000], Loss: 0.0088\n"
     ]
    },
    {
     "name": "stderr",
     "output_type": "stream",
     "text": [
      "Epoch 300/1000: 100%|██████████| 216/216 [02:18<00:00,  1.56it/s, loss=0.064] \n"
     ]
    },
    {
     "name": "stdout",
     "output_type": "stream",
     "text": [
      "Epoch [300/1000], Loss: 0.0640\n"
     ]
    },
    {
     "name": "stderr",
     "output_type": "stream",
     "text": [
      "Epoch 301/1000: 100%|██████████| 216/216 [02:18<00:00,  1.56it/s, loss=0.0292]\n"
     ]
    },
    {
     "name": "stdout",
     "output_type": "stream",
     "text": [
      "Epoch [301/1000], Loss: 0.0292\n",
      "Epoch [301/1000], Loss: 0.0292, Train Accuracy: 0.9929, Validation Accuracy: 0.9681, IoU: 0.7877\n"
     ]
    },
    {
     "name": "stderr",
     "output_type": "stream",
     "text": [
      "Epoch 302/1000: 100%|██████████| 216/216 [02:19<00:00,  1.55it/s, loss=0.0155]\n"
     ]
    },
    {
     "name": "stdout",
     "output_type": "stream",
     "text": [
      "Epoch [302/1000], Loss: 0.0155\n"
     ]
    },
    {
     "name": "stderr",
     "output_type": "stream",
     "text": [
      "Epoch 303/1000: 100%|██████████| 216/216 [02:18<00:00,  1.56it/s, loss=0.0124]\n"
     ]
    },
    {
     "name": "stdout",
     "output_type": "stream",
     "text": [
      "Epoch [303/1000], Loss: 0.0124\n"
     ]
    },
    {
     "name": "stderr",
     "output_type": "stream",
     "text": [
      "Epoch 304/1000: 100%|██████████| 216/216 [02:18<00:00,  1.56it/s, loss=0.0108]\n"
     ]
    },
    {
     "name": "stdout",
     "output_type": "stream",
     "text": [
      "Epoch [304/1000], Loss: 0.0108\n"
     ]
    },
    {
     "name": "stderr",
     "output_type": "stream",
     "text": [
      "Epoch 305/1000: 100%|██████████| 216/216 [02:18<00:00,  1.56it/s, loss=0.00972]\n"
     ]
    },
    {
     "name": "stdout",
     "output_type": "stream",
     "text": [
      "Epoch [305/1000], Loss: 0.0097\n"
     ]
    },
    {
     "name": "stderr",
     "output_type": "stream",
     "text": [
      "Epoch 306/1000: 100%|██████████| 216/216 [02:18<00:00,  1.56it/s, loss=0.00901]\n"
     ]
    },
    {
     "name": "stdout",
     "output_type": "stream",
     "text": [
      "Epoch [306/1000], Loss: 0.0090\n"
     ]
    },
    {
     "name": "stderr",
     "output_type": "stream",
     "text": [
      "Epoch 307/1000: 100%|██████████| 216/216 [02:17<00:00,  1.57it/s, loss=0.00846]\n"
     ]
    },
    {
     "name": "stdout",
     "output_type": "stream",
     "text": [
      "Epoch [307/1000], Loss: 0.0085\n"
     ]
    },
    {
     "name": "stderr",
     "output_type": "stream",
     "text": [
      "Epoch 308/1000: 100%|██████████| 216/216 [02:18<00:00,  1.56it/s, loss=0.00806]\n"
     ]
    },
    {
     "name": "stdout",
     "output_type": "stream",
     "text": [
      "Epoch [308/1000], Loss: 0.0081\n"
     ]
    },
    {
     "name": "stderr",
     "output_type": "stream",
     "text": [
      "Epoch 309/1000: 100%|██████████| 216/216 [02:18<00:00,  1.56it/s, loss=0.00775]\n"
     ]
    },
    {
     "name": "stdout",
     "output_type": "stream",
     "text": [
      "Epoch [309/1000], Loss: 0.0077\n"
     ]
    },
    {
     "name": "stderr",
     "output_type": "stream",
     "text": [
      "Epoch 310/1000: 100%|██████████| 216/216 [02:18<00:00,  1.56it/s, loss=0.00753]\n"
     ]
    },
    {
     "name": "stdout",
     "output_type": "stream",
     "text": [
      "Epoch [310/1000], Loss: 0.0075\n"
     ]
    },
    {
     "name": "stderr",
     "output_type": "stream",
     "text": [
      "Epoch 311/1000: 100%|██████████| 216/216 [02:18<00:00,  1.56it/s, loss=0.00739]\n"
     ]
    },
    {
     "name": "stdout",
     "output_type": "stream",
     "text": [
      "Epoch [311/1000], Loss: 0.0074\n"
     ]
    },
    {
     "name": "stderr",
     "output_type": "stream",
     "text": [
      "Epoch 312/1000: 100%|██████████| 216/216 [02:18<00:00,  1.56it/s, loss=0.00736]\n"
     ]
    },
    {
     "name": "stdout",
     "output_type": "stream",
     "text": [
      "Epoch [312/1000], Loss: 0.0074\n"
     ]
    },
    {
     "name": "stderr",
     "output_type": "stream",
     "text": [
      "Epoch 313/1000: 100%|██████████| 216/216 [02:18<00:00,  1.56it/s, loss=0.00745]\n"
     ]
    },
    {
     "name": "stdout",
     "output_type": "stream",
     "text": [
      "Epoch [313/1000], Loss: 0.0075\n"
     ]
    },
    {
     "name": "stderr",
     "output_type": "stream",
     "text": [
      "Epoch 314/1000: 100%|██████████| 216/216 [02:18<00:00,  1.56it/s, loss=0.0076] \n"
     ]
    },
    {
     "name": "stdout",
     "output_type": "stream",
     "text": [
      "Epoch [314/1000], Loss: 0.0076\n"
     ]
    },
    {
     "name": "stderr",
     "output_type": "stream",
     "text": [
      "Epoch 315/1000: 100%|██████████| 216/216 [02:18<00:00,  1.56it/s, loss=0.00776]\n"
     ]
    },
    {
     "name": "stdout",
     "output_type": "stream",
     "text": [
      "Epoch [315/1000], Loss: 0.0078\n"
     ]
    },
    {
     "name": "stderr",
     "output_type": "stream",
     "text": [
      "Epoch 316/1000: 100%|██████████| 216/216 [02:18<00:00,  1.56it/s, loss=0.00803]\n"
     ]
    },
    {
     "name": "stdout",
     "output_type": "stream",
     "text": [
      "Epoch [316/1000], Loss: 0.0080\n"
     ]
    },
    {
     "name": "stderr",
     "output_type": "stream",
     "text": [
      "Epoch 317/1000: 100%|██████████| 216/216 [02:19<00:00,  1.55it/s, loss=0.00847]\n"
     ]
    },
    {
     "name": "stdout",
     "output_type": "stream",
     "text": [
      "Epoch [317/1000], Loss: 0.0085\n"
     ]
    },
    {
     "name": "stderr",
     "output_type": "stream",
     "text": [
      "Epoch 318/1000: 100%|██████████| 216/216 [02:19<00:00,  1.54it/s, loss=0.00827]\n"
     ]
    },
    {
     "name": "stdout",
     "output_type": "stream",
     "text": [
      "Epoch [318/1000], Loss: 0.0083\n"
     ]
    },
    {
     "name": "stderr",
     "output_type": "stream",
     "text": [
      "Epoch 319/1000: 100%|██████████| 216/216 [02:20<00:00,  1.54it/s, loss=0.00812]\n"
     ]
    },
    {
     "name": "stdout",
     "output_type": "stream",
     "text": [
      "Epoch [319/1000], Loss: 0.0081\n"
     ]
    },
    {
     "name": "stderr",
     "output_type": "stream",
     "text": [
      "Epoch 320/1000: 100%|██████████| 216/216 [02:18<00:00,  1.56it/s, loss=0.00813]\n"
     ]
    },
    {
     "name": "stdout",
     "output_type": "stream",
     "text": [
      "Epoch [320/1000], Loss: 0.0081\n"
     ]
    },
    {
     "name": "stderr",
     "output_type": "stream",
     "text": [
      "Epoch 321/1000: 100%|██████████| 216/216 [02:19<00:00,  1.55it/s, loss=0.00826]\n"
     ]
    },
    {
     "name": "stdout",
     "output_type": "stream",
     "text": [
      "Epoch [321/1000], Loss: 0.0083\n"
     ]
    },
    {
     "name": "stderr",
     "output_type": "stream",
     "text": [
      "Epoch 322/1000: 100%|██████████| 216/216 [02:19<00:00,  1.55it/s, loss=0.00834]\n"
     ]
    },
    {
     "name": "stdout",
     "output_type": "stream",
     "text": [
      "Epoch [322/1000], Loss: 0.0083\n"
     ]
    },
    {
     "name": "stderr",
     "output_type": "stream",
     "text": [
      "Epoch 323/1000: 100%|██████████| 216/216 [02:18<00:00,  1.56it/s, loss=0.0083] \n"
     ]
    },
    {
     "name": "stdout",
     "output_type": "stream",
     "text": [
      "Epoch [323/1000], Loss: 0.0083\n"
     ]
    },
    {
     "name": "stderr",
     "output_type": "stream",
     "text": [
      "Epoch 324/1000: 100%|██████████| 216/216 [02:19<00:00,  1.55it/s, loss=0.0084] \n"
     ]
    },
    {
     "name": "stdout",
     "output_type": "stream",
     "text": [
      "Epoch [324/1000], Loss: 0.0084\n"
     ]
    },
    {
     "name": "stderr",
     "output_type": "stream",
     "text": [
      "Epoch 325/1000: 100%|██████████| 216/216 [02:18<00:00,  1.56it/s, loss=0.00843]\n"
     ]
    },
    {
     "name": "stdout",
     "output_type": "stream",
     "text": [
      "Epoch [325/1000], Loss: 0.0084\n"
     ]
    },
    {
     "name": "stderr",
     "output_type": "stream",
     "text": [
      "Epoch 326/1000: 100%|██████████| 216/216 [02:19<00:00,  1.55it/s, loss=0.00858]\n"
     ]
    },
    {
     "name": "stdout",
     "output_type": "stream",
     "text": [
      "Epoch [326/1000], Loss: 0.0086\n"
     ]
    },
    {
     "name": "stderr",
     "output_type": "stream",
     "text": [
      "Epoch 327/1000: 100%|██████████| 216/216 [02:19<00:00,  1.55it/s, loss=0.00843]\n"
     ]
    },
    {
     "name": "stdout",
     "output_type": "stream",
     "text": [
      "Epoch [327/1000], Loss: 0.0084\n"
     ]
    },
    {
     "name": "stderr",
     "output_type": "stream",
     "text": [
      "Epoch 328/1000: 100%|██████████| 216/216 [02:19<00:00,  1.55it/s, loss=0.00841]\n"
     ]
    },
    {
     "name": "stdout",
     "output_type": "stream",
     "text": [
      "Epoch [328/1000], Loss: 0.0084\n"
     ]
    },
    {
     "name": "stderr",
     "output_type": "stream",
     "text": [
      "Epoch 329/1000: 100%|██████████| 216/216 [02:19<00:00,  1.55it/s, loss=0.0083] \n"
     ]
    },
    {
     "name": "stdout",
     "output_type": "stream",
     "text": [
      "Epoch [329/1000], Loss: 0.0083\n"
     ]
    },
    {
     "name": "stderr",
     "output_type": "stream",
     "text": [
      "Epoch 330/1000: 100%|██████████| 216/216 [02:19<00:00,  1.55it/s, loss=0.00828]\n"
     ]
    },
    {
     "name": "stdout",
     "output_type": "stream",
     "text": [
      "Epoch [330/1000], Loss: 0.0083\n"
     ]
    },
    {
     "name": "stderr",
     "output_type": "stream",
     "text": [
      "Epoch 331/1000: 100%|██████████| 216/216 [02:19<00:00,  1.55it/s, loss=0.0084] \n"
     ]
    },
    {
     "name": "stdout",
     "output_type": "stream",
     "text": [
      "Epoch [331/1000], Loss: 0.0084\n"
     ]
    },
    {
     "name": "stderr",
     "output_type": "stream",
     "text": [
      "Epoch 332/1000: 100%|██████████| 216/216 [02:19<00:00,  1.55it/s, loss=0.00835]\n"
     ]
    },
    {
     "name": "stdout",
     "output_type": "stream",
     "text": [
      "Epoch [332/1000], Loss: 0.0083\n"
     ]
    },
    {
     "name": "stderr",
     "output_type": "stream",
     "text": [
      "Epoch 333/1000: 100%|██████████| 216/216 [02:19<00:00,  1.55it/s, loss=0.00843]\n"
     ]
    },
    {
     "name": "stdout",
     "output_type": "stream",
     "text": [
      "Epoch [333/1000], Loss: 0.0084\n"
     ]
    },
    {
     "name": "stderr",
     "output_type": "stream",
     "text": [
      "Epoch 334/1000: 100%|██████████| 216/216 [02:19<00:00,  1.55it/s, loss=0.0085] \n"
     ]
    },
    {
     "name": "stdout",
     "output_type": "stream",
     "text": [
      "Epoch [334/1000], Loss: 0.0085\n"
     ]
    },
    {
     "name": "stderr",
     "output_type": "stream",
     "text": [
      "Epoch 335/1000: 100%|██████████| 216/216 [02:20<00:00,  1.54it/s, loss=0.00842]\n"
     ]
    },
    {
     "name": "stdout",
     "output_type": "stream",
     "text": [
      "Epoch [335/1000], Loss: 0.0084\n"
     ]
    },
    {
     "name": "stderr",
     "output_type": "stream",
     "text": [
      "Epoch 336/1000: 100%|██████████| 216/216 [02:21<00:00,  1.53it/s, loss=0.00835]\n"
     ]
    },
    {
     "name": "stdout",
     "output_type": "stream",
     "text": [
      "Epoch [336/1000], Loss: 0.0083\n"
     ]
    },
    {
     "name": "stderr",
     "output_type": "stream",
     "text": [
      "Epoch 337/1000: 100%|██████████| 216/216 [02:20<00:00,  1.54it/s, loss=0.00836]\n"
     ]
    },
    {
     "name": "stdout",
     "output_type": "stream",
     "text": [
      "Epoch [337/1000], Loss: 0.0084\n"
     ]
    },
    {
     "name": "stderr",
     "output_type": "stream",
     "text": [
      "Epoch 338/1000: 100%|██████████| 216/216 [02:20<00:00,  1.54it/s, loss=0.0083] \n"
     ]
    },
    {
     "name": "stdout",
     "output_type": "stream",
     "text": [
      "Epoch [338/1000], Loss: 0.0083\n"
     ]
    },
    {
     "name": "stderr",
     "output_type": "stream",
     "text": [
      "Epoch 339/1000: 100%|██████████| 216/216 [02:20<00:00,  1.53it/s, loss=0.00824]\n"
     ]
    },
    {
     "name": "stdout",
     "output_type": "stream",
     "text": [
      "Epoch [339/1000], Loss: 0.0082\n"
     ]
    },
    {
     "name": "stderr",
     "output_type": "stream",
     "text": [
      "Epoch 340/1000: 100%|██████████| 216/216 [02:21<00:00,  1.53it/s, loss=0.00833]\n"
     ]
    },
    {
     "name": "stdout",
     "output_type": "stream",
     "text": [
      "Epoch [340/1000], Loss: 0.0083\n"
     ]
    },
    {
     "name": "stderr",
     "output_type": "stream",
     "text": [
      "Epoch 341/1000: 100%|██████████| 216/216 [02:21<00:00,  1.53it/s, loss=0.0117] \n"
     ]
    },
    {
     "name": "stdout",
     "output_type": "stream",
     "text": [
      "Epoch [341/1000], Loss: 0.0117\n"
     ]
    },
    {
     "name": "stderr",
     "output_type": "stream",
     "text": [
      "Epoch 342/1000: 100%|██████████| 216/216 [02:19<00:00,  1.54it/s, loss=0.0996]\n"
     ]
    },
    {
     "name": "stdout",
     "output_type": "stream",
     "text": [
      "Epoch [342/1000], Loss: 0.0996\n"
     ]
    },
    {
     "name": "stderr",
     "output_type": "stream",
     "text": [
      "Epoch 343/1000: 100%|██████████| 216/216 [02:20<00:00,  1.54it/s, loss=0.0228]\n"
     ]
    },
    {
     "name": "stdout",
     "output_type": "stream",
     "text": [
      "Epoch [343/1000], Loss: 0.0228\n"
     ]
    },
    {
     "name": "stderr",
     "output_type": "stream",
     "text": [
      "Epoch 344/1000: 100%|██████████| 216/216 [02:20<00:00,  1.54it/s, loss=0.0153]\n"
     ]
    },
    {
     "name": "stdout",
     "output_type": "stream",
     "text": [
      "Epoch [344/1000], Loss: 0.0153\n"
     ]
    },
    {
     "name": "stderr",
     "output_type": "stream",
     "text": [
      "Epoch 345/1000: 100%|██████████| 216/216 [02:22<00:00,  1.52it/s, loss=0.0125]\n"
     ]
    },
    {
     "name": "stdout",
     "output_type": "stream",
     "text": [
      "Epoch [345/1000], Loss: 0.0125\n"
     ]
    },
    {
     "name": "stderr",
     "output_type": "stream",
     "text": [
      "Epoch 346/1000: 100%|██████████| 216/216 [02:21<00:00,  1.53it/s, loss=0.0109]\n"
     ]
    },
    {
     "name": "stdout",
     "output_type": "stream",
     "text": [
      "Epoch [346/1000], Loss: 0.0109\n"
     ]
    },
    {
     "name": "stderr",
     "output_type": "stream",
     "text": [
      "Epoch 347/1000: 100%|██████████| 216/216 [02:21<00:00,  1.53it/s, loss=0.00984]\n"
     ]
    },
    {
     "name": "stdout",
     "output_type": "stream",
     "text": [
      "Epoch [347/1000], Loss: 0.0098\n"
     ]
    },
    {
     "name": "stderr",
     "output_type": "stream",
     "text": [
      "Epoch 348/1000: 100%|██████████| 216/216 [02:22<00:00,  1.52it/s, loss=0.00904]\n"
     ]
    },
    {
     "name": "stdout",
     "output_type": "stream",
     "text": [
      "Epoch [348/1000], Loss: 0.0090\n"
     ]
    },
    {
     "name": "stderr",
     "output_type": "stream",
     "text": [
      "Epoch 349/1000: 100%|██████████| 216/216 [02:21<00:00,  1.53it/s, loss=0.00842]\n"
     ]
    },
    {
     "name": "stdout",
     "output_type": "stream",
     "text": [
      "Epoch [349/1000], Loss: 0.0084\n"
     ]
    },
    {
     "name": "stderr",
     "output_type": "stream",
     "text": [
      "Epoch 350/1000: 100%|██████████| 216/216 [02:21<00:00,  1.53it/s, loss=0.00793]\n"
     ]
    },
    {
     "name": "stdout",
     "output_type": "stream",
     "text": [
      "Epoch [350/1000], Loss: 0.0079\n"
     ]
    },
    {
     "name": "stderr",
     "output_type": "stream",
     "text": [
      "Epoch 351/1000: 100%|██████████| 216/216 [02:21<00:00,  1.53it/s, loss=0.00755]\n"
     ]
    },
    {
     "name": "stdout",
     "output_type": "stream",
     "text": [
      "Epoch [351/1000], Loss: 0.0075\n",
      "Epoch [351/1000], Loss: 0.0075, Train Accuracy: 0.9966, Validation Accuracy: 0.9681, IoU: 0.7920\n"
     ]
    },
    {
     "name": "stderr",
     "output_type": "stream",
     "text": [
      "Epoch 352/1000: 100%|██████████| 216/216 [02:21<00:00,  1.53it/s, loss=0.00724]\n"
     ]
    },
    {
     "name": "stdout",
     "output_type": "stream",
     "text": [
      "Epoch [352/1000], Loss: 0.0072\n"
     ]
    },
    {
     "name": "stderr",
     "output_type": "stream",
     "text": [
      "Epoch 353/1000: 100%|██████████| 216/216 [02:24<00:00,  1.50it/s, loss=0.007]  \n"
     ]
    },
    {
     "name": "stdout",
     "output_type": "stream",
     "text": [
      "Epoch [353/1000], Loss: 0.0070\n"
     ]
    },
    {
     "name": "stderr",
     "output_type": "stream",
     "text": [
      "Epoch 354/1000: 100%|██████████| 216/216 [02:22<00:00,  1.52it/s, loss=0.00685]\n"
     ]
    },
    {
     "name": "stdout",
     "output_type": "stream",
     "text": [
      "Epoch [354/1000], Loss: 0.0069\n"
     ]
    },
    {
     "name": "stderr",
     "output_type": "stream",
     "text": [
      "Epoch 355/1000: 100%|██████████| 216/216 [02:21<00:00,  1.52it/s, loss=0.00682]\n"
     ]
    },
    {
     "name": "stdout",
     "output_type": "stream",
     "text": [
      "Epoch [355/1000], Loss: 0.0068\n"
     ]
    },
    {
     "name": "stderr",
     "output_type": "stream",
     "text": [
      "Epoch 356/1000: 100%|██████████| 216/216 [02:21<00:00,  1.53it/s, loss=0.00684]\n"
     ]
    },
    {
     "name": "stdout",
     "output_type": "stream",
     "text": [
      "Epoch [356/1000], Loss: 0.0068\n"
     ]
    },
    {
     "name": "stderr",
     "output_type": "stream",
     "text": [
      "Epoch 357/1000: 100%|██████████| 216/216 [02:23<00:00,  1.51it/s, loss=0.00699]\n"
     ]
    },
    {
     "name": "stdout",
     "output_type": "stream",
     "text": [
      "Epoch [357/1000], Loss: 0.0070\n"
     ]
    },
    {
     "name": "stderr",
     "output_type": "stream",
     "text": [
      "Epoch 358/1000: 100%|██████████| 216/216 [02:23<00:00,  1.51it/s, loss=0.0072] \n"
     ]
    },
    {
     "name": "stdout",
     "output_type": "stream",
     "text": [
      "Epoch [358/1000], Loss: 0.0072\n"
     ]
    },
    {
     "name": "stderr",
     "output_type": "stream",
     "text": [
      "Epoch 359/1000: 100%|██████████| 216/216 [02:22<00:00,  1.52it/s, loss=0.00747]\n"
     ]
    },
    {
     "name": "stdout",
     "output_type": "stream",
     "text": [
      "Epoch [359/1000], Loss: 0.0075\n"
     ]
    },
    {
     "name": "stderr",
     "output_type": "stream",
     "text": [
      "Epoch 360/1000: 100%|██████████| 216/216 [02:22<00:00,  1.52it/s, loss=0.00746]\n"
     ]
    },
    {
     "name": "stdout",
     "output_type": "stream",
     "text": [
      "Epoch [360/1000], Loss: 0.0075\n"
     ]
    },
    {
     "name": "stderr",
     "output_type": "stream",
     "text": [
      "Epoch 361/1000: 100%|██████████| 216/216 [02:23<00:00,  1.51it/s, loss=0.0075] \n"
     ]
    },
    {
     "name": "stdout",
     "output_type": "stream",
     "text": [
      "Epoch [361/1000], Loss: 0.0075\n"
     ]
    },
    {
     "name": "stderr",
     "output_type": "stream",
     "text": [
      "Epoch 362/1000: 100%|██████████| 216/216 [02:23<00:00,  1.50it/s, loss=0.00742]\n"
     ]
    },
    {
     "name": "stdout",
     "output_type": "stream",
     "text": [
      "Epoch [362/1000], Loss: 0.0074\n"
     ]
    },
    {
     "name": "stderr",
     "output_type": "stream",
     "text": [
      "Epoch 363/1000: 100%|██████████| 216/216 [02:22<00:00,  1.52it/s, loss=0.00764]\n"
     ]
    },
    {
     "name": "stdout",
     "output_type": "stream",
     "text": [
      "Epoch [363/1000], Loss: 0.0076\n"
     ]
    },
    {
     "name": "stderr",
     "output_type": "stream",
     "text": [
      "Epoch 364/1000: 100%|██████████| 216/216 [02:24<00:00,  1.50it/s, loss=0.00757]\n"
     ]
    },
    {
     "name": "stdout",
     "output_type": "stream",
     "text": [
      "Epoch [364/1000], Loss: 0.0076\n"
     ]
    },
    {
     "name": "stderr",
     "output_type": "stream",
     "text": [
      "Epoch 365/1000: 100%|██████████| 216/216 [02:24<00:00,  1.49it/s, loss=0.00743]\n"
     ]
    },
    {
     "name": "stdout",
     "output_type": "stream",
     "text": [
      "Epoch [365/1000], Loss: 0.0074\n"
     ]
    },
    {
     "name": "stderr",
     "output_type": "stream",
     "text": [
      "Epoch 366/1000: 100%|██████████| 216/216 [02:23<00:00,  1.50it/s, loss=0.00733]\n"
     ]
    },
    {
     "name": "stdout",
     "output_type": "stream",
     "text": [
      "Epoch [366/1000], Loss: 0.0073\n"
     ]
    },
    {
     "name": "stderr",
     "output_type": "stream",
     "text": [
      "Epoch 367/1000: 100%|██████████| 216/216 [02:22<00:00,  1.52it/s, loss=0.00744]\n"
     ]
    },
    {
     "name": "stdout",
     "output_type": "stream",
     "text": [
      "Epoch [367/1000], Loss: 0.0074\n"
     ]
    },
    {
     "name": "stderr",
     "output_type": "stream",
     "text": [
      "Epoch 368/1000: 100%|██████████| 216/216 [02:22<00:00,  1.52it/s, loss=0.00772]\n"
     ]
    },
    {
     "name": "stdout",
     "output_type": "stream",
     "text": [
      "Epoch [368/1000], Loss: 0.0077\n"
     ]
    },
    {
     "name": "stderr",
     "output_type": "stream",
     "text": [
      "Epoch 369/1000: 100%|██████████| 216/216 [02:23<00:00,  1.51it/s, loss=0.00791]\n"
     ]
    },
    {
     "name": "stdout",
     "output_type": "stream",
     "text": [
      "Epoch [369/1000], Loss: 0.0079\n"
     ]
    },
    {
     "name": "stderr",
     "output_type": "stream",
     "text": [
      "Epoch 370/1000: 100%|██████████| 216/216 [02:22<00:00,  1.51it/s, loss=0.00822]\n"
     ]
    },
    {
     "name": "stdout",
     "output_type": "stream",
     "text": [
      "Epoch [370/1000], Loss: 0.0082\n"
     ]
    },
    {
     "name": "stderr",
     "output_type": "stream",
     "text": [
      "Epoch 371/1000: 100%|██████████| 216/216 [02:23<00:00,  1.51it/s, loss=0.00802]\n"
     ]
    },
    {
     "name": "stdout",
     "output_type": "stream",
     "text": [
      "Epoch [371/1000], Loss: 0.0080\n"
     ]
    },
    {
     "name": "stderr",
     "output_type": "stream",
     "text": [
      "Epoch 372/1000: 100%|██████████| 216/216 [02:23<00:00,  1.50it/s, loss=0.00795]\n"
     ]
    },
    {
     "name": "stdout",
     "output_type": "stream",
     "text": [
      "Epoch [372/1000], Loss: 0.0080\n"
     ]
    },
    {
     "name": "stderr",
     "output_type": "stream",
     "text": [
      "Epoch 373/1000: 100%|██████████| 216/216 [02:23<00:00,  1.51it/s, loss=0.00764]\n"
     ]
    },
    {
     "name": "stdout",
     "output_type": "stream",
     "text": [
      "Epoch [373/1000], Loss: 0.0076\n"
     ]
    },
    {
     "name": "stderr",
     "output_type": "stream",
     "text": [
      "Epoch 374/1000: 100%|██████████| 216/216 [02:22<00:00,  1.51it/s, loss=0.00776]\n"
     ]
    },
    {
     "name": "stdout",
     "output_type": "stream",
     "text": [
      "Epoch [374/1000], Loss: 0.0078\n"
     ]
    },
    {
     "name": "stderr",
     "output_type": "stream",
     "text": [
      "Epoch 375/1000:  53%|█████▎    | 115/216 [01:15<01:06,  1.51it/s, loss=0.00768]\n"
     ]
    },
    {
     "ename": "KeyboardInterrupt",
     "evalue": "",
     "output_type": "error",
     "traceback": [
      "\u001b[0;31m---------------------------------------------------------------------------\u001b[0m",
      "\u001b[0;31mKeyboardInterrupt\u001b[0m                         Traceback (most recent call last)",
      "\u001b[1;32m/home/sugon/zpy/U-NET/U-net/vgg16_unet.ipynb Cell 7\u001b[0m line \u001b[0;36m1\n\u001b[1;32m    <a href='vscode-notebook-cell:/home/sugon/zpy/U-NET/U-net/vgg16_unet.ipynb#W6sZmlsZQ%3D%3D?line=108'>109</a>\u001b[0m     loss\u001b[39m.\u001b[39mbackward()\n\u001b[1;32m    <a href='vscode-notebook-cell:/home/sugon/zpy/U-NET/U-net/vgg16_unet.ipynb#W6sZmlsZQ%3D%3D?line=109'>110</a>\u001b[0m     optimizer\u001b[39m.\u001b[39mstep()\n\u001b[0;32m--> <a href='vscode-notebook-cell:/home/sugon/zpy/U-NET/U-net/vgg16_unet.ipynb#W6sZmlsZQ%3D%3D?line=111'>112</a>\u001b[0m     running_loss \u001b[39m+\u001b[39m\u001b[39m=\u001b[39m loss\u001b[39m.\u001b[39;49mitem()\n\u001b[1;32m    <a href='vscode-notebook-cell:/home/sugon/zpy/U-NET/U-net/vgg16_unet.ipynb#W6sZmlsZQ%3D%3D?line=112'>113</a>\u001b[0m     progress_bar\u001b[39m.\u001b[39mset_postfix(loss\u001b[39m=\u001b[39mrunning_loss \u001b[39m/\u001b[39m (batch_idx \u001b[39m+\u001b[39m \u001b[39m1\u001b[39m))\n\u001b[1;32m    <a href='vscode-notebook-cell:/home/sugon/zpy/U-NET/U-net/vgg16_unet.ipynb#W6sZmlsZQ%3D%3D?line=114'>115</a>\u001b[0m \u001b[39m# loss\u001b[39;00m\n",
      "\u001b[0;31mKeyboardInterrupt\u001b[0m: "
     ]
    }
   ],
   "source": [
    "import torch\n",
    "import torch.nn as nn\n",
    "import torch.optim as optim\n",
    "from torch.utils.data import DataLoader\n",
    "import torchvision.transforms as transforms\n",
    "from tqdm import tqdm\n",
    "\n",
    "# 设备设置\n",
    "device = torch.device(\"cuda\" if torch.cuda.is_available() else \"cpu\")\n",
    "\n",
    "# 超参数\n",
    "num_epochs = 1000\n",
    "batch_size = 2\n",
    "learning_rate = 1e-4\n",
    "loss_summary = []\n",
    "accuracy_summary = []\n",
    "iou_summary = []\n",
    "\n",
    "# 数据预处理\n",
    "transforms_img = transforms.Compose([\n",
    "    transforms.ToTensor(),\n",
    "    # transforms.Resize((128, 128))\n",
    "    # transforms.Normalize(mean=[0.2,0.2,0.2],\n",
    "    #                      std=[0.2,0.2,0.3])\n",
    "])\n",
    "\n",
    "# 数据集和数据加载器\n",
    "rootdir = \"/home/sugon/zpy/U-NET/U-net/unet_data\"\n",
    "datadir = \"train\"\n",
    "labeldir = \"train_numpy\"\n",
    "\n",
    "camvid_dataset = Camvid(root_dir=rootdir, label_dir=labeldir, data_dir=datadir, transforms4img=transforms_img)\n",
    "# train_loader = DataLoader(dataset=camvid_dataset, shuffle=True, batch_size=batch_size, drop_last=True, num_workers=0)\n",
    "\n",
    "# 划分训练集和验证集\n",
    "train_size = int(0.8 * len(camvid_dataset))\n",
    "val_size = len(camvid_dataset) - train_size\n",
    "train_dataset, val_dataset = torch.utils.data.random_split(camvid_dataset, [train_size, val_size])\n",
    "train_loader = DataLoader(dataset=train_dataset, shuffle=True, batch_size=batch_size, drop_last=True, num_workers=0)\n",
    "val_loader = DataLoader(dataset=val_dataset, shuffle=False, batch_size=batch_size, drop_last=True, num_workers=0)\n",
    "\n",
    "# 初始化模型\n",
    "model = VGG16UNet(num_classes=11).to(device)\n",
    "model.load_state_dict(torch.load(\"/home/sugon/zpy/U-NET/U-net/train_results/vgg16_unet_epoch_99.pth\", map_location=device)) # 从60代开始训\n",
    "\n",
    "# 损失函数和优化器\n",
    "# criterion = nn.BCELoss()  # 由于最后使用 sigmoid，所以使用 BCELoss\n",
    "criterion = nn.CrossEntropyLoss()\n",
    "optimizer = optim.Adam(model.parameters(), lr=learning_rate)\n",
    "\n",
    "\n",
    "# 计算分割准确率\n",
    "def calculate_accuracy(model, dataloader):\n",
    "    model.eval()\n",
    "    correct_pixels = 0\n",
    "    total_pixels = 0\n",
    "\n",
    "    with torch.no_grad():\n",
    "        for images, labels in dataloader:\n",
    "            images, labels = images.to(device), labels.to(device)\n",
    "            \n",
    "            outputs = model(images)  # [batch, num_classes, H, W]\n",
    "            preds = torch.argmax(outputs, dim=1)  # [batch, H, W]\n",
    "\n",
    "            correct_pixels += (preds == labels).sum().item()\n",
    "            total_pixels += labels.numel()\n",
    "\n",
    "    return correct_pixels / total_pixels  # 像素级准确率\n",
    "\n",
    "# IoU\n",
    "def calculate_iou(model, dataloader, num_classes=11):\n",
    "    model.eval()\n",
    "    iou_sum = 0\n",
    "    num_batches = 0\n",
    "\n",
    "    with torch.no_grad():\n",
    "        for images, labels in dataloader:\n",
    "            images, labels = images.to(device), labels.to(device)\n",
    "            outputs = model(images)\n",
    "            preds = torch.argmax(outputs, dim=1)\n",
    "\n",
    "            iou = []\n",
    "            for cls in range(num_classes):\n",
    "                intersection = ((preds == cls) & (labels == cls)).sum().item()\n",
    "                union = ((preds == cls) | (labels == cls)).sum().item()\n",
    "                if union == 0:\n",
    "                    continue\n",
    "                iou.append(intersection / union)\n",
    "\n",
    "            if iou:\n",
    "                iou_sum += sum(iou) / len(iou)\n",
    "                num_batches += 1\n",
    "\n",
    "    return iou_sum / num_batches if num_batches > 0 else 0.0\n",
    "\n",
    "# 训练循环\n",
    "for epoch in range(num_epochs):\n",
    "    model.train()\n",
    "    running_loss = 0.0\n",
    "    progress_bar = tqdm(enumerate(train_loader), total=len(train_loader), desc=f\"Epoch {epoch+1}/{num_epochs}\")\n",
    "    \n",
    "    for batch_idx, (images, labels) in progress_bar:\n",
    "        images, labels = images.to(device), labels.to(device)\n",
    "        # labels = labels.float()  # 确保标签数据类型匹配\n",
    "        \n",
    "        optimizer.zero_grad()\n",
    "        outputs = model(images)\n",
    "        loss = criterion(outputs, labels)\n",
    "        loss.backward()\n",
    "        optimizer.step()\n",
    "        \n",
    "        running_loss += loss.item()\n",
    "        progress_bar.set_postfix(loss=running_loss / (batch_idx + 1))\n",
    "    \n",
    "    # loss\n",
    "    train_loss = running_loss / len(train_loader)\n",
    "    loss_summary.append(running_loss / len(train_loader))\n",
    "    print(f\"Epoch [{epoch+1}/{num_epochs}], Loss: {train_loss:.4f}\")\n",
    "\n",
    "    \n",
    "    if epoch%50 == 0:\n",
    "        # 计算验证准确率\n",
    "        val_accuracy = calculate_accuracy(model, val_loader)\n",
    "        traini_accuracy = calculate_accuracy(model, train_loader)\n",
    "        accuracy_summary.append(val_accuracy)\n",
    "        \n",
    "\n",
    "        # 计算 IoU\n",
    "        val_iou = calculate_iou(model, val_loader)\n",
    "        iou_summary.append(val_iou)\n",
    "        print(f\"Epoch [{epoch+1}/{num_epochs}], Loss: {train_loss:.4f}, Train Accuracy: {traini_accuracy:.4f}, Validation Accuracy: {val_accuracy:.4f}, IoU: {val_iou:.4f}\")\n",
    "        \n",
    "    # 保存模型\n",
    "    save_dir = \"/home/sugon/zpy/U-NET/U-net/train_results/from100/\"\n",
    "    save_path = os.path.join(save_dir, f\"vgg16_unet_epoch_{epoch+1}.pth\")\n",
    "    if (train_loss < loss_summary[-1]) and epoch != 0:\n",
    "        torch.save(model.state_dict(), save_path)\n",
    "\n",
    "print(\"训练完成!\")\n"
   ]
  },
  {
   "cell_type": "code",
   "execution_count": 70,
   "metadata": {},
   "outputs": [
    {
     "name": "stdout",
     "output_type": "stream",
     "text": [
      "['0001TP_006690.png', '0001TP_006720.png', '0001TP_006750.png', '0001TP_006780.png', '0001TP_006810.png', '0001TP_006840.png', '0001TP_006870.png', '0001TP_006900.png', '0001TP_006930.png', '0001TP_006960.png', '0001TP_006990.png', '0001TP_007020.png', '0001TP_007050.png', '0001TP_007080.png', '0001TP_007110.png', '0001TP_007140.png', '0001TP_007170.png', '0001TP_007200.png', '0001TP_007230.png', '0001TP_007260.png', '0001TP_007290.png', '0001TP_007320.png', '0001TP_007350.png', '0001TP_007380.png', '0001TP_007410.png', '0001TP_007440.png', '0001TP_007470.png', '0001TP_007500.png', '0001TP_007530.png', '0001TP_007560.png', '0001TP_007590.png', '0001TP_007620.png', '0001TP_007650.png', '0001TP_007680.png', '0001TP_007710.png', '0001TP_007740.png', '0001TP_007770.png', '0001TP_007800.png', '0001TP_007830.png', '0001TP_007860.png', '0001TP_007890.png', '0001TP_007920.png', '0001TP_007950.png', '0001TP_007980.png', '0001TP_008010.png', '0001TP_008040.png', '0001TP_008070.png', '0001TP_008100.png', '0001TP_008130.png', '0001TP_008160.png', '0001TP_008190.png', '0001TP_008220.png', '0001TP_008250.png', '0001TP_008280.png', '0001TP_008310.png', '0001TP_008340.png', '0001TP_008370.png', '0001TP_008400.png', '0001TP_008430.png', '0001TP_008460.png', '0001TP_008490.png', '0001TP_008520.png', '0001TP_008550.png', '0001TP_008580.png', '0001TP_008610.png', '0001TP_008640.png', '0001TP_008670.png', '0001TP_008700.png', '0001TP_008730.png', '0001TP_008760.png', '0001TP_008790.png', '0001TP_008820.png', '0001TP_008850.png', '0001TP_008880.png', '0001TP_008910.png', '0001TP_008940.png', '0001TP_008970.png', '0001TP_009000.png', '0001TP_009030.png', '0001TP_009060.png', '0001TP_009090.png', '0001TP_009120.png', '0001TP_009150.png', '0001TP_009180.png', '0001TP_009210.png', '0001TP_009240.png', '0001TP_009270.png', '0001TP_009300.png', '0001TP_009330.png', '0001TP_009360.png', '0001TP_009390.png', '0001TP_009420.png', '0001TP_009450.png', '0001TP_009480.png', '0001TP_009510.png', '0001TP_009540.png', '0001TP_009570.png', '0001TP_009600.png', '0001TP_009630.png', '0001TP_009660.png', '0001TP_009690.png', '0001TP_009720.png', '0001TP_009750.png', '0001TP_009780.png', '0001TP_009810.png', '0001TP_009840.png', '0001TP_009870.png', '0001TP_009900.png', '0001TP_009930.png', '0001TP_009960.png', '0001TP_009990.png', '0001TP_010020.png', '0001TP_010050.png', '0001TP_010080.png', '0001TP_010110.png', '0001TP_010140.png', '0001TP_010170.png', '0001TP_010200.png', '0001TP_010230.png', '0001TP_010260.png', '0001TP_010290.png', '0001TP_010320.png', '0001TP_010350.png', '0001TP_010380.png', '0006R0_f00930.png', '0006R0_f00960.png', '0006R0_f00990.png', '0006R0_f01020.png', '0006R0_f01050.png', '0006R0_f01080.png', '0006R0_f01110.png', '0006R0_f01140.png', '0006R0_f01170.png', '0006R0_f01200.png', '0006R0_f01230.png', '0006R0_f01260.png', '0006R0_f01290.png', '0006R0_f01320.png', '0006R0_f01350.png', '0006R0_f01380.png', '0006R0_f01410.png', '0006R0_f01440.png', '0006R0_f01470.png', '0006R0_f01500.png', '0006R0_f01530.png', '0006R0_f01560.png', '0006R0_f01590.png', '0006R0_f01620.png', '0006R0_f01650.png', '0006R0_f01680.png', '0006R0_f01710.png', '0006R0_f01740.png', '0006R0_f01770.png', '0006R0_f01800.png', '0006R0_f01830.png', '0006R0_f01860.png', '0006R0_f01890.png', '0006R0_f01920.png', '0006R0_f01950.png', '0006R0_f01980.png', '0006R0_f02010.png', '0006R0_f02040.png', '0006R0_f02070.png', '0006R0_f02100.png', '0006R0_f02130.png', '0006R0_f02160.png', '0006R0_f02190.png', '0006R0_f02220.png', '0006R0_f02250.png', '0006R0_f02280.png', '0006R0_f02310.png', '0006R0_f02340.png', '0006R0_f02370.png', '0006R0_f02400.png', '0006R0_f02430.png', '0006R0_f02460.png', '0006R0_f02490.png', '0006R0_f02520.png', '0006R0_f02550.png', '0006R0_f02580.png', '0006R0_f02610.png', '0006R0_f02640.png', '0006R0_f02670.png', '0006R0_f02700.png', '0006R0_f02730.png', '0006R0_f02760.png', '0006R0_f02790.png', '0006R0_f02820.png', '0006R0_f02850.png', '0006R0_f02880.png', '0006R0_f02910.png', '0006R0_f02940.png', '0006R0_f02970.png', '0006R0_f03000.png', '0006R0_f03030.png', '0006R0_f03060.png', '0006R0_f03090.png', '0006R0_f03120.png', '0006R0_f03150.png', '0006R0_f03180.png', '0006R0_f03210.png', '0006R0_f03240.png', '0006R0_f03270.png', '0006R0_f03300.png', '0006R0_f03330.png', '0006R0_f03360.png', '0006R0_f03390.png', '0006R0_f03420.png', '0006R0_f03450.png', '0006R0_f03480.png', '0006R0_f03510.png', '0006R0_f03540.png', '0006R0_f03570.png', '0006R0_f03600.png', '0006R0_f03630.png', '0006R0_f03660.png', '0006R0_f03690.png', '0006R0_f03720.png', '0006R0_f03750.png', '0006R0_f03780.png', '0006R0_f03810.png', '0006R0_f03840.png', '0006R0_f03870.png', '0006R0_f03900.png', '0006R0_f03930.png', '0016E5_00390.png', '0016E5_00420.png', '0016E5_00450.png', '0016E5_00480.png', '0016E5_00510.png', '0016E5_00540.png', '0016E5_00570.png', '0016E5_00600.png', '0016E5_00630.png', '0016E5_00660.png', '0016E5_00690.png', '0016E5_00720.png', '0016E5_00750.png', '0016E5_00780.png', '0016E5_00810.png', '0016E5_00840.png', '0016E5_00870.png', '0016E5_00901.png', '0016E5_00930.png', '0016E5_00960.png', '0016E5_00990.png', '0016E5_01020.png', '0016E5_01050.png', '0016E5_01080.png', '0016E5_01110.png', '0016E5_01140.png', '0016E5_01170.png', '0016E5_01200.png', '0016E5_01230.png', '0016E5_01260.png', '0016E5_01290.png', '0016E5_01320.png', '0016E5_01350.png', '0016E5_01380.png', '0016E5_01410.png', '0016E5_01440.png', '0016E5_01470.png', '0016E5_01500.png', '0016E5_01530.png', '0016E5_01560.png', '0016E5_01590.png', '0016E5_01620.png', '0016E5_01650.png', '0016E5_01680.png', '0016E5_01710.png', '0016E5_01740.png', '0016E5_01770.png', '0016E5_01800.png', '0016E5_01830.png', '0016E5_01860.png', '0016E5_01890.png', '0016E5_01920.png', '0016E5_01950.png', '0016E5_01980.png', '0016E5_02010.png', '0016E5_02040.png', '0016E5_02070.png', '0016E5_02100.png', '0016E5_02130.png', '0016E5_02160.png', '0016E5_02190.png', '0016E5_02220.png', '0016E5_02250.png', '0016E5_02280.png', '0016E5_02310.png', '0016E5_02340.png', '0016E5_02370.png', '0016E5_02400.png', '0016E5_04350.png', '0016E5_04380.png', '0016E5_04410.png', '0016E5_04440.png', '0016E5_04470.png', '0016E5_04500.png', '0016E5_04530.png', '0016E5_04560.png', '0016E5_04590.png', '0016E5_04620.png', '0016E5_04650.png', '0016E5_04680.png', '0016E5_04710.png', '0016E5_04740.png', '0016E5_04770.png', '0016E5_04800.png', '0016E5_04830.png', '0016E5_04860.png', '0016E5_04890.png', '0016E5_04920.png', '0016E5_04950.png', '0016E5_04980.png', '0016E5_05010.png', '0016E5_05040.png', '0016E5_05070.png', '0016E5_05100.png', '0016E5_05130.png', '0016E5_05160.png', '0016E5_05190.png', '0016E5_05220.png', '0016E5_05250.png', '0016E5_05280.png', '0016E5_05310.png', '0016E5_05340.png', '0016E5_05370.png', '0016E5_05400.png', '0016E5_05430.png', '0016E5_05460.png', '0016E5_05490.png', '0016E5_05520.png', '0016E5_05550.png', '0016E5_05580.png', '0016E5_05610.png', '0016E5_05640.png', '0016E5_05670.png', '0016E5_05700.png', '0016E5_05730.png', '0016E5_05760.png', '0016E5_05790.png', '0016E5_05820.png', '0016E5_05850.png', '0016E5_05880.png', '0016E5_05910.png', '0016E5_05940.png', '0016E5_05970.png', '0016E5_06000.png', '0016E5_06030.png', '0016E5_06060.png', '0016E5_06090.png', '0016E5_06120.png', '0016E5_06150.png', '0016E5_06180.png', '0016E5_06210.png', '0016E5_06240.png', '0016E5_06270.png', '0016E5_06300.png', '0016E5_06330.png', '0016E5_06360.png', '0016E5_06390.png', '0016E5_06420.png', '0016E5_06450.png', '0016E5_06480.png', '0016E5_06510.png', '0016E5_06540.png', '0016E5_06570.png', '0016E5_06600.png', '0016E5_06630.png', '0016E5_06660.png', '0016E5_06690.png', '0016E5_06720.png', '0016E5_06750.png', '0016E5_06780.png', '0016E5_06810.png', '0016E5_06840.png', '0016E5_06870.png', '0016E5_06900.png', '0016E5_06930.png', '0016E5_06960.png', '0016E5_06990.png', '0016E5_07020.png', '0016E5_07050.png', '0016E5_07080.png', '0016E5_07110.png', '0016E5_07140.png', '0016E5_07170.png', '0016E5_07200.png', '0016E5_07230.png', '0016E5_07260.png', '0016E5_07290.png', '0016E5_07320.png', '0016E5_07350.png', '0016E5_07380.png', '0016E5_07410.png', '0016E5_07440.png', '0016E5_07470.png', '0016E5_07500.png', '0016E5_07530.png', '0016E5_07560.png', '0016E5_07590.png', '0016E5_07620.png', '0016E5_07650.png', '0016E5_07680.png', '0016E5_07710.png', '0016E5_07740.png', '0016E5_07770.png', '0016E5_07800.png', '0016E5_07830.png', '0016E5_07860.png', '0016E5_07890.png', '0016E5_07920.png', '0016E5_07959.png', '0016E5_07961.png', '0016E5_07963.png', '0016E5_07965.png', '0016E5_07967.png', '0016E5_07969.png', '0016E5_07971.png', '0016E5_07973.png', '0016E5_07975.png', '0016E5_07977.png', '0016E5_07979.png', '0016E5_07981.png', '0016E5_07983.png', '0016E5_07985.png', '0016E5_07987.png', '0016E5_07989.png', '0016E5_07991.png', '0016E5_07993.png', '0016E5_07995.png', '0016E5_07997.png', '0016E5_07999.png', '0016E5_08001.png', '0016E5_08003.png', '0016E5_08005.png', '0016E5_08007.png', '0016E5_08009.png', '0016E5_08011.png', '0016E5_08013.png', '0016E5_08015.png', '0016E5_08017.png', '0016E5_08019.png', '0016E5_08021.png', '0016E5_08023.png', '0016E5_08025.png', '0016E5_08027.png', '0016E5_08029.png', '0016E5_08031.png', '0016E5_08033.png', '0016E5_08035.png', '0016E5_08037.png', '0016E5_08039.png', '0016E5_08041.png', '0016E5_08043.png', '0016E5_08045.png', '0016E5_08047.png', '0016E5_08049.png', '0016E5_08051.png', '0016E5_08053.png', '0016E5_08055.png', '0016E5_08057.png', '0016E5_08059.png', '0016E5_08061.png', '0016E5_08063.png', '0016E5_08065.png', '0016E5_08067.png', '0016E5_08069.png', '0016E5_08071.png', '0016E5_08073.png', '0016E5_08075.png', '0016E5_08077.png', '0016E5_08079.png', '0016E5_08081.png', '0016E5_08083.png', '0016E5_08085.png', '0016E5_08087.png', '0016E5_08089.png', '0016E5_08091.png', '0016E5_08093.png', '0016E5_08095.png', '0016E5_08097.png', '0016E5_08099.png', '0016E5_08101.png', '0016E5_08103.png', '0016E5_08105.png', '0016E5_08107.png', '0016E5_08109.png', '0016E5_08111.png', '0016E5_08113.png', '0016E5_08115.png', '0016E5_08117.png', '0016E5_08119.png', '0016E5_08121.png', '0016E5_08123.png', '0016E5_08125.png', '0016E5_08127.png', '0016E5_08129.png', '0016E5_08131.png', '0016E5_08133.png', '0016E5_08135.png', '0016E5_08137.png', '0016E5_08139.png', '0016E5_08141.png', '0016E5_08143.png', '0016E5_08145.png', '0016E5_08147.png', '0016E5_08149.png', '0016E5_08151.png', '0016E5_08153.png', '0016E5_08155.png', '0016E5_08157.png', '0016E5_08159.png', '0016E5_08190.png', '0016E5_08220.png', '0016E5_08250.png', '0016E5_08280.png', '0016E5_08310.png', '0016E5_08340.png', '0016E5_08370.png', '0016E5_08400.png', '0016E5_08430.png', '0016E5_08460.png', '0016E5_08490.png', '0016E5_08520.png', '0016E5_08550.png', '0016E5_08580.png', '0016E5_08610.png', '0016E5_08640.png', 'Seq05VD_f00000.png', 'Seq05VD_f00030.png', 'Seq05VD_f00060.png', 'Seq05VD_f00090.png', 'Seq05VD_f00120.png', 'Seq05VD_f00150.png', 'Seq05VD_f00180.png', 'Seq05VD_f00210.png', 'Seq05VD_f00240.png', 'Seq05VD_f00270.png']\n",
      "['0001TP_006690_L.npy', '0001TP_006720_L.npy', '0001TP_006750_L.npy', '0001TP_006780_L.npy', '0001TP_006810_L.npy', '0001TP_006840_L.npy', '0001TP_006870_L.npy', '0001TP_006900_L.npy', '0001TP_006930_L.npy', '0001TP_006960_L.npy', '0001TP_006990_L.npy', '0001TP_007020_L.npy', '0001TP_007050_L.npy', '0001TP_007080_L.npy', '0001TP_007110_L.npy', '0001TP_007140_L.npy', '0001TP_007170_L.npy', '0001TP_007200_L.npy', '0001TP_007230_L.npy', '0001TP_007260_L.npy', '0001TP_007290_L.npy', '0001TP_007320_L.npy', '0001TP_007350_L.npy', '0001TP_007380_L.npy', '0001TP_007410_L.npy', '0001TP_007440_L.npy', '0001TP_007470_L.npy', '0001TP_007500_L.npy', '0001TP_007530_L.npy', '0001TP_007560_L.npy', '0001TP_007590_L.npy', '0001TP_007620_L.npy', '0001TP_007650_L.npy', '0001TP_007680_L.npy', '0001TP_007710_L.npy', '0001TP_007740_L.npy', '0001TP_007770_L.npy', '0001TP_007800_L.npy', '0001TP_007830_L.npy', '0001TP_007860_L.npy', '0001TP_007890_L.npy', '0001TP_007920_L.npy', '0001TP_007950_L.npy', '0001TP_007980_L.npy', '0001TP_008010_L.npy', '0001TP_008040_L.npy', '0001TP_008070_L.npy', '0001TP_008100_L.npy', '0001TP_008130_L.npy', '0001TP_008160_L.npy', '0001TP_008190_L.npy', '0001TP_008220_L.npy', '0001TP_008250_L.npy', '0001TP_008280_L.npy', '0001TP_008310_L.npy', '0001TP_008340_L.npy', '0001TP_008370_L.npy', '0001TP_008400_L.npy', '0001TP_008430_L.npy', '0001TP_008460_L.npy', '0001TP_008490_L.npy', '0001TP_008520_L.npy', '0001TP_008550_L.npy', '0001TP_008580_L.npy', '0001TP_008610_L.npy', '0001TP_008640_L.npy', '0001TP_008670_L.npy', '0001TP_008700_L.npy', '0001TP_008730_L.npy', '0001TP_008760_L.npy', '0001TP_008790_L.npy', '0001TP_008820_L.npy', '0001TP_008850_L.npy', '0001TP_008880_L.npy', '0001TP_008910_L.npy', '0001TP_008940_L.npy', '0001TP_008970_L.npy', '0001TP_009000_L.npy', '0001TP_009030_L.npy', '0001TP_009060_L.npy', '0001TP_009090_L.npy', '0001TP_009120_L.npy', '0001TP_009150_L.npy', '0001TP_009180_L.npy', '0001TP_009210_L.npy', '0001TP_009240_L.npy', '0001TP_009270_L.npy', '0001TP_009300_L.npy', '0001TP_009330_L.npy', '0001TP_009360_L.npy', '0001TP_009390_L.npy', '0001TP_009420_L.npy', '0001TP_009450_L.npy', '0001TP_009480_L.npy', '0001TP_009510_L.npy', '0001TP_009540_L.npy', '0001TP_009570_L.npy', '0001TP_009600_L.npy', '0001TP_009630_L.npy', '0001TP_009660_L.npy', '0001TP_009690_L.npy', '0001TP_009720_L.npy', '0001TP_009750_L.npy', '0001TP_009780_L.npy', '0001TP_009810_L.npy', '0001TP_009840_L.npy', '0001TP_009870_L.npy', '0001TP_009900_L.npy', '0001TP_009930_L.npy', '0001TP_009960_L.npy', '0001TP_009990_L.npy', '0001TP_010020_L.npy', '0001TP_010050_L.npy', '0001TP_010080_L.npy', '0001TP_010110_L.npy', '0001TP_010140_L.npy', '0001TP_010170_L.npy', '0001TP_010200_L.npy', '0001TP_010230_L.npy', '0001TP_010260_L.npy', '0001TP_010290_L.npy', '0001TP_010320_L.npy', '0001TP_010350_L.npy', '0001TP_010380_L.npy', '0006R0_f00930_L.npy', '0006R0_f00960_L.npy', '0006R0_f00990_L.npy', '0006R0_f01020_L.npy', '0006R0_f01050_L.npy', '0006R0_f01080_L.npy', '0006R0_f01110_L.npy', '0006R0_f01140_L.npy', '0006R0_f01170_L.npy', '0006R0_f01200_L.npy', '0006R0_f01230_L.npy', '0006R0_f01260_L.npy', '0006R0_f01290_L.npy', '0006R0_f01320_L.npy', '0006R0_f01350_L.npy', '0006R0_f01380_L.npy', '0006R0_f01410_L.npy', '0006R0_f01440_L.npy', '0006R0_f01470_L.npy', '0006R0_f01500_L.npy', '0006R0_f01530_L.npy', '0006R0_f01560_L.npy', '0006R0_f01590_L.npy', '0006R0_f01620_L.npy', '0006R0_f01650_L.npy', '0006R0_f01680_L.npy', '0006R0_f01710_L.npy', '0006R0_f01740_L.npy', '0006R0_f01770_L.npy', '0006R0_f01800_L.npy', '0006R0_f01830_L.npy', '0006R0_f01860_L.npy', '0006R0_f01890_L.npy', '0006R0_f01920_L.npy', '0006R0_f01950_L.npy', '0006R0_f01980_L.npy', '0006R0_f02010_L.npy', '0006R0_f02040_L.npy', '0006R0_f02070_L.npy', '0006R0_f02100_L.npy', '0006R0_f02130_L.npy', '0006R0_f02160_L.npy', '0006R0_f02190_L.npy', '0006R0_f02220_L.npy', '0006R0_f02250_L.npy', '0006R0_f02280_L.npy', '0006R0_f02310_L.npy', '0006R0_f02340_L.npy', '0006R0_f02370_L.npy', '0006R0_f02400_L.npy', '0006R0_f02430_L.npy', '0006R0_f02460_L.npy', '0006R0_f02490_L.npy', '0006R0_f02520_L.npy', '0006R0_f02550_L.npy', '0006R0_f02580_L.npy', '0006R0_f02610_L.npy', '0006R0_f02640_L.npy', '0006R0_f02670_L.npy', '0006R0_f02700_L.npy', '0006R0_f02730_L.npy', '0006R0_f02760_L.npy', '0006R0_f02790_L.npy', '0006R0_f02820_L.npy', '0006R0_f02850_L.npy', '0006R0_f02880_L.npy', '0006R0_f02910_L.npy', '0006R0_f02940_L.npy', '0006R0_f02970_L.npy', '0006R0_f03000_L.npy', '0006R0_f03030_L.npy', '0006R0_f03060_L.npy', '0006R0_f03090_L.npy', '0006R0_f03120_L.npy', '0006R0_f03150_L.npy', '0006R0_f03180_L.npy', '0006R0_f03210_L.npy', '0006R0_f03240_L.npy', '0006R0_f03270_L.npy', '0006R0_f03300_L.npy', '0006R0_f03330_L.npy', '0006R0_f03360_L.npy', '0006R0_f03390_L.npy', '0006R0_f03420_L.npy', '0006R0_f03450_L.npy', '0006R0_f03480_L.npy', '0006R0_f03510_L.npy', '0006R0_f03540_L.npy', '0006R0_f03570_L.npy', '0006R0_f03600_L.npy', '0006R0_f03630_L.npy', '0006R0_f03660_L.npy', '0006R0_f03690_L.npy', '0006R0_f03720_L.npy', '0006R0_f03750_L.npy', '0006R0_f03780_L.npy', '0006R0_f03810_L.npy', '0006R0_f03840_L.npy', '0006R0_f03870_L.npy', '0006R0_f03900_L.npy', '0006R0_f03930_L.npy', '0016E5_00390_L.npy', '0016E5_00420_L.npy', '0016E5_00450_L.npy', '0016E5_00480_L.npy', '0016E5_00510_L.npy', '0016E5_00540_L.npy', '0016E5_00570_L.npy', '0016E5_00600_L.npy', '0016E5_00630_L.npy', '0016E5_00660_L.npy', '0016E5_00690_L.npy', '0016E5_00720_L.npy', '0016E5_00750_L.npy', '0016E5_00780_L.npy', '0016E5_00810_L.npy', '0016E5_00840_L.npy', '0016E5_00870_L.npy', '0016E5_00901_L.npy', '0016E5_00930_L.npy', '0016E5_00960_L.npy', '0016E5_00990_L.npy', '0016E5_01020_L.npy', '0016E5_01050_L.npy', '0016E5_01080_L.npy', '0016E5_01110_L.npy', '0016E5_01140_L.npy', '0016E5_01170_L.npy', '0016E5_01200_L.npy', '0016E5_01230_L.npy', '0016E5_01260_L.npy', '0016E5_01290_L.npy', '0016E5_01320_L.npy', '0016E5_01350_L.npy', '0016E5_01380_L.npy', '0016E5_01410_L.npy', '0016E5_01440_L.npy', '0016E5_01470_L.npy', '0016E5_01500_L.npy', '0016E5_01530_L.npy', '0016E5_01560_L.npy', '0016E5_01590_L.npy', '0016E5_01620_L.npy', '0016E5_01650_L.npy', '0016E5_01680_L.npy', '0016E5_01710_L.npy', '0016E5_01740_L.npy', '0016E5_01770_L.npy', '0016E5_01800_L.npy', '0016E5_01830_L.npy', '0016E5_01860_L.npy', '0016E5_01890_L.npy', '0016E5_01920_L.npy', '0016E5_01950_L.npy', '0016E5_01980_L.npy', '0016E5_02010_L.npy', '0016E5_02040_L.npy', '0016E5_02070_L.npy', '0016E5_02100_L.npy', '0016E5_02130_L.npy', '0016E5_02160_L.npy', '0016E5_02190_L.npy', '0016E5_02220_L.npy', '0016E5_02250_L.npy', '0016E5_02280_L.npy', '0016E5_02310_L.npy', '0016E5_02340_L.npy', '0016E5_02370_L.npy', '0016E5_02400_L.npy', '0016E5_04350_L.npy', '0016E5_04380_L.npy', '0016E5_04410_L.npy', '0016E5_04440_L.npy', '0016E5_04470_L.npy', '0016E5_04500_L.npy', '0016E5_04530_L.npy', '0016E5_04560_L.npy', '0016E5_04590_L.npy', '0016E5_04620_L.npy', '0016E5_04650_L.npy', '0016E5_04680_L.npy', '0016E5_04710_L.npy', '0016E5_04740_L.npy', '0016E5_04770_L.npy', '0016E5_04800_L.npy', '0016E5_04830_L.npy', '0016E5_04860_L.npy', '0016E5_04890_L.npy', '0016E5_04920_L.npy', '0016E5_04950_L.npy', '0016E5_04980_L.npy', '0016E5_05010_L.npy', '0016E5_05040_L.npy', '0016E5_05070_L.npy', '0016E5_05100_L.npy', '0016E5_05130_L.npy', '0016E5_05160_L.npy', '0016E5_05190_L.npy', '0016E5_05220_L.npy', '0016E5_05250_L.npy', '0016E5_05280_L.npy', '0016E5_05310_L.npy', '0016E5_05340_L.npy', '0016E5_05370_L.npy', '0016E5_05400_L.npy', '0016E5_05430_L.npy', '0016E5_05460_L.npy', '0016E5_05490_L.npy', '0016E5_05520_L.npy', '0016E5_05550_L.npy', '0016E5_05580_L.npy', '0016E5_05610_L.npy', '0016E5_05640_L.npy', '0016E5_05670_L.npy', '0016E5_05700_L.npy', '0016E5_05730_L.npy', '0016E5_05760_L.npy', '0016E5_05790_L.npy', '0016E5_05820_L.npy', '0016E5_05850_L.npy', '0016E5_05880_L.npy', '0016E5_05910_L.npy', '0016E5_05940_L.npy', '0016E5_05970_L.npy', '0016E5_06000_L.npy', '0016E5_06030_L.npy', '0016E5_06060_L.npy', '0016E5_06090_L.npy', '0016E5_06120_L.npy', '0016E5_06150_L.npy', '0016E5_06180_L.npy', '0016E5_06210_L.npy', '0016E5_06240_L.npy', '0016E5_06270_L.npy', '0016E5_06300_L.npy', '0016E5_06330_L.npy', '0016E5_06360_L.npy', '0016E5_06390_L.npy', '0016E5_06420_L.npy', '0016E5_06450_L.npy', '0016E5_06480_L.npy', '0016E5_06510_L.npy', '0016E5_06540_L.npy', '0016E5_06570_L.npy', '0016E5_06600_L.npy', '0016E5_06630_L.npy', '0016E5_06660_L.npy', '0016E5_06690_L.npy', '0016E5_06720_L.npy', '0016E5_06750_L.npy', '0016E5_06780_L.npy', '0016E5_06810_L.npy', '0016E5_06840_L.npy', '0016E5_06870_L.npy', '0016E5_06900_L.npy', '0016E5_06930_L.npy', '0016E5_06960_L.npy', '0016E5_06990_L.npy', '0016E5_07020_L.npy', '0016E5_07050_L.npy', '0016E5_07080_L.npy', '0016E5_07110_L.npy', '0016E5_07140_L.npy', '0016E5_07170_L.npy', '0016E5_07200_L.npy', '0016E5_07230_L.npy', '0016E5_07260_L.npy', '0016E5_07290_L.npy', '0016E5_07320_L.npy', '0016E5_07350_L.npy', '0016E5_07380_L.npy', '0016E5_07410_L.npy', '0016E5_07440_L.npy', '0016E5_07470_L.npy', '0016E5_07500_L.npy', '0016E5_07530_L.npy', '0016E5_07560_L.npy', '0016E5_07590_L.npy', '0016E5_07620_L.npy', '0016E5_07650_L.npy', '0016E5_07680_L.npy', '0016E5_07710_L.npy', '0016E5_07740_L.npy', '0016E5_07770_L.npy', '0016E5_07800_L.npy', '0016E5_07830_L.npy', '0016E5_07860_L.npy', '0016E5_07890_L.npy', '0016E5_07920_L.npy', '0016E5_07959_L.npy', '0016E5_07961_L.npy', '0016E5_07963_L.npy', '0016E5_07965_L.npy', '0016E5_07967_L.npy', '0016E5_07969_L.npy', '0016E5_07971_L.npy', '0016E5_07973_L.npy', '0016E5_07975_L.npy', '0016E5_07977_L.npy', '0016E5_07979_L.npy', '0016E5_07981_L.npy', '0016E5_07983_L.npy', '0016E5_07985_L.npy', '0016E5_07987_L.npy', '0016E5_07989_L.npy', '0016E5_07991_L.npy', '0016E5_07993_L.npy', '0016E5_07995_L.npy', '0016E5_07997_L.npy', '0016E5_07999_L.npy', '0016E5_08001_L.npy', '0016E5_08003_L.npy', '0016E5_08005_L.npy', '0016E5_08007_L.npy', '0016E5_08009_L.npy', '0016E5_08011_L.npy', '0016E5_08013_L.npy', '0016E5_08015_L.npy', '0016E5_08017_L.npy', '0016E5_08019_L.npy', '0016E5_08021_L.npy', '0016E5_08023_L.npy', '0016E5_08025_L.npy', '0016E5_08027_L.npy', '0016E5_08029_L.npy', '0016E5_08031_L.npy', '0016E5_08033_L.npy', '0016E5_08035_L.npy', '0016E5_08037_L.npy', '0016E5_08039_L.npy', '0016E5_08041_L.npy', '0016E5_08043_L.npy', '0016E5_08045_L.npy', '0016E5_08047_L.npy', '0016E5_08049_L.npy', '0016E5_08051_L.npy', '0016E5_08053_L.npy', '0016E5_08055_L.npy', '0016E5_08057_L.npy', '0016E5_08059_L.npy', '0016E5_08061_L.npy', '0016E5_08063_L.npy', '0016E5_08065_L.npy', '0016E5_08067_L.npy', '0016E5_08069_L.npy', '0016E5_08071_L.npy', '0016E5_08073_L.npy', '0016E5_08075_L.npy', '0016E5_08077_L.npy', '0016E5_08079_L.npy', '0016E5_08081_L.npy', '0016E5_08083_L.npy', '0016E5_08085_L.npy', '0016E5_08087_L.npy', '0016E5_08089_L.npy', '0016E5_08091_L.npy', '0016E5_08093_L.npy', '0016E5_08095_L.npy', '0016E5_08097_L.npy', '0016E5_08099_L.npy', '0016E5_08101_L.npy', '0016E5_08103_L.npy', '0016E5_08105_L.npy', '0016E5_08107_L.npy', '0016E5_08109_L.npy', '0016E5_08111_L.npy', '0016E5_08113_L.npy', '0016E5_08115_L.npy', '0016E5_08117_L.npy', '0016E5_08119_L.npy', '0016E5_08121_L.npy', '0016E5_08123_L.npy', '0016E5_08125_L.npy', '0016E5_08127_L.npy', '0016E5_08129_L.npy', '0016E5_08131_L.npy', '0016E5_08133_L.npy', '0016E5_08135_L.npy', '0016E5_08137_L.npy', '0016E5_08139_L.npy', '0016E5_08141_L.npy', '0016E5_08143_L.npy', '0016E5_08145_L.npy', '0016E5_08147_L.npy', '0016E5_08149_L.npy', '0016E5_08151_L.npy', '0016E5_08153_L.npy', '0016E5_08155_L.npy', '0016E5_08157_L.npy', '0016E5_08159_L.npy', '0016E5_08190_L.npy', '0016E5_08220_L.npy', '0016E5_08250_L.npy', '0016E5_08280_L.npy', '0016E5_08310_L.npy', '0016E5_08340_L.npy', '0016E5_08370_L.npy', '0016E5_08400_L.npy', '0016E5_08430_L.npy', '0016E5_08460_L.npy', '0016E5_08490_L.npy', '0016E5_08520_L.npy', '0016E5_08550_L.npy', '0016E5_08580_L.npy', '0016E5_08610_L.npy', '0016E5_08640_L.npy', 'Seq05VD_f00000_L.npy', 'Seq05VD_f00030_L.npy', 'Seq05VD_f00060_L.npy', 'Seq05VD_f00090_L.npy', 'Seq05VD_f00120_L.npy', 'Seq05VD_f00150_L.npy', 'Seq05VD_f00180_L.npy', 'Seq05VD_f00210_L.npy', 'Seq05VD_f00240_L.npy', 'Seq05VD_f00270_L.npy']\n"
     ]
    },
    {
     "data": {
      "image/png": "[encoded data removed]",
      "text/plain": [
       "<Figure size 1000x500 with 2 Axes>"
      ]
     },
     "metadata": {},
     "output_type": "display_data"
    }
   ],
   "source": [
    "import matplotlib.pyplot as plt\n",
    "import numpy as np\n",
    "\n",
    "# 选择一个索引进行可视化\n",
    "idx = 24  # 你可以修改这个索引\n",
    "\n",
    "# 获取数据\n",
    "image, label = camvid_dataset[idx]\n",
    "\n",
    "# 转换回 numpy 格式以便于可视化\n",
    "image_np = image.permute(1, 2, 0).numpy()  # [C, H, W] -> [H, W, C]\n",
    "label_np = label.numpy()  # [H, W] 或者 [1, H, W]\n",
    "\n",
    "# 画图\n",
    "plt.figure(figsize=(10, 5))\n",
    "\n",
    "# 显示原始图像\n",
    "plt.subplot(1, 2, 1)\n",
    "plt.imshow(image_np)\n",
    "plt.title(\"Input Image\")\n",
    "plt.axis(\"off\")\n",
    "\n",
    "# 显示标签\n",
    "plt.subplot(1, 2, 2)\n",
    "plt.imshow(label_np, cmap=\"jet\")  # 语义分割一般用 `jet` 或 `gray` 显示\n",
    "plt.title(\"Segmentation Label\")\n",
    "plt.axis(\"off\")\n",
    "\n",
    "plt.show()"
   ]
  },
  {
   "cell_type": "code",
   "execution_count": 17,
   "metadata": {},
   "outputs": [
    {
     "name": "stderr",
     "output_type": "stream",
     "text": [
      "/tmp/ipykernel_3031745/1318226827.py:12: FutureWarning: You are using `torch.load` with `weights_only=False` (the current default value), which uses the default pickle module implicitly. It is possible to construct malicious pickle data which will execute arbitrary code during unpickling (See https://github.com/pytorch/pytorch/blob/main/SECURITY.md#untrusted-models for more details). In a future release, the default value for `weights_only` will be flipped to `True`. This limits the functions that could be executed during unpickling. Arbitrary objects will no longer be allowed to be loaded via this mode unless they are explicitly allowlisted by the user via `torch.serialization.add_safe_globals`. We recommend you start setting `weights_only=True` for any use case where you don't have full control of the loaded file. Please open an issue on GitHub for any issues related to this experimental feature.\n",
      "  model.load_state_dict(torch.load(\"/home/sugon/zpy/U-NET/U-net/train_results/from100/vgg16_unet_epoch_375.pth\", map_location=device))\n"
     ]
    },
    {
     "name": "stdout",
     "output_type": "stream",
     "text": [
      "torch.Size([1, 11, 720, 960])\n",
      "pred cost:  0.10819554328918457\n"
     ]
    },
    {
     "data": {
      "image/png": "[encoded data removed]",
      "text/plain": [
       "<Figure size 1000x1000 with 3 Axes>"
      ]
     },
     "metadata": {},
     "output_type": "display_data"
    }
   ],
   "source": [
    "import torch\n",
    "import torchvision.transforms as transforms\n",
    "import matplotlib.pyplot as plt\n",
    "from PIL import Image\n",
    "import numpy as np\n",
    "from time import time\n",
    "# 设备设置\n",
    "device = torch.device(\"cuda\" if torch.cuda.is_available() else \"cpu\")\n",
    "\n",
    "# 载入模型\n",
    "model = VGG16UNet(num_classes=11).to(device)\n",
    "model.load_state_dict(torch.load(\"/home/sugon/zpy/U-NET/U-net/train_results/from100/vgg16_unet_epoch_375.pth\", map_location=device))\n",
    "model.eval()\n",
    "\n",
    "\n",
    "# 预处理函数\n",
    "transform = transforms.Compose([\n",
    "    # transforms.Resize((128, 128)),\n",
    "    transforms.ToTensor()\n",
    "])\n",
    "\n",
    "# 读取图片\n",
    "image_path = \"/home/sugon/zpy/U-NET/U-net/unet_data/test/Seq05VD_f05040.png\"\n",
    "image = Image.open(image_path).convert(\"RGB\")\n",
    "input_tensor = transform(image).unsqueeze(0).to(device)  # 增加batch维度\n",
    "\n",
    "ground_truth_path = \"/home/sugon/zpy/U-NET/U-net/unet_data/testannot/Seq05VD_f05040_L.png\"\n",
    "ground_truth = Image.open(ground_truth_path)\n",
    "\n",
    "time1 = time()\n",
    "# 进行推理\n",
    "with torch.no_grad():\n",
    "    output = model(input_tensor)\n",
    "print(output.shape)\n",
    "\n",
    "pred = output.detach().cpu().numpy() # detach(): 不需要梯度信息\n",
    "pred_class = np.argmax(pred, axis=1)  # 沿类别维度取argmax\n",
    "time2 = time()\n",
    "print(\"pred cost: \", time2-time1)\n",
    "\n",
    "colormap = [\n",
    "    (128, 128, 128),  # Sky\n",
    "    (128, 0, 0),      # Building\n",
    "    (192, 192, 128),  # Column_Pole\n",
    "    (128, 64, 128),   # Road\n",
    "    (0, 0, 192),      # Sidewalk\n",
    "    (128, 128, 0),    # Tree\n",
    "    (64, 64, 128),    # Fence\n",
    "    (64, 0, 128),     # Car\n",
    "    (64, 64, 0),      # Pedestrian\n",
    "    (0, 128, 192),    # Bicyclist\n",
    "    (192, 128, 128)   # SignSymbol\n",
    "]\n",
    "\n",
    "h, w = pred_class.shape[-2:]\n",
    "color_mask = np.zeros((h, w, 3), dtype=np.uint8)\n",
    "for class_idx in range(len(colormap)):\n",
    "    color_mask[pred_class[0] == class_idx] = colormap[class_idx]\n",
    "\n",
    "# print(color_mask.shape)\n",
    "plt.figure(figsize=(10, 10))\n",
    "plt.subplot(1,3,1)\n",
    "plt.imshow(image)\n",
    "plt.title('Original Image')\n",
    "plt.axis('off')\n",
    "\n",
    "plt.subplot(1,3,2)\n",
    "plt.imshow(color_mask)\n",
    "plt.title('Segmentation Result')\n",
    "plt.axis('off')\n",
    "\n",
    "plt.subplot(1,3,3)\n",
    "plt.imshow(ground_truth)\n",
    "plt.title('ground_truth')\n",
    "plt.axis('off')\n",
    "plt.show()"
   ]
  },
  {
   "cell_type": "code",
   "execution_count": 47,
   "metadata": {},
   "outputs": [
    {
     "name": "stdout",
     "output_type": "stream",
     "text": [
      "[[ 3  4  2 ...  1  2  4]\n",
      " [ 8  1  6 ...  1  3  0]\n",
      " [ 3  1  8 ... 10  7  4]\n",
      " ...\n",
      " [10  7 10 ...  6  0  1]\n",
      " [ 3  7  1 ...  8  5  2]\n",
      " [ 1  9  3 ...  0  6  5]] (720, 960)\n"
     ]
    }
   ],
   "source": [
    "a = torch.randn(11, 720, 960)\n",
    "result = torch.argmax(a, dim=0).numpy()\n",
    "print(result, result.shape)"
   ]
  },
  {
   "cell_type": "code",
   "execution_count": 81,
   "metadata": {},
   "outputs": [
    {
     "data": {
      "text/plain": [
       "[<matplotlib.lines.Line2D at 0x7fc581ced880>]"
      ]
     },
     "execution_count": 81,
     "metadata": {},
     "output_type": "execute_result"
    },
    {
     "data": {
      "image/png": "[encoded data removed]",
      "text/plain": [
       "<Figure size 3000x1000 with 3 Axes>"
      ]
     },
     "metadata": {},
     "output_type": "display_data"
    }
   ],
   "source": [
    "epochlist = [i for i in range(1, 101)]\n",
    "plt.figure(figsize=(30, 10))\n",
    "plt.subplot(1,3,1)\n",
    "plt.plot(epochlist, loss_summary)\n",
    "plt.subplot(1,3,2)\n",
    "plt.plot(epochlist, accuracy_summary)\n",
    "plt.subplot(1,3,3)\n",
    "plt.plot(epochlist, iou_summary)\n",
    "\n"
   ]
  },
  {
   "cell_type": "code",
   "execution_count": 15,
   "metadata": {},
   "outputs": [],
   "source": [
    "# 保存模型\n",
    "save_dir = \"/home/sugon/zpy/U-NET/U-net/train_results/from100/\"\n",
    "save_path = os.path.join(save_dir, f\"vgg16_unet_epoch_{epoch+1}.pth\")\n",
    "\n",
    "torch.save(model.state_dict(), save_path)"
   ]
  },
  {
   "cell_type": "code",
   "execution_count": null,
   "metadata": {},
   "outputs": [],
   "source": []
  }
 ],
 "metadata": {
  "kernelspec": {
   "display_name": "zpy",
   "language": "python",
   "name": "python3"
  },
  "language_info": {
   "codemirror_mode": {
    "name": "ipython",
    "version": 3
   },
   "file_extension": ".py",
   "mimetype": "text/x-python",
   "name": "python",
   "nbconvert_exporter": "python",
   "pygments_lexer": "ipython3",
   "version": "3.9.12"
  },
  "orig_nbformat": 4
 },
 "nbformat": 4,
 "nbformat_minor": 2
}
